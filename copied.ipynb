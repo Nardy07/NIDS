{
  "nbformat": 4,
  "nbformat_minor": 0,
  "metadata": {
    "colab": {
      "provenance": [],
      "gpuType": "T4",
      "authorship_tag": "ABX9TyNp/ny922GRVROXyz7Kk/d+",
      "include_colab_link": true
    },
    "kernelspec": {
      "name": "python3",
      "display_name": "Python 3"
    },
    "language_info": {
      "name": "python"
    },
    "accelerator": "GPU"
  },
  "cells": [
    {
      "cell_type": "markdown",
      "metadata": {
        "id": "view-in-github",
        "colab_type": "text"
      },
      "source": [
        "<a href=\"https://colab.research.google.com/github/Nardy07/NIDS/blob/main/copied.ipynb\" target=\"_parent\"><img src=\"https://colab.research.google.com/assets/colab-badge.svg\" alt=\"Open In Colab\"/></a>"
      ]
    },
    {
      "cell_type": "code",
      "execution_count": null,
      "metadata": {
        "id": "TtSbH6HEXj9Z"
      },
      "outputs": [],
      "source": [
        "#importing required libraries\n",
        "import numpy as np\n",
        "import pandas as pd\n",
        "from sklearn.calibration import LabelEncoder\n",
        "import tensorflow as tf\n",
        "from sklearn.preprocessing import StandardScaler,MinMaxScaler\n",
        "from sklearn.model_selection import train_test_split\n",
        "from sklearn.metrics import classification_report, confusion_matrix\n",
        "from keras.models import Sequential,save_model\n",
        "from keras.layers import LSTM, Dense, Dropout,Embedding, SpatialDropout1D\n",
        "from keras.callbacks import EarlyStopping\n",
        "from keras.utils import to_categorical\n",
        "from sklearn.utils import class_weight"
      ]
    },
    {
      "cell_type": "code",
      "source": [
        "data = pd.read_csv('X_try2.csv')\n",
        "labels = pd.read_csv('Y_try2.csv')"
      ],
      "metadata": {
        "id": "2aziuvoIfWsg"
      },
      "execution_count": null,
      "outputs": []
    },
    {
      "cell_type": "code",
      "source": [
        "data"
      ],
      "metadata": {
        "colab": {
          "base_uri": "https://localhost:8080/",
          "height": 444
        },
        "id": "BqqKmXKtOEnB",
        "outputId": "90538c50-f10c-4c69-9539-919fa58fd66d"
      },
      "execution_count": null,
      "outputs": [
        {
          "output_type": "execute_result",
          "data": {
            "text/plain": [
              "        Src_Port  Dst_Port  Protocol  Flow_Duration  Tot_Bwd_Pkts  \\\n",
              "0       0.001221  0.703154  0.352941       0.000666      0.000176   \n",
              "1       0.000000  0.000000  0.000000       0.000003      0.000029   \n",
              "2       0.817852  0.007263  0.352941       0.126229      0.000264   \n",
              "3       0.006762  0.606446  0.352941       0.000197      0.000000   \n",
              "4       0.000000  0.000000  0.000000       0.000001      0.000029   \n",
              "...          ...       ...       ...            ...           ...   \n",
              "203705  0.000000  0.000000  0.000000       0.000001      0.000029   \n",
              "203706  0.000000  0.000000  0.000000       0.000001      0.000029   \n",
              "203707  0.000000  0.000000  0.000000       0.000001      0.000029   \n",
              "203708  0.531106  0.076839  0.352941       0.000001      0.000029   \n",
              "203709  0.000000  0.000000  0.000000       0.000001      0.000029   \n",
              "\n",
              "        TotLen_Fwd_Pkts  Fwd_Pkt_Len_Mean  Bwd_Pkt_Len_Max  Bwd_Pkt_Len_Mean  \\\n",
              "0          9.493671e-07          0.000311         0.000467          0.000189   \n",
              "1          0.000000e+00          0.000000         0.000000          0.000000   \n",
              "2          6.582278e-05          0.008095         0.027117          0.008429   \n",
              "3          0.000000e+00          0.000000         0.000000          0.000000   \n",
              "4          0.000000e+00          0.000000         0.000000          0.000000   \n",
              "...                 ...               ...              ...               ...   \n",
              "203705     0.000000e+00          0.000000         0.000000          0.000000   \n",
              "203706     0.000000e+00          0.000000         0.000000          0.000000   \n",
              "203707     0.000000e+00          0.000000         0.000000          0.000000   \n",
              "203708     0.000000e+00          0.000000         0.000000          0.000000   \n",
              "203709     0.000000e+00          0.000000         0.000000          0.000000   \n",
              "\n",
              "        Bwd_IAT_Tot  ...  Pkt_Len_Max  Pkt_Len_Mean  Pkt_Len_Std  \\\n",
              "0          0.000666  ...     0.000467      0.000297     0.000387   \n",
              "1          0.000003  ...     0.000000      0.000000     0.000000   \n",
              "2          0.125834  ...     0.027117      0.011442     0.016427   \n",
              "3          0.000001  ...     0.000000      0.000000     0.000000   \n",
              "4          0.000001  ...     0.000000      0.000000     0.000000   \n",
              "...             ...  ...          ...           ...          ...   \n",
              "203705     0.000001  ...     0.000000      0.000000     0.000000   \n",
              "203706     0.000001  ...     0.000000      0.000000     0.000000   \n",
              "203707     0.000001  ...     0.000000      0.000000     0.000000   \n",
              "203708     0.000001  ...     0.000000      0.000000     0.000000   \n",
              "203709     0.000001  ...     0.000000      0.000000     0.000000   \n",
              "\n",
              "         Pkt_Len_Var  SYN_Flag_Cnt  Pkt_Size_Avg  Fwd_Seg_Size_Avg  \\\n",
              "0       1.498197e-07           0.0      0.000280          0.000311   \n",
              "1       0.000000e+00           0.0      0.000000          0.000000   \n",
              "2       2.697201e-04           1.0      0.010352          0.008095   \n",
              "3       0.000000e+00           0.0      0.000000          0.000000   \n",
              "4       0.000000e+00           0.0      0.000000          0.000000   \n",
              "...              ...           ...           ...               ...   \n",
              "203705  0.000000e+00           0.0      0.000000          0.000000   \n",
              "203706  0.000000e+00           0.0      0.000000          0.000000   \n",
              "203707  0.000000e+00           0.0      0.000000          0.000000   \n",
              "203708  0.000000e+00           1.0      0.000000          0.000000   \n",
              "203709  0.000000e+00           0.0      0.000000          0.000000   \n",
              "\n",
              "        Subflow_Fwd_Byts  Subflow_Bwd_Byts  Init_Bwd_Win_Byts  \n",
              "0           9.504153e-07      2.792203e-07           0.000977  \n",
              "1           0.000000e+00      0.000000e+00           0.000000  \n",
              "2           6.589546e-05      1.777703e-05           0.980240  \n",
              "3           0.000000e+00      0.000000e+00           0.980240  \n",
              "4           0.000000e+00      0.000000e+00           0.000000  \n",
              "...                  ...               ...                ...  \n",
              "203705      0.000000e+00      0.000000e+00           0.000000  \n",
              "203706      0.000000e+00      0.000000e+00           0.000000  \n",
              "203707      0.000000e+00      0.000000e+00           0.000000  \n",
              "203708      0.000000e+00      0.000000e+00           0.000015  \n",
              "203709      0.000000e+00      0.000000e+00           0.000000  \n",
              "\n",
              "[203710 rows x 25 columns]"
            ],
            "text/html": [
              "\n",
              "  <div id=\"df-d15c72db-0b6f-4ef5-9ea8-73a6183b7521\" class=\"colab-df-container\">\n",
              "    <div>\n",
              "<style scoped>\n",
              "    .dataframe tbody tr th:only-of-type {\n",
              "        vertical-align: middle;\n",
              "    }\n",
              "\n",
              "    .dataframe tbody tr th {\n",
              "        vertical-align: top;\n",
              "    }\n",
              "\n",
              "    .dataframe thead th {\n",
              "        text-align: right;\n",
              "    }\n",
              "</style>\n",
              "<table border=\"1\" class=\"dataframe\">\n",
              "  <thead>\n",
              "    <tr style=\"text-align: right;\">\n",
              "      <th></th>\n",
              "      <th>Src_Port</th>\n",
              "      <th>Dst_Port</th>\n",
              "      <th>Protocol</th>\n",
              "      <th>Flow_Duration</th>\n",
              "      <th>Tot_Bwd_Pkts</th>\n",
              "      <th>TotLen_Fwd_Pkts</th>\n",
              "      <th>Fwd_Pkt_Len_Mean</th>\n",
              "      <th>Bwd_Pkt_Len_Max</th>\n",
              "      <th>Bwd_Pkt_Len_Mean</th>\n",
              "      <th>Bwd_IAT_Tot</th>\n",
              "      <th>...</th>\n",
              "      <th>Pkt_Len_Max</th>\n",
              "      <th>Pkt_Len_Mean</th>\n",
              "      <th>Pkt_Len_Std</th>\n",
              "      <th>Pkt_Len_Var</th>\n",
              "      <th>SYN_Flag_Cnt</th>\n",
              "      <th>Pkt_Size_Avg</th>\n",
              "      <th>Fwd_Seg_Size_Avg</th>\n",
              "      <th>Subflow_Fwd_Byts</th>\n",
              "      <th>Subflow_Bwd_Byts</th>\n",
              "      <th>Init_Bwd_Win_Byts</th>\n",
              "    </tr>\n",
              "  </thead>\n",
              "  <tbody>\n",
              "    <tr>\n",
              "      <th>0</th>\n",
              "      <td>0.001221</td>\n",
              "      <td>0.703154</td>\n",
              "      <td>0.352941</td>\n",
              "      <td>0.000666</td>\n",
              "      <td>0.000176</td>\n",
              "      <td>9.493671e-07</td>\n",
              "      <td>0.000311</td>\n",
              "      <td>0.000467</td>\n",
              "      <td>0.000189</td>\n",
              "      <td>0.000666</td>\n",
              "      <td>...</td>\n",
              "      <td>0.000467</td>\n",
              "      <td>0.000297</td>\n",
              "      <td>0.000387</td>\n",
              "      <td>1.498197e-07</td>\n",
              "      <td>0.0</td>\n",
              "      <td>0.000280</td>\n",
              "      <td>0.000311</td>\n",
              "      <td>9.504153e-07</td>\n",
              "      <td>2.792203e-07</td>\n",
              "      <td>0.000977</td>\n",
              "    </tr>\n",
              "    <tr>\n",
              "      <th>1</th>\n",
              "      <td>0.000000</td>\n",
              "      <td>0.000000</td>\n",
              "      <td>0.000000</td>\n",
              "      <td>0.000003</td>\n",
              "      <td>0.000029</td>\n",
              "      <td>0.000000e+00</td>\n",
              "      <td>0.000000</td>\n",
              "      <td>0.000000</td>\n",
              "      <td>0.000000</td>\n",
              "      <td>0.000003</td>\n",
              "      <td>...</td>\n",
              "      <td>0.000000</td>\n",
              "      <td>0.000000</td>\n",
              "      <td>0.000000</td>\n",
              "      <td>0.000000e+00</td>\n",
              "      <td>0.0</td>\n",
              "      <td>0.000000</td>\n",
              "      <td>0.000000</td>\n",
              "      <td>0.000000e+00</td>\n",
              "      <td>0.000000e+00</td>\n",
              "      <td>0.000000</td>\n",
              "    </tr>\n",
              "    <tr>\n",
              "      <th>2</th>\n",
              "      <td>0.817852</td>\n",
              "      <td>0.007263</td>\n",
              "      <td>0.352941</td>\n",
              "      <td>0.126229</td>\n",
              "      <td>0.000264</td>\n",
              "      <td>6.582278e-05</td>\n",
              "      <td>0.008095</td>\n",
              "      <td>0.027117</td>\n",
              "      <td>0.008429</td>\n",
              "      <td>0.125834</td>\n",
              "      <td>...</td>\n",
              "      <td>0.027117</td>\n",
              "      <td>0.011442</td>\n",
              "      <td>0.016427</td>\n",
              "      <td>2.697201e-04</td>\n",
              "      <td>1.0</td>\n",
              "      <td>0.010352</td>\n",
              "      <td>0.008095</td>\n",
              "      <td>6.589546e-05</td>\n",
              "      <td>1.777703e-05</td>\n",
              "      <td>0.980240</td>\n",
              "    </tr>\n",
              "    <tr>\n",
              "      <th>3</th>\n",
              "      <td>0.006762</td>\n",
              "      <td>0.606446</td>\n",
              "      <td>0.352941</td>\n",
              "      <td>0.000197</td>\n",
              "      <td>0.000000</td>\n",
              "      <td>0.000000e+00</td>\n",
              "      <td>0.000000</td>\n",
              "      <td>0.000000</td>\n",
              "      <td>0.000000</td>\n",
              "      <td>0.000001</td>\n",
              "      <td>...</td>\n",
              "      <td>0.000000</td>\n",
              "      <td>0.000000</td>\n",
              "      <td>0.000000</td>\n",
              "      <td>0.000000e+00</td>\n",
              "      <td>0.0</td>\n",
              "      <td>0.000000</td>\n",
              "      <td>0.000000</td>\n",
              "      <td>0.000000e+00</td>\n",
              "      <td>0.000000e+00</td>\n",
              "      <td>0.980240</td>\n",
              "    </tr>\n",
              "    <tr>\n",
              "      <th>4</th>\n",
              "      <td>0.000000</td>\n",
              "      <td>0.000000</td>\n",
              "      <td>0.000000</td>\n",
              "      <td>0.000001</td>\n",
              "      <td>0.000029</td>\n",
              "      <td>0.000000e+00</td>\n",
              "      <td>0.000000</td>\n",
              "      <td>0.000000</td>\n",
              "      <td>0.000000</td>\n",
              "      <td>0.000001</td>\n",
              "      <td>...</td>\n",
              "      <td>0.000000</td>\n",
              "      <td>0.000000</td>\n",
              "      <td>0.000000</td>\n",
              "      <td>0.000000e+00</td>\n",
              "      <td>0.0</td>\n",
              "      <td>0.000000</td>\n",
              "      <td>0.000000</td>\n",
              "      <td>0.000000e+00</td>\n",
              "      <td>0.000000e+00</td>\n",
              "      <td>0.000000</td>\n",
              "    </tr>\n",
              "    <tr>\n",
              "      <th>...</th>\n",
              "      <td>...</td>\n",
              "      <td>...</td>\n",
              "      <td>...</td>\n",
              "      <td>...</td>\n",
              "      <td>...</td>\n",
              "      <td>...</td>\n",
              "      <td>...</td>\n",
              "      <td>...</td>\n",
              "      <td>...</td>\n",
              "      <td>...</td>\n",
              "      <td>...</td>\n",
              "      <td>...</td>\n",
              "      <td>...</td>\n",
              "      <td>...</td>\n",
              "      <td>...</td>\n",
              "      <td>...</td>\n",
              "      <td>...</td>\n",
              "      <td>...</td>\n",
              "      <td>...</td>\n",
              "      <td>...</td>\n",
              "      <td>...</td>\n",
              "    </tr>\n",
              "    <tr>\n",
              "      <th>203705</th>\n",
              "      <td>0.000000</td>\n",
              "      <td>0.000000</td>\n",
              "      <td>0.000000</td>\n",
              "      <td>0.000001</td>\n",
              "      <td>0.000029</td>\n",
              "      <td>0.000000e+00</td>\n",
              "      <td>0.000000</td>\n",
              "      <td>0.000000</td>\n",
              "      <td>0.000000</td>\n",
              "      <td>0.000001</td>\n",
              "      <td>...</td>\n",
              "      <td>0.000000</td>\n",
              "      <td>0.000000</td>\n",
              "      <td>0.000000</td>\n",
              "      <td>0.000000e+00</td>\n",
              "      <td>0.0</td>\n",
              "      <td>0.000000</td>\n",
              "      <td>0.000000</td>\n",
              "      <td>0.000000e+00</td>\n",
              "      <td>0.000000e+00</td>\n",
              "      <td>0.000000</td>\n",
              "    </tr>\n",
              "    <tr>\n",
              "      <th>203706</th>\n",
              "      <td>0.000000</td>\n",
              "      <td>0.000000</td>\n",
              "      <td>0.000000</td>\n",
              "      <td>0.000001</td>\n",
              "      <td>0.000029</td>\n",
              "      <td>0.000000e+00</td>\n",
              "      <td>0.000000</td>\n",
              "      <td>0.000000</td>\n",
              "      <td>0.000000</td>\n",
              "      <td>0.000001</td>\n",
              "      <td>...</td>\n",
              "      <td>0.000000</td>\n",
              "      <td>0.000000</td>\n",
              "      <td>0.000000</td>\n",
              "      <td>0.000000e+00</td>\n",
              "      <td>0.0</td>\n",
              "      <td>0.000000</td>\n",
              "      <td>0.000000</td>\n",
              "      <td>0.000000e+00</td>\n",
              "      <td>0.000000e+00</td>\n",
              "      <td>0.000000</td>\n",
              "    </tr>\n",
              "    <tr>\n",
              "      <th>203707</th>\n",
              "      <td>0.000000</td>\n",
              "      <td>0.000000</td>\n",
              "      <td>0.000000</td>\n",
              "      <td>0.000001</td>\n",
              "      <td>0.000029</td>\n",
              "      <td>0.000000e+00</td>\n",
              "      <td>0.000000</td>\n",
              "      <td>0.000000</td>\n",
              "      <td>0.000000</td>\n",
              "      <td>0.000001</td>\n",
              "      <td>...</td>\n",
              "      <td>0.000000</td>\n",
              "      <td>0.000000</td>\n",
              "      <td>0.000000</td>\n",
              "      <td>0.000000e+00</td>\n",
              "      <td>0.0</td>\n",
              "      <td>0.000000</td>\n",
              "      <td>0.000000</td>\n",
              "      <td>0.000000e+00</td>\n",
              "      <td>0.000000e+00</td>\n",
              "      <td>0.000000</td>\n",
              "    </tr>\n",
              "    <tr>\n",
              "      <th>203708</th>\n",
              "      <td>0.531106</td>\n",
              "      <td>0.076839</td>\n",
              "      <td>0.352941</td>\n",
              "      <td>0.000001</td>\n",
              "      <td>0.000029</td>\n",
              "      <td>0.000000e+00</td>\n",
              "      <td>0.000000</td>\n",
              "      <td>0.000000</td>\n",
              "      <td>0.000000</td>\n",
              "      <td>0.000001</td>\n",
              "      <td>...</td>\n",
              "      <td>0.000000</td>\n",
              "      <td>0.000000</td>\n",
              "      <td>0.000000</td>\n",
              "      <td>0.000000e+00</td>\n",
              "      <td>1.0</td>\n",
              "      <td>0.000000</td>\n",
              "      <td>0.000000</td>\n",
              "      <td>0.000000e+00</td>\n",
              "      <td>0.000000e+00</td>\n",
              "      <td>0.000015</td>\n",
              "    </tr>\n",
              "    <tr>\n",
              "      <th>203709</th>\n",
              "      <td>0.000000</td>\n",
              "      <td>0.000000</td>\n",
              "      <td>0.000000</td>\n",
              "      <td>0.000001</td>\n",
              "      <td>0.000029</td>\n",
              "      <td>0.000000e+00</td>\n",
              "      <td>0.000000</td>\n",
              "      <td>0.000000</td>\n",
              "      <td>0.000000</td>\n",
              "      <td>0.000001</td>\n",
              "      <td>...</td>\n",
              "      <td>0.000000</td>\n",
              "      <td>0.000000</td>\n",
              "      <td>0.000000</td>\n",
              "      <td>0.000000e+00</td>\n",
              "      <td>0.0</td>\n",
              "      <td>0.000000</td>\n",
              "      <td>0.000000</td>\n",
              "      <td>0.000000e+00</td>\n",
              "      <td>0.000000e+00</td>\n",
              "      <td>0.000000</td>\n",
              "    </tr>\n",
              "  </tbody>\n",
              "</table>\n",
              "<p>203710 rows × 25 columns</p>\n",
              "</div>\n",
              "    <div class=\"colab-df-buttons\">\n",
              "\n",
              "  <div class=\"colab-df-container\">\n",
              "    <button class=\"colab-df-convert\" onclick=\"convertToInteractive('df-d15c72db-0b6f-4ef5-9ea8-73a6183b7521')\"\n",
              "            title=\"Convert this dataframe to an interactive table.\"\n",
              "            style=\"display:none;\">\n",
              "\n",
              "  <svg xmlns=\"http://www.w3.org/2000/svg\" height=\"24px\" viewBox=\"0 -960 960 960\">\n",
              "    <path d=\"M120-120v-720h720v720H120Zm60-500h600v-160H180v160Zm220 220h160v-160H400v160Zm0 220h160v-160H400v160ZM180-400h160v-160H180v160Zm440 0h160v-160H620v160ZM180-180h160v-160H180v160Zm440 0h160v-160H620v160Z\"/>\n",
              "  </svg>\n",
              "    </button>\n",
              "\n",
              "  <style>\n",
              "    .colab-df-container {\n",
              "      display:flex;\n",
              "      gap: 12px;\n",
              "    }\n",
              "\n",
              "    .colab-df-convert {\n",
              "      background-color: #E8F0FE;\n",
              "      border: none;\n",
              "      border-radius: 50%;\n",
              "      cursor: pointer;\n",
              "      display: none;\n",
              "      fill: #1967D2;\n",
              "      height: 32px;\n",
              "      padding: 0 0 0 0;\n",
              "      width: 32px;\n",
              "    }\n",
              "\n",
              "    .colab-df-convert:hover {\n",
              "      background-color: #E2EBFA;\n",
              "      box-shadow: 0px 1px 2px rgba(60, 64, 67, 0.3), 0px 1px 3px 1px rgba(60, 64, 67, 0.15);\n",
              "      fill: #174EA6;\n",
              "    }\n",
              "\n",
              "    .colab-df-buttons div {\n",
              "      margin-bottom: 4px;\n",
              "    }\n",
              "\n",
              "    [theme=dark] .colab-df-convert {\n",
              "      background-color: #3B4455;\n",
              "      fill: #D2E3FC;\n",
              "    }\n",
              "\n",
              "    [theme=dark] .colab-df-convert:hover {\n",
              "      background-color: #434B5C;\n",
              "      box-shadow: 0px 1px 3px 1px rgba(0, 0, 0, 0.15);\n",
              "      filter: drop-shadow(0px 1px 2px rgba(0, 0, 0, 0.3));\n",
              "      fill: #FFFFFF;\n",
              "    }\n",
              "  </style>\n",
              "\n",
              "    <script>\n",
              "      const buttonEl =\n",
              "        document.querySelector('#df-d15c72db-0b6f-4ef5-9ea8-73a6183b7521 button.colab-df-convert');\n",
              "      buttonEl.style.display =\n",
              "        google.colab.kernel.accessAllowed ? 'block' : 'none';\n",
              "\n",
              "      async function convertToInteractive(key) {\n",
              "        const element = document.querySelector('#df-d15c72db-0b6f-4ef5-9ea8-73a6183b7521');\n",
              "        const dataTable =\n",
              "          await google.colab.kernel.invokeFunction('convertToInteractive',\n",
              "                                                    [key], {});\n",
              "        if (!dataTable) return;\n",
              "\n",
              "        const docLinkHtml = 'Like what you see? Visit the ' +\n",
              "          '<a target=\"_blank\" href=https://colab.research.google.com/notebooks/data_table.ipynb>data table notebook</a>'\n",
              "          + ' to learn more about interactive tables.';\n",
              "        element.innerHTML = '';\n",
              "        dataTable['output_type'] = 'display_data';\n",
              "        await google.colab.output.renderOutput(dataTable, element);\n",
              "        const docLink = document.createElement('div');\n",
              "        docLink.innerHTML = docLinkHtml;\n",
              "        element.appendChild(docLink);\n",
              "      }\n",
              "    </script>\n",
              "  </div>\n",
              "\n",
              "\n",
              "<div id=\"df-2fa2cb2c-aa18-48fc-a7b2-2558e01e1d55\">\n",
              "  <button class=\"colab-df-quickchart\" onclick=\"quickchart('df-2fa2cb2c-aa18-48fc-a7b2-2558e01e1d55')\"\n",
              "            title=\"Suggest charts\"\n",
              "            style=\"display:none;\">\n",
              "\n",
              "<svg xmlns=\"http://www.w3.org/2000/svg\" height=\"24px\"viewBox=\"0 0 24 24\"\n",
              "     width=\"24px\">\n",
              "    <g>\n",
              "        <path d=\"M19 3H5c-1.1 0-2 .9-2 2v14c0 1.1.9 2 2 2h14c1.1 0 2-.9 2-2V5c0-1.1-.9-2-2-2zM9 17H7v-7h2v7zm4 0h-2V7h2v10zm4 0h-2v-4h2v4z\"/>\n",
              "    </g>\n",
              "</svg>\n",
              "  </button>\n",
              "\n",
              "<style>\n",
              "  .colab-df-quickchart {\n",
              "      --bg-color: #E8F0FE;\n",
              "      --fill-color: #1967D2;\n",
              "      --hover-bg-color: #E2EBFA;\n",
              "      --hover-fill-color: #174EA6;\n",
              "      --disabled-fill-color: #AAA;\n",
              "      --disabled-bg-color: #DDD;\n",
              "  }\n",
              "\n",
              "  [theme=dark] .colab-df-quickchart {\n",
              "      --bg-color: #3B4455;\n",
              "      --fill-color: #D2E3FC;\n",
              "      --hover-bg-color: #434B5C;\n",
              "      --hover-fill-color: #FFFFFF;\n",
              "      --disabled-bg-color: #3B4455;\n",
              "      --disabled-fill-color: #666;\n",
              "  }\n",
              "\n",
              "  .colab-df-quickchart {\n",
              "    background-color: var(--bg-color);\n",
              "    border: none;\n",
              "    border-radius: 50%;\n",
              "    cursor: pointer;\n",
              "    display: none;\n",
              "    fill: var(--fill-color);\n",
              "    height: 32px;\n",
              "    padding: 0;\n",
              "    width: 32px;\n",
              "  }\n",
              "\n",
              "  .colab-df-quickchart:hover {\n",
              "    background-color: var(--hover-bg-color);\n",
              "    box-shadow: 0 1px 2px rgba(60, 64, 67, 0.3), 0 1px 3px 1px rgba(60, 64, 67, 0.15);\n",
              "    fill: var(--button-hover-fill-color);\n",
              "  }\n",
              "\n",
              "  .colab-df-quickchart-complete:disabled,\n",
              "  .colab-df-quickchart-complete:disabled:hover {\n",
              "    background-color: var(--disabled-bg-color);\n",
              "    fill: var(--disabled-fill-color);\n",
              "    box-shadow: none;\n",
              "  }\n",
              "\n",
              "  .colab-df-spinner {\n",
              "    border: 2px solid var(--fill-color);\n",
              "    border-color: transparent;\n",
              "    border-bottom-color: var(--fill-color);\n",
              "    animation:\n",
              "      spin 1s steps(1) infinite;\n",
              "  }\n",
              "\n",
              "  @keyframes spin {\n",
              "    0% {\n",
              "      border-color: transparent;\n",
              "      border-bottom-color: var(--fill-color);\n",
              "      border-left-color: var(--fill-color);\n",
              "    }\n",
              "    20% {\n",
              "      border-color: transparent;\n",
              "      border-left-color: var(--fill-color);\n",
              "      border-top-color: var(--fill-color);\n",
              "    }\n",
              "    30% {\n",
              "      border-color: transparent;\n",
              "      border-left-color: var(--fill-color);\n",
              "      border-top-color: var(--fill-color);\n",
              "      border-right-color: var(--fill-color);\n",
              "    }\n",
              "    40% {\n",
              "      border-color: transparent;\n",
              "      border-right-color: var(--fill-color);\n",
              "      border-top-color: var(--fill-color);\n",
              "    }\n",
              "    60% {\n",
              "      border-color: transparent;\n",
              "      border-right-color: var(--fill-color);\n",
              "    }\n",
              "    80% {\n",
              "      border-color: transparent;\n",
              "      border-right-color: var(--fill-color);\n",
              "      border-bottom-color: var(--fill-color);\n",
              "    }\n",
              "    90% {\n",
              "      border-color: transparent;\n",
              "      border-bottom-color: var(--fill-color);\n",
              "    }\n",
              "  }\n",
              "</style>\n",
              "\n",
              "  <script>\n",
              "    async function quickchart(key) {\n",
              "      const quickchartButtonEl =\n",
              "        document.querySelector('#' + key + ' button');\n",
              "      quickchartButtonEl.disabled = true;  // To prevent multiple clicks.\n",
              "      quickchartButtonEl.classList.add('colab-df-spinner');\n",
              "      try {\n",
              "        const charts = await google.colab.kernel.invokeFunction(\n",
              "            'suggestCharts', [key], {});\n",
              "      } catch (error) {\n",
              "        console.error('Error during call to suggestCharts:', error);\n",
              "      }\n",
              "      quickchartButtonEl.classList.remove('colab-df-spinner');\n",
              "      quickchartButtonEl.classList.add('colab-df-quickchart-complete');\n",
              "    }\n",
              "    (() => {\n",
              "      let quickchartButtonEl =\n",
              "        document.querySelector('#df-2fa2cb2c-aa18-48fc-a7b2-2558e01e1d55 button');\n",
              "      quickchartButtonEl.style.display =\n",
              "        google.colab.kernel.accessAllowed ? 'block' : 'none';\n",
              "    })();\n",
              "  </script>\n",
              "</div>\n",
              "\n",
              "  <div id=\"id_87db32e1-a9c2-4b0b-875e-1be5b6567eb8\">\n",
              "    <style>\n",
              "      .colab-df-generate {\n",
              "        background-color: #E8F0FE;\n",
              "        border: none;\n",
              "        border-radius: 50%;\n",
              "        cursor: pointer;\n",
              "        display: none;\n",
              "        fill: #1967D2;\n",
              "        height: 32px;\n",
              "        padding: 0 0 0 0;\n",
              "        width: 32px;\n",
              "      }\n",
              "\n",
              "      .colab-df-generate:hover {\n",
              "        background-color: #E2EBFA;\n",
              "        box-shadow: 0px 1px 2px rgba(60, 64, 67, 0.3), 0px 1px 3px 1px rgba(60, 64, 67, 0.15);\n",
              "        fill: #174EA6;\n",
              "      }\n",
              "\n",
              "      [theme=dark] .colab-df-generate {\n",
              "        background-color: #3B4455;\n",
              "        fill: #D2E3FC;\n",
              "      }\n",
              "\n",
              "      [theme=dark] .colab-df-generate:hover {\n",
              "        background-color: #434B5C;\n",
              "        box-shadow: 0px 1px 3px 1px rgba(0, 0, 0, 0.15);\n",
              "        filter: drop-shadow(0px 1px 2px rgba(0, 0, 0, 0.3));\n",
              "        fill: #FFFFFF;\n",
              "      }\n",
              "    </style>\n",
              "    <button class=\"colab-df-generate\" onclick=\"generateWithVariable('data')\"\n",
              "            title=\"Generate code using this dataframe.\"\n",
              "            style=\"display:none;\">\n",
              "\n",
              "  <svg xmlns=\"http://www.w3.org/2000/svg\" height=\"24px\"viewBox=\"0 0 24 24\"\n",
              "       width=\"24px\">\n",
              "    <path d=\"M7,19H8.4L18.45,9,17,7.55,7,17.6ZM5,21V16.75L18.45,3.32a2,2,0,0,1,2.83,0l1.4,1.43a1.91,1.91,0,0,1,.58,1.4,1.91,1.91,0,0,1-.58,1.4L9.25,21ZM18.45,9,17,7.55Zm-12,3A5.31,5.31,0,0,0,4.9,8.1,5.31,5.31,0,0,0,1,6.5,5.31,5.31,0,0,0,4.9,4.9,5.31,5.31,0,0,0,6.5,1,5.31,5.31,0,0,0,8.1,4.9,5.31,5.31,0,0,0,12,6.5,5.46,5.46,0,0,0,6.5,12Z\"/>\n",
              "  </svg>\n",
              "    </button>\n",
              "    <script>\n",
              "      (() => {\n",
              "      const buttonEl =\n",
              "        document.querySelector('#id_87db32e1-a9c2-4b0b-875e-1be5b6567eb8 button.colab-df-generate');\n",
              "      buttonEl.style.display =\n",
              "        google.colab.kernel.accessAllowed ? 'block' : 'none';\n",
              "\n",
              "      buttonEl.onclick = () => {\n",
              "        google.colab.notebook.generateWithVariable('data');\n",
              "      }\n",
              "      })();\n",
              "    </script>\n",
              "  </div>\n",
              "\n",
              "    </div>\n",
              "  </div>\n"
            ],
            "application/vnd.google.colaboratory.intrinsic+json": {
              "type": "dataframe",
              "variable_name": "data"
            }
          },
          "metadata": {},
          "execution_count": 6
        }
      ]
    },
    {
      "cell_type": "code",
      "source": [
        "# Define the maximum sequence length and vocabulary size\n",
        "maxlen = 25  # or any appropriate value\n",
        "max_features = 400  # or any appropriate value"
      ],
      "metadata": {
        "id": "w6s1RrB2s4_H"
      },
      "execution_count": null,
      "outputs": []
    },
    {
      "cell_type": "code",
      "source": [
        "# Define the embedding dimension\n",
        "embed_dim = 300"
      ],
      "metadata": {
        "id": "x1whAnMFs8WX"
      },
      "execution_count": null,
      "outputs": []
    },
    {
      "cell_type": "code",
      "source": [
        "model = Sequential()\n",
        "model.add(Embedding(max_features, output_dim=embed_dim, input_length=maxlen, trainable=False))\n",
        "model.add(SpatialDropout1D(0.2))\n",
        "model.add(LSTM(units=128 , return_sequences = True , recurrent_dropout = 0.25 , dropout = 0.25))\n",
        "model.add(LSTM(units=64 , recurrent_dropout = 0.2 , dropout = 0.2))\n",
        "model.add(Dense(units = 32 , activation = 'relu'))\n",
        "model.add(Dense(3, activation='softmax'))\n",
        "model.compile(optimizer=tf.keras.optimizers.Adam(learning_rate = 0.01), loss='categorical_crossentropy', metrics=['accuracy'])"
      ],
      "metadata": {
        "id": "YV7wHNHOumvZ"
      },
      "execution_count": null,
      "outputs": []
    },
    {
      "cell_type": "code",
      "source": [
        "from keras.utils import plot_model\n",
        "plot_model(model, show_shapes=True, show_layer_names=True)"
      ],
      "metadata": {
        "colab": {
          "base_uri": "https://localhost:8080/",
          "height": 754
        },
        "id": "f6Hg-wxawtCw",
        "outputId": "d6aa1e05-d461-4d39-8dd2-9c4cf6abcb0c"
      },
      "execution_count": null,
      "outputs": [
        {
          "output_type": "execute_result",
          "data": {
            "image/png": "[encoded data removed]",
            "text/plain": [
              "<IPython.core.display.Image object>"
            ]
          },
          "metadata": {},
          "execution_count": 10
        }
      ]
    },
    {
      "cell_type": "code",
      "source": [
        "y = labels['Label'].values\n",
        "le = LabelEncoder()\n",
        "y = le.fit_transform(y)"
      ],
      "metadata": {
        "id": "Y0iPolp0vH7C"
      },
      "execution_count": null,
      "outputs": []
    },
    {
      "cell_type": "code",
      "source": [
        "#converting labels to one hot encoded format\n",
        "num_classes = 3\n",
        "y = to_categorical(y,num_classes=num_classes)"
      ],
      "metadata": {
        "id": "R-wb5wTfvOoU"
      },
      "execution_count": null,
      "outputs": []
    },
    {
      "cell_type": "code",
      "source": [
        "scaler = MinMaxScaler()\n",
        "X = scaler.fit_transform(data)"
      ],
      "metadata": {
        "id": "T7TX9oSTxUKd"
      },
      "execution_count": null,
      "outputs": []
    },
    {
      "cell_type": "code",
      "source": [
        "X_train, X_test, y_train, y_test = train_test_split(X, y, test_size=0.2, random_state=42,stratify=y)"
      ],
      "metadata": {
        "id": "ovwt5aEyvRAV"
      },
      "execution_count": null,
      "outputs": []
    },
    {
      "cell_type": "code",
      "source": [
        "#X_train = X_train.reshape((X_train.shape[0],1, X_train.shape[1]))\n",
        "#X_test = X_test.reshape((X_test.shape[0],1, X_test.shape[1]))"
      ],
      "metadata": {
        "id": "705TQX2eveXX"
      },
      "execution_count": null,
      "outputs": []
    },
    {
      "cell_type": "code",
      "source": [
        "X_train.shape"
      ],
      "metadata": {
        "colab": {
          "base_uri": "https://localhost:8080/"
        },
        "id": "sqh9yeUl1eBC",
        "outputId": "e4299e08-a80a-420a-ff9d-aeaf0dafa568"
      },
      "execution_count": null,
      "outputs": [
        {
          "output_type": "execute_result",
          "data": {
            "text/plain": [
              "(162968, 25)"
            ]
          },
          "metadata": {},
          "execution_count": 16
        }
      ]
    },
    {
      "cell_type": "code",
      "source": [
        "batch_size = 256\n",
        "epochs = 15"
      ],
      "metadata": {
        "id": "gy7Ehq4evgvo"
      },
      "execution_count": null,
      "outputs": []
    },
    {
      "cell_type": "code",
      "source": [
        "history = model.fit(X_train, y_train, batch_size = batch_size , validation_data = (X_test,y_test) , epochs = epochs)"
      ],
      "metadata": {
        "colab": {
          "base_uri": "https://localhost:8080/"
        },
        "id": "WNFOjjGPvyA-",
        "outputId": "a4f87353-83bf-4d7c-ff0a-244b1c7fef29"
      },
      "execution_count": null,
      "outputs": [
        {
          "output_type": "stream",
          "name": "stdout",
          "text": [
            "Epoch 1/5\n",
            "637/637 [==============================] - 339s 522ms/step - loss: 0.7827 - accuracy: 0.6338 - val_loss: 0.7533 - val_accuracy: 0.6538\n",
            "Epoch 2/5\n",
            "637/637 [==============================] - 346s 544ms/step - loss: 0.7503 - accuracy: 0.6562 - val_loss: 0.7516 - val_accuracy: 0.6538\n",
            "Epoch 3/5\n",
            "637/637 [==============================] - 338s 531ms/step - loss: 0.7509 - accuracy: 0.6558 - val_loss: 0.7537 - val_accuracy: 0.6538\n",
            "Epoch 4/5\n",
            "637/637 [==============================] - 332s 522ms/step - loss: 0.7499 - accuracy: 0.6561 - val_loss: 0.7515 - val_accuracy: 0.6538\n",
            "Epoch 5/5\n",
            "365/637 [================>.............] - ETA: 2:13 - loss: 0.7509 - accuracy: 0.6548"
          ]
        }
      ]
    },
    {
      "cell_type": "code",
      "source": [
        "print(\"Accuracy of the model on Training Data is - \" , model.evaluate(X_train,y_train)[1]*100 , \"%\")\n",
        "print(\"Accuracy of the model on Testing Data is - \" , model.evaluate(X_test,y_test)[1]*100 , \"%\")"
      ],
      "metadata": {
        "colab": {
          "base_uri": "https://localhost:8080/"
        },
        "id": "xFsPpEVIxi9Q",
        "outputId": "3266a1f3-ed6c-48f6-bd7d-b951cef30aa3"
      },
      "execution_count": null,
      "outputs": [
        {
          "output_type": "stream",
          "name": "stdout",
          "text": [
            "5093/5093 [==============================] - 110s 22ms/step - loss: 0.0235 - accuracy: 0.9956\n",
            "Accuracy of the model on Training Data is -  99.56187605857849 %\n",
            "1274/1274 [==============================] - 29s 23ms/step - loss: 0.0223 - accuracy: 0.9959\n",
            "Accuracy of the model on Testing Data is -  99.59010481834412 %\n"
          ]
        }
      ]
    },
    {
      "cell_type": "code",
      "source": [
        "import matplotlib.pyplot as plt\n",
        "epochs = [i for i in range(1,6)]\n",
        "fig , ax = plt.subplots(1,2)\n",
        "train_acc = history.history['accuracy']\n",
        "train_loss = history.history['loss']\n",
        "val_acc = history.history['val_accuracy']\n",
        "val_loss = history.history['val_loss']\n",
        "fig.set_size_inches(20,10)\n",
        "\n",
        "ax[0].plot(epochs , train_acc , 'go-' , label = 'Training Accuracy')\n",
        "ax[0].plot(epochs , val_acc , 'ro-' , label = 'Validation Accuracy')\n",
        "ax[0].set_title('Training & Validation Accuracy')\n",
        "ax[0].legend()\n",
        "ax[0].set_xlabel(\"Epochs\")\n",
        "ax[0].set_ylabel(\"Accuracy\")\n",
        "\n",
        "ax[1].plot(epochs , train_loss , 'go-' , label = 'Training Loss')\n",
        "ax[1].plot(epochs , val_loss , 'ro-' , label = 'Validation Loss')\n",
        "ax[1].set_title('Training & Validation Loss')\n",
        "ax[1].legend()\n",
        "ax[1].set_xlabel(\"Epochs\")\n",
        "ax[1].set_ylabel(\"Loss\")\n",
        "plt.show()"
      ],
      "metadata": {
        "colab": {
          "base_uri": "https://localhost:8080/",
          "height": 346
        },
        "id": "iVc4vxPa8T1w",
        "outputId": "dec3a671-8533-479e-82ff-c2f1de17b8fb"
      },
      "execution_count": null,
      "outputs": [
        {
          "output_type": "display_data",
          "data": {
            "text/plain": [
              "<Figure size 2000x1000 with 2 Axes>"
            ],
            "image/png": "[encoded data removed]"
          },
          "metadata": {}
        }
      ]
    },
    {
      "cell_type": "code",
      "source": [
        "y_pred = model.predict(X_test)\n",
        "y_pred = np.round(y_pred)"
      ],
      "metadata": {
        "colab": {
          "base_uri": "https://localhost:8080/"
        },
        "id": "nqO-qxcT9Edd",
        "outputId": "daa633c2-7bee-46f8-ab87-1b196847c17c"
      },
      "execution_count": null,
      "outputs": [
        {
          "output_type": "stream",
          "name": "stdout",
          "text": [
            "1274/1274 [==============================] - 27s 21ms/step\n"
          ]
        }
      ]
    },
    {
      "cell_type": "code",
      "source": [
        "print(classification_report(y_test, y_pred,zero_division='warn'))"
      ],
      "metadata": {
        "colab": {
          "base_uri": "https://localhost:8080/"
        },
        "id": "4j_HMcWd9lXo",
        "outputId": "22f494ce-922a-4d29-f5f9-fad36677e941"
      },
      "execution_count": null,
      "outputs": [
        {
          "output_type": "stream",
          "name": "stdout",
          "text": [
            "              precision    recall  f1-score   support\n",
            "\n",
            "           0       1.00      1.00      1.00     14706\n",
            "           1       1.00      0.99      1.00     13685\n",
            "           2       0.99      1.00      0.99     12351\n",
            "\n",
            "   micro avg       1.00      1.00      1.00     40742\n",
            "   macro avg       1.00      1.00      1.00     40742\n",
            "weighted avg       1.00      1.00      1.00     40742\n",
            " samples avg       1.00      1.00      1.00     40742\n",
            "\n"
          ]
        }
      ]
    },
    {
      "cell_type": "code",
      "source": [
        "y_test_labels1 = y_test.argmax(axis=1)\n",
        "y_true_encoded = le.fit_transform(y_test_labels1)"
      ],
      "metadata": {
        "id": "qSA7qakv9xFE"
      },
      "execution_count": null,
      "outputs": []
    },
    {
      "cell_type": "code",
      "source": [
        "y_pred_labels = np.argmax(y_pred,axis=1)"
      ],
      "metadata": {
        "id": "U77QL9Nm-Mbe"
      },
      "execution_count": null,
      "outputs": []
    },
    {
      "cell_type": "code",
      "source": [
        "confusion_mat = confusion_matrix(y_true_encoded, y_pred_labels)"
      ],
      "metadata": {
        "id": "pY9qxXbm-48b"
      },
      "execution_count": null,
      "outputs": []
    },
    {
      "cell_type": "code",
      "source": [
        "confusion_mat"
      ],
      "metadata": {
        "colab": {
          "base_uri": "https://localhost:8080/"
        },
        "id": "u1m_PVLB-_EP",
        "outputId": "7ef46062-a8a2-43dc-d199-e37b3d051c87"
      },
      "execution_count": null,
      "outputs": [
        {
          "output_type": "execute_result",
          "data": {
            "text/plain": [
              "array([[14664,     2,    40],\n",
              "       [   15, 13563,   107],\n",
              "       [    0,     3, 12348]])"
            ]
          },
          "metadata": {},
          "execution_count": 126
        }
      ]
    },
    {
      "cell_type": "code",
      "source": [
        "logr_bin_df = pd.DataFrame({'Actual': y_true_encoded, 'Predicted': y_pred_labels})\n",
        "print(logr_bin_df)"
      ],
      "metadata": {
        "colab": {
          "base_uri": "https://localhost:8080/"
        },
        "id": "E1JQGpt2_Auo",
        "outputId": "f62d082d-0aa4-4ec2-c7e7-e61acd10e545"
      },
      "execution_count": null,
      "outputs": [
        {
          "output_type": "stream",
          "name": "stdout",
          "text": [
            "       Actual  Predicted\n",
            "0           1          1\n",
            "1           0          0\n",
            "2           1          1\n",
            "3           2          2\n",
            "4           0          0\n",
            "...       ...        ...\n",
            "40737       0          0\n",
            "40738       2          2\n",
            "40739       1          1\n",
            "40740       0          0\n",
            "40741       0          0\n",
            "\n",
            "[40742 rows x 2 columns]\n"
          ]
        }
      ]
    },
    {
      "cell_type": "code",
      "source": [
        "from keras.models import save_model\n",
        "\n",
        "# Assuming 'model' is your trained Keras model\n",
        "model.save('final_model.h5')  # Save the model in HDF5 format"
      ],
      "metadata": {
        "colab": {
          "base_uri": "https://localhost:8080/"
        },
        "id": "t5T-Fngb_GXf",
        "outputId": "a0418b37-f7c7-4bc2-accf-cb626942cc4a"
      },
      "execution_count": null,
      "outputs": [
        {
          "output_type": "stream",
          "name": "stderr",
          "text": [
            "/usr/local/lib/python3.10/dist-packages/keras/src/engine/training.py:3103: UserWarning: You are saving your model as an HDF5 file via `model.save()`. This file format is considered legacy. We recommend using instead the native Keras format, e.g. `model.save('my_model.keras')`.\n",
            "  saving_api.save_model(\n"
          ]
        }
      ]
    }
  ]
}