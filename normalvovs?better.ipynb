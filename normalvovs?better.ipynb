{
  "nbformat": 4,
  "nbformat_minor": 0,
  "metadata": {
    "colab": {
      "provenance": [],
      "include_colab_link": true
    },
    "kernelspec": {
      "name": "python3",
      "display_name": "Python 3"
    },
    "language_info": {
      "name": "python"
    }
  },
  "cells": [
    {
      "cell_type": "markdown",
      "metadata": {
        "id": "view-in-github",
        "colab_type": "text"
      },
      "source": [
        "<a href=\"https://colab.research.google.com/github/Nardy07/NIDS/blob/main/normalvovs%3Fbetter.ipynb\" target=\"_parent\"><img src=\"https://colab.research.google.com/assets/colab-badge.svg\" alt=\"Open In Colab\"/></a>"
      ]
    },
    {
      "cell_type": "code",
      "execution_count": 57,
      "metadata": {
        "id": "TtSbH6HEXj9Z"
      },
      "outputs": [],
      "source": [
        "#importing required libraries\n",
        "import numpy as np\n",
        "import pandas as pd\n",
        "from sklearn.calibration import LabelEncoder\n",
        "import tensorflow as tf\n",
        "from sklearn.preprocessing import StandardScaler,MinMaxScaler,RobustScaler\n",
        "from sklearn.model_selection import train_test_split\n",
        "from sklearn.metrics import classification_report, confusion_matrix\n",
        "from keras.models import Sequential,save_model\n",
        "from keras.layers import LSTM, Dense, Dropout,Embedding, SpatialDropout1D,BatchNormalization\n",
        "from keras.callbacks import EarlyStopping\n",
        "from keras.utils import to_categorical"
      ]
    },
    {
      "cell_type": "code",
      "source": [
        "X = pd.read_csv('X_balanced_bin2.csv')\n",
        "y = pd.read_csv('Y_balanced_bin2.csv')"
      ],
      "metadata": {
        "id": "2aziuvoIfWsg"
      },
      "execution_count": 101,
      "outputs": []
    },
    {
      "cell_type": "code",
      "source": [
        "X"
      ],
      "metadata": {
        "colab": {
          "base_uri": "https://localhost:8080/",
          "height": 444
        },
        "id": "BqqKmXKtOEnB",
        "outputId": "d5eb5ff8-b9c2-4898-bb35-3cd0eddffd9b"
      },
      "execution_count": 102,
      "outputs": [
        {
          "output_type": "execute_result",
          "data": {
            "text/plain": [
              "        Dst_Port  Tot_Fwd_Pkts   Flow_Byts/s  Fwd_Header_Len   Fwd_Pkts/s  \\\n",
              "0          35934            25  1.360000e+07             500  5284.295075   \n",
              "1          54941             1  4.382022e+05               8  1605.136437   \n",
              "2          10024             0  0.000000e+00               0     0.000000   \n",
              "3              0             0  0.000000e+00               0     0.000000   \n",
              "4            443            17  9.572450e+02             340     0.873680   \n",
              "...          ...           ...           ...             ...          ...   \n",
              "153204         0             0  0.000000e+00               0     0.000000   \n",
              "153205         0             0  0.000000e+00               0     0.000000   \n",
              "153206        53             1  1.814536e+05               8   250.626566   \n",
              "153207         0             0  0.000000e+00               0     0.000000   \n",
              "153208         0             0  0.000000e+00               0     0.000000   \n",
              "\n",
              "        Pkt_Len_Max  Pkt_Len_Mean  Pkt_Size_Avg  Subflow_Fwd_Pkts  \\\n",
              "0              5200   1310.169811   1335.365385                25   \n",
              "1               178    150.333333    225.500000                 1   \n",
              "2                 0      0.000000      0.000000                 0   \n",
              "3                 0      0.000000      0.000000                 0   \n",
              "4              3900    532.171429    547.823529                17   \n",
              "...             ...           ...           ...               ...   \n",
              "153204            0      0.000000      0.000000                 0   \n",
              "153205            0      0.000000      0.000000                 0   \n",
              "153206          334    151.600000    189.500000                 1   \n",
              "153207            0      0.000000      0.000000                 0   \n",
              "153208            0      0.000000      0.000000                 0   \n",
              "\n",
              "        Init_Bwd_Win_Byts  \n",
              "0                       0  \n",
              "1                      -1  \n",
              "2                       0  \n",
              "3                      -1  \n",
              "4                   64240  \n",
              "...                   ...  \n",
              "153204                 -1  \n",
              "153205                 -1  \n",
              "153206                 -1  \n",
              "153207                 -1  \n",
              "153208                 -1  \n",
              "\n",
              "[153209 rows x 10 columns]"
            ],
            "text/html": [
              "\n",
              "  <div id=\"df-86ac9c38-91e3-48f6-91a3-5a07032fda24\" class=\"colab-df-container\">\n",
              "    <div>\n",
              "<style scoped>\n",
              "    .dataframe tbody tr th:only-of-type {\n",
              "        vertical-align: middle;\n",
              "    }\n",
              "\n",
              "    .dataframe tbody tr th {\n",
              "        vertical-align: top;\n",
              "    }\n",
              "\n",
              "    .dataframe thead th {\n",
              "        text-align: right;\n",
              "    }\n",
              "</style>\n",
              "<table border=\"1\" class=\"dataframe\">\n",
              "  <thead>\n",
              "    <tr style=\"text-align: right;\">\n",
              "      <th></th>\n",
              "      <th>Dst_Port</th>\n",
              "      <th>Tot_Fwd_Pkts</th>\n",
              "      <th>Flow_Byts/s</th>\n",
              "      <th>Fwd_Header_Len</th>\n",
              "      <th>Fwd_Pkts/s</th>\n",
              "      <th>Pkt_Len_Max</th>\n",
              "      <th>Pkt_Len_Mean</th>\n",
              "      <th>Pkt_Size_Avg</th>\n",
              "      <th>Subflow_Fwd_Pkts</th>\n",
              "      <th>Init_Bwd_Win_Byts</th>\n",
              "    </tr>\n",
              "  </thead>\n",
              "  <tbody>\n",
              "    <tr>\n",
              "      <th>0</th>\n",
              "      <td>35934</td>\n",
              "      <td>25</td>\n",
              "      <td>1.360000e+07</td>\n",
              "      <td>500</td>\n",
              "      <td>5284.295075</td>\n",
              "      <td>5200</td>\n",
              "      <td>1310.169811</td>\n",
              "      <td>1335.365385</td>\n",
              "      <td>25</td>\n",
              "      <td>0</td>\n",
              "    </tr>\n",
              "    <tr>\n",
              "      <th>1</th>\n",
              "      <td>54941</td>\n",
              "      <td>1</td>\n",
              "      <td>4.382022e+05</td>\n",
              "      <td>8</td>\n",
              "      <td>1605.136437</td>\n",
              "      <td>178</td>\n",
              "      <td>150.333333</td>\n",
              "      <td>225.500000</td>\n",
              "      <td>1</td>\n",
              "      <td>-1</td>\n",
              "    </tr>\n",
              "    <tr>\n",
              "      <th>2</th>\n",
              "      <td>10024</td>\n",
              "      <td>0</td>\n",
              "      <td>0.000000e+00</td>\n",
              "      <td>0</td>\n",
              "      <td>0.000000</td>\n",
              "      <td>0</td>\n",
              "      <td>0.000000</td>\n",
              "      <td>0.000000</td>\n",
              "      <td>0</td>\n",
              "      <td>0</td>\n",
              "    </tr>\n",
              "    <tr>\n",
              "      <th>3</th>\n",
              "      <td>0</td>\n",
              "      <td>0</td>\n",
              "      <td>0.000000e+00</td>\n",
              "      <td>0</td>\n",
              "      <td>0.000000</td>\n",
              "      <td>0</td>\n",
              "      <td>0.000000</td>\n",
              "      <td>0.000000</td>\n",
              "      <td>0</td>\n",
              "      <td>-1</td>\n",
              "    </tr>\n",
              "    <tr>\n",
              "      <th>4</th>\n",
              "      <td>443</td>\n",
              "      <td>17</td>\n",
              "      <td>9.572450e+02</td>\n",
              "      <td>340</td>\n",
              "      <td>0.873680</td>\n",
              "      <td>3900</td>\n",
              "      <td>532.171429</td>\n",
              "      <td>547.823529</td>\n",
              "      <td>17</td>\n",
              "      <td>64240</td>\n",
              "    </tr>\n",
              "    <tr>\n",
              "      <th>...</th>\n",
              "      <td>...</td>\n",
              "      <td>...</td>\n",
              "      <td>...</td>\n",
              "      <td>...</td>\n",
              "      <td>...</td>\n",
              "      <td>...</td>\n",
              "      <td>...</td>\n",
              "      <td>...</td>\n",
              "      <td>...</td>\n",
              "      <td>...</td>\n",
              "    </tr>\n",
              "    <tr>\n",
              "      <th>153204</th>\n",
              "      <td>0</td>\n",
              "      <td>0</td>\n",
              "      <td>0.000000e+00</td>\n",
              "      <td>0</td>\n",
              "      <td>0.000000</td>\n",
              "      <td>0</td>\n",
              "      <td>0.000000</td>\n",
              "      <td>0.000000</td>\n",
              "      <td>0</td>\n",
              "      <td>-1</td>\n",
              "    </tr>\n",
              "    <tr>\n",
              "      <th>153205</th>\n",
              "      <td>0</td>\n",
              "      <td>0</td>\n",
              "      <td>0.000000e+00</td>\n",
              "      <td>0</td>\n",
              "      <td>0.000000</td>\n",
              "      <td>0</td>\n",
              "      <td>0.000000</td>\n",
              "      <td>0.000000</td>\n",
              "      <td>0</td>\n",
              "      <td>-1</td>\n",
              "    </tr>\n",
              "    <tr>\n",
              "      <th>153206</th>\n",
              "      <td>53</td>\n",
              "      <td>1</td>\n",
              "      <td>1.814536e+05</td>\n",
              "      <td>8</td>\n",
              "      <td>250.626566</td>\n",
              "      <td>334</td>\n",
              "      <td>151.600000</td>\n",
              "      <td>189.500000</td>\n",
              "      <td>1</td>\n",
              "      <td>-1</td>\n",
              "    </tr>\n",
              "    <tr>\n",
              "      <th>153207</th>\n",
              "      <td>0</td>\n",
              "      <td>0</td>\n",
              "      <td>0.000000e+00</td>\n",
              "      <td>0</td>\n",
              "      <td>0.000000</td>\n",
              "      <td>0</td>\n",
              "      <td>0.000000</td>\n",
              "      <td>0.000000</td>\n",
              "      <td>0</td>\n",
              "      <td>-1</td>\n",
              "    </tr>\n",
              "    <tr>\n",
              "      <th>153208</th>\n",
              "      <td>0</td>\n",
              "      <td>0</td>\n",
              "      <td>0.000000e+00</td>\n",
              "      <td>0</td>\n",
              "      <td>0.000000</td>\n",
              "      <td>0</td>\n",
              "      <td>0.000000</td>\n",
              "      <td>0.000000</td>\n",
              "      <td>0</td>\n",
              "      <td>-1</td>\n",
              "    </tr>\n",
              "  </tbody>\n",
              "</table>\n",
              "<p>153209 rows × 10 columns</p>\n",
              "</div>\n",
              "    <div class=\"colab-df-buttons\">\n",
              "\n",
              "  <div class=\"colab-df-container\">\n",
              "    <button class=\"colab-df-convert\" onclick=\"convertToInteractive('df-86ac9c38-91e3-48f6-91a3-5a07032fda24')\"\n",
              "            title=\"Convert this dataframe to an interactive table.\"\n",
              "            style=\"display:none;\">\n",
              "\n",
              "  <svg xmlns=\"http://www.w3.org/2000/svg\" height=\"24px\" viewBox=\"0 -960 960 960\">\n",
              "    <path d=\"M120-120v-720h720v720H120Zm60-500h600v-160H180v160Zm220 220h160v-160H400v160Zm0 220h160v-160H400v160ZM180-400h160v-160H180v160Zm440 0h160v-160H620v160ZM180-180h160v-160H180v160Zm440 0h160v-160H620v160Z\"/>\n",
              "  </svg>\n",
              "    </button>\n",
              "\n",
              "  <style>\n",
              "    .colab-df-container {\n",
              "      display:flex;\n",
              "      gap: 12px;\n",
              "    }\n",
              "\n",
              "    .colab-df-convert {\n",
              "      background-color: #E8F0FE;\n",
              "      border: none;\n",
              "      border-radius: 50%;\n",
              "      cursor: pointer;\n",
              "      display: none;\n",
              "      fill: #1967D2;\n",
              "      height: 32px;\n",
              "      padding: 0 0 0 0;\n",
              "      width: 32px;\n",
              "    }\n",
              "\n",
              "    .colab-df-convert:hover {\n",
              "      background-color: #E2EBFA;\n",
              "      box-shadow: 0px 1px 2px rgba(60, 64, 67, 0.3), 0px 1px 3px 1px rgba(60, 64, 67, 0.15);\n",
              "      fill: #174EA6;\n",
              "    }\n",
              "\n",
              "    .colab-df-buttons div {\n",
              "      margin-bottom: 4px;\n",
              "    }\n",
              "\n",
              "    [theme=dark] .colab-df-convert {\n",
              "      background-color: #3B4455;\n",
              "      fill: #D2E3FC;\n",
              "    }\n",
              "\n",
              "    [theme=dark] .colab-df-convert:hover {\n",
              "      background-color: #434B5C;\n",
              "      box-shadow: 0px 1px 3px 1px rgba(0, 0, 0, 0.15);\n",
              "      filter: drop-shadow(0px 1px 2px rgba(0, 0, 0, 0.3));\n",
              "      fill: #FFFFFF;\n",
              "    }\n",
              "  </style>\n",
              "\n",
              "    <script>\n",
              "      const buttonEl =\n",
              "        document.querySelector('#df-86ac9c38-91e3-48f6-91a3-5a07032fda24 button.colab-df-convert');\n",
              "      buttonEl.style.display =\n",
              "        google.colab.kernel.accessAllowed ? 'block' : 'none';\n",
              "\n",
              "      async function convertToInteractive(key) {\n",
              "        const element = document.querySelector('#df-86ac9c38-91e3-48f6-91a3-5a07032fda24');\n",
              "        const dataTable =\n",
              "          await google.colab.kernel.invokeFunction('convertToInteractive',\n",
              "                                                    [key], {});\n",
              "        if (!dataTable) return;\n",
              "\n",
              "        const docLinkHtml = 'Like what you see? Visit the ' +\n",
              "          '<a target=\"_blank\" href=https://colab.research.google.com/notebooks/data_table.ipynb>data table notebook</a>'\n",
              "          + ' to learn more about interactive tables.';\n",
              "        element.innerHTML = '';\n",
              "        dataTable['output_type'] = 'display_data';\n",
              "        await google.colab.output.renderOutput(dataTable, element);\n",
              "        const docLink = document.createElement('div');\n",
              "        docLink.innerHTML = docLinkHtml;\n",
              "        element.appendChild(docLink);\n",
              "      }\n",
              "    </script>\n",
              "  </div>\n",
              "\n",
              "\n",
              "<div id=\"df-31685a0b-591c-48b9-9e98-55ad25b8a295\">\n",
              "  <button class=\"colab-df-quickchart\" onclick=\"quickchart('df-31685a0b-591c-48b9-9e98-55ad25b8a295')\"\n",
              "            title=\"Suggest charts\"\n",
              "            style=\"display:none;\">\n",
              "\n",
              "<svg xmlns=\"http://www.w3.org/2000/svg\" height=\"24px\"viewBox=\"0 0 24 24\"\n",
              "     width=\"24px\">\n",
              "    <g>\n",
              "        <path d=\"M19 3H5c-1.1 0-2 .9-2 2v14c0 1.1.9 2 2 2h14c1.1 0 2-.9 2-2V5c0-1.1-.9-2-2-2zM9 17H7v-7h2v7zm4 0h-2V7h2v10zm4 0h-2v-4h2v4z\"/>\n",
              "    </g>\n",
              "</svg>\n",
              "  </button>\n",
              "\n",
              "<style>\n",
              "  .colab-df-quickchart {\n",
              "      --bg-color: #E8F0FE;\n",
              "      --fill-color: #1967D2;\n",
              "      --hover-bg-color: #E2EBFA;\n",
              "      --hover-fill-color: #174EA6;\n",
              "      --disabled-fill-color: #AAA;\n",
              "      --disabled-bg-color: #DDD;\n",
              "  }\n",
              "\n",
              "  [theme=dark] .colab-df-quickchart {\n",
              "      --bg-color: #3B4455;\n",
              "      --fill-color: #D2E3FC;\n",
              "      --hover-bg-color: #434B5C;\n",
              "      --hover-fill-color: #FFFFFF;\n",
              "      --disabled-bg-color: #3B4455;\n",
              "      --disabled-fill-color: #666;\n",
              "  }\n",
              "\n",
              "  .colab-df-quickchart {\n",
              "    background-color: var(--bg-color);\n",
              "    border: none;\n",
              "    border-radius: 50%;\n",
              "    cursor: pointer;\n",
              "    display: none;\n",
              "    fill: var(--fill-color);\n",
              "    height: 32px;\n",
              "    padding: 0;\n",
              "    width: 32px;\n",
              "  }\n",
              "\n",
              "  .colab-df-quickchart:hover {\n",
              "    background-color: var(--hover-bg-color);\n",
              "    box-shadow: 0 1px 2px rgba(60, 64, 67, 0.3), 0 1px 3px 1px rgba(60, 64, 67, 0.15);\n",
              "    fill: var(--button-hover-fill-color);\n",
              "  }\n",
              "\n",
              "  .colab-df-quickchart-complete:disabled,\n",
              "  .colab-df-quickchart-complete:disabled:hover {\n",
              "    background-color: var(--disabled-bg-color);\n",
              "    fill: var(--disabled-fill-color);\n",
              "    box-shadow: none;\n",
              "  }\n",
              "\n",
              "  .colab-df-spinner {\n",
              "    border: 2px solid var(--fill-color);\n",
              "    border-color: transparent;\n",
              "    border-bottom-color: var(--fill-color);\n",
              "    animation:\n",
              "      spin 1s steps(1) infinite;\n",
              "  }\n",
              "\n",
              "  @keyframes spin {\n",
              "    0% {\n",
              "      border-color: transparent;\n",
              "      border-bottom-color: var(--fill-color);\n",
              "      border-left-color: var(--fill-color);\n",
              "    }\n",
              "    20% {\n",
              "      border-color: transparent;\n",
              "      border-left-color: var(--fill-color);\n",
              "      border-top-color: var(--fill-color);\n",
              "    }\n",
              "    30% {\n",
              "      border-color: transparent;\n",
              "      border-left-color: var(--fill-color);\n",
              "      border-top-color: var(--fill-color);\n",
              "      border-right-color: var(--fill-color);\n",
              "    }\n",
              "    40% {\n",
              "      border-color: transparent;\n",
              "      border-right-color: var(--fill-color);\n",
              "      border-top-color: var(--fill-color);\n",
              "    }\n",
              "    60% {\n",
              "      border-color: transparent;\n",
              "      border-right-color: var(--fill-color);\n",
              "    }\n",
              "    80% {\n",
              "      border-color: transparent;\n",
              "      border-right-color: var(--fill-color);\n",
              "      border-bottom-color: var(--fill-color);\n",
              "    }\n",
              "    90% {\n",
              "      border-color: transparent;\n",
              "      border-bottom-color: var(--fill-color);\n",
              "    }\n",
              "  }\n",
              "</style>\n",
              "\n",
              "  <script>\n",
              "    async function quickchart(key) {\n",
              "      const quickchartButtonEl =\n",
              "        document.querySelector('#' + key + ' button');\n",
              "      quickchartButtonEl.disabled = true;  // To prevent multiple clicks.\n",
              "      quickchartButtonEl.classList.add('colab-df-spinner');\n",
              "      try {\n",
              "        const charts = await google.colab.kernel.invokeFunction(\n",
              "            'suggestCharts', [key], {});\n",
              "      } catch (error) {\n",
              "        console.error('Error during call to suggestCharts:', error);\n",
              "      }\n",
              "      quickchartButtonEl.classList.remove('colab-df-spinner');\n",
              "      quickchartButtonEl.classList.add('colab-df-quickchart-complete');\n",
              "    }\n",
              "    (() => {\n",
              "      let quickchartButtonEl =\n",
              "        document.querySelector('#df-31685a0b-591c-48b9-9e98-55ad25b8a295 button');\n",
              "      quickchartButtonEl.style.display =\n",
              "        google.colab.kernel.accessAllowed ? 'block' : 'none';\n",
              "    })();\n",
              "  </script>\n",
              "</div>\n",
              "\n",
              "  <div id=\"id_088dc529-8817-4af9-9e08-6a8a6b9a4458\">\n",
              "    <style>\n",
              "      .colab-df-generate {\n",
              "        background-color: #E8F0FE;\n",
              "        border: none;\n",
              "        border-radius: 50%;\n",
              "        cursor: pointer;\n",
              "        display: none;\n",
              "        fill: #1967D2;\n",
              "        height: 32px;\n",
              "        padding: 0 0 0 0;\n",
              "        width: 32px;\n",
              "      }\n",
              "\n",
              "      .colab-df-generate:hover {\n",
              "        background-color: #E2EBFA;\n",
              "        box-shadow: 0px 1px 2px rgba(60, 64, 67, 0.3), 0px 1px 3px 1px rgba(60, 64, 67, 0.15);\n",
              "        fill: #174EA6;\n",
              "      }\n",
              "\n",
              "      [theme=dark] .colab-df-generate {\n",
              "        background-color: #3B4455;\n",
              "        fill: #D2E3FC;\n",
              "      }\n",
              "\n",
              "      [theme=dark] .colab-df-generate:hover {\n",
              "        background-color: #434B5C;\n",
              "        box-shadow: 0px 1px 3px 1px rgba(0, 0, 0, 0.15);\n",
              "        filter: drop-shadow(0px 1px 2px rgba(0, 0, 0, 0.3));\n",
              "        fill: #FFFFFF;\n",
              "      }\n",
              "    </style>\n",
              "    <button class=\"colab-df-generate\" onclick=\"generateWithVariable('X')\"\n",
              "            title=\"Generate code using this dataframe.\"\n",
              "            style=\"display:none;\">\n",
              "\n",
              "  <svg xmlns=\"http://www.w3.org/2000/svg\" height=\"24px\"viewBox=\"0 0 24 24\"\n",
              "       width=\"24px\">\n",
              "    <path d=\"M7,19H8.4L18.45,9,17,7.55,7,17.6ZM5,21V16.75L18.45,3.32a2,2,0,0,1,2.83,0l1.4,1.43a1.91,1.91,0,0,1,.58,1.4,1.91,1.91,0,0,1-.58,1.4L9.25,21ZM18.45,9,17,7.55Zm-12,3A5.31,5.31,0,0,0,4.9,8.1,5.31,5.31,0,0,0,1,6.5,5.31,5.31,0,0,0,4.9,4.9,5.31,5.31,0,0,0,6.5,1,5.31,5.31,0,0,0,8.1,4.9,5.31,5.31,0,0,0,12,6.5,5.46,5.46,0,0,0,6.5,12Z\"/>\n",
              "  </svg>\n",
              "    </button>\n",
              "    <script>\n",
              "      (() => {\n",
              "      const buttonEl =\n",
              "        document.querySelector('#id_088dc529-8817-4af9-9e08-6a8a6b9a4458 button.colab-df-generate');\n",
              "      buttonEl.style.display =\n",
              "        google.colab.kernel.accessAllowed ? 'block' : 'none';\n",
              "\n",
              "      buttonEl.onclick = () => {\n",
              "        google.colab.notebook.generateWithVariable('X');\n",
              "      }\n",
              "      })();\n",
              "    </script>\n",
              "  </div>\n",
              "\n",
              "    </div>\n",
              "  </div>\n"
            ],
            "application/vnd.google.colaboratory.intrinsic+json": {
              "type": "dataframe",
              "variable_name": "X"
            }
          },
          "metadata": {},
          "execution_count": 102
        }
      ]
    },
    {
      "cell_type": "code",
      "source": [
        "y"
      ],
      "metadata": {
        "colab": {
          "base_uri": "https://localhost:8080/",
          "height": 424
        },
        "id": "K9WMdVVtv-LB",
        "outputId": "6d78bc53-1cc6-4948-9034-c7a92590fb1c"
      },
      "execution_count": 103,
      "outputs": [
        {
          "output_type": "execute_result",
          "data": {
            "text/plain": [
              "           Label\n",
              "0         Normal\n",
              "1         Normal\n",
              "2       Abnormal\n",
              "3       Abnormal\n",
              "4         Normal\n",
              "...          ...\n",
              "153204  Abnormal\n",
              "153205  Abnormal\n",
              "153206    Normal\n",
              "153207  Abnormal\n",
              "153208  Abnormal\n",
              "\n",
              "[153209 rows x 1 columns]"
            ],
            "text/html": [
              "\n",
              "  <div id=\"df-dfb986df-712e-4124-af48-9f1d2344f1b2\" class=\"colab-df-container\">\n",
              "    <div>\n",
              "<style scoped>\n",
              "    .dataframe tbody tr th:only-of-type {\n",
              "        vertical-align: middle;\n",
              "    }\n",
              "\n",
              "    .dataframe tbody tr th {\n",
              "        vertical-align: top;\n",
              "    }\n",
              "\n",
              "    .dataframe thead th {\n",
              "        text-align: right;\n",
              "    }\n",
              "</style>\n",
              "<table border=\"1\" class=\"dataframe\">\n",
              "  <thead>\n",
              "    <tr style=\"text-align: right;\">\n",
              "      <th></th>\n",
              "      <th>Label</th>\n",
              "    </tr>\n",
              "  </thead>\n",
              "  <tbody>\n",
              "    <tr>\n",
              "      <th>0</th>\n",
              "      <td>Normal</td>\n",
              "    </tr>\n",
              "    <tr>\n",
              "      <th>1</th>\n",
              "      <td>Normal</td>\n",
              "    </tr>\n",
              "    <tr>\n",
              "      <th>2</th>\n",
              "      <td>Abnormal</td>\n",
              "    </tr>\n",
              "    <tr>\n",
              "      <th>3</th>\n",
              "      <td>Abnormal</td>\n",
              "    </tr>\n",
              "    <tr>\n",
              "      <th>4</th>\n",
              "      <td>Normal</td>\n",
              "    </tr>\n",
              "    <tr>\n",
              "      <th>...</th>\n",
              "      <td>...</td>\n",
              "    </tr>\n",
              "    <tr>\n",
              "      <th>153204</th>\n",
              "      <td>Abnormal</td>\n",
              "    </tr>\n",
              "    <tr>\n",
              "      <th>153205</th>\n",
              "      <td>Abnormal</td>\n",
              "    </tr>\n",
              "    <tr>\n",
              "      <th>153206</th>\n",
              "      <td>Normal</td>\n",
              "    </tr>\n",
              "    <tr>\n",
              "      <th>153207</th>\n",
              "      <td>Abnormal</td>\n",
              "    </tr>\n",
              "    <tr>\n",
              "      <th>153208</th>\n",
              "      <td>Abnormal</td>\n",
              "    </tr>\n",
              "  </tbody>\n",
              "</table>\n",
              "<p>153209 rows × 1 columns</p>\n",
              "</div>\n",
              "    <div class=\"colab-df-buttons\">\n",
              "\n",
              "  <div class=\"colab-df-container\">\n",
              "    <button class=\"colab-df-convert\" onclick=\"convertToInteractive('df-dfb986df-712e-4124-af48-9f1d2344f1b2')\"\n",
              "            title=\"Convert this dataframe to an interactive table.\"\n",
              "            style=\"display:none;\">\n",
              "\n",
              "  <svg xmlns=\"http://www.w3.org/2000/svg\" height=\"24px\" viewBox=\"0 -960 960 960\">\n",
              "    <path d=\"M120-120v-720h720v720H120Zm60-500h600v-160H180v160Zm220 220h160v-160H400v160Zm0 220h160v-160H400v160ZM180-400h160v-160H180v160Zm440 0h160v-160H620v160ZM180-180h160v-160H180v160Zm440 0h160v-160H620v160Z\"/>\n",
              "  </svg>\n",
              "    </button>\n",
              "\n",
              "  <style>\n",
              "    .colab-df-container {\n",
              "      display:flex;\n",
              "      gap: 12px;\n",
              "    }\n",
              "\n",
              "    .colab-df-convert {\n",
              "      background-color: #E8F0FE;\n",
              "      border: none;\n",
              "      border-radius: 50%;\n",
              "      cursor: pointer;\n",
              "      display: none;\n",
              "      fill: #1967D2;\n",
              "      height: 32px;\n",
              "      padding: 0 0 0 0;\n",
              "      width: 32px;\n",
              "    }\n",
              "\n",
              "    .colab-df-convert:hover {\n",
              "      background-color: #E2EBFA;\n",
              "      box-shadow: 0px 1px 2px rgba(60, 64, 67, 0.3), 0px 1px 3px 1px rgba(60, 64, 67, 0.15);\n",
              "      fill: #174EA6;\n",
              "    }\n",
              "\n",
              "    .colab-df-buttons div {\n",
              "      margin-bottom: 4px;\n",
              "    }\n",
              "\n",
              "    [theme=dark] .colab-df-convert {\n",
              "      background-color: #3B4455;\n",
              "      fill: #D2E3FC;\n",
              "    }\n",
              "\n",
              "    [theme=dark] .colab-df-convert:hover {\n",
              "      background-color: #434B5C;\n",
              "      box-shadow: 0px 1px 3px 1px rgba(0, 0, 0, 0.15);\n",
              "      filter: drop-shadow(0px 1px 2px rgba(0, 0, 0, 0.3));\n",
              "      fill: #FFFFFF;\n",
              "    }\n",
              "  </style>\n",
              "\n",
              "    <script>\n",
              "      const buttonEl =\n",
              "        document.querySelector('#df-dfb986df-712e-4124-af48-9f1d2344f1b2 button.colab-df-convert');\n",
              "      buttonEl.style.display =\n",
              "        google.colab.kernel.accessAllowed ? 'block' : 'none';\n",
              "\n",
              "      async function convertToInteractive(key) {\n",
              "        const element = document.querySelector('#df-dfb986df-712e-4124-af48-9f1d2344f1b2');\n",
              "        const dataTable =\n",
              "          await google.colab.kernel.invokeFunction('convertToInteractive',\n",
              "                                                    [key], {});\n",
              "        if (!dataTable) return;\n",
              "\n",
              "        const docLinkHtml = 'Like what you see? Visit the ' +\n",
              "          '<a target=\"_blank\" href=https://colab.research.google.com/notebooks/data_table.ipynb>data table notebook</a>'\n",
              "          + ' to learn more about interactive tables.';\n",
              "        element.innerHTML = '';\n",
              "        dataTable['output_type'] = 'display_data';\n",
              "        await google.colab.output.renderOutput(dataTable, element);\n",
              "        const docLink = document.createElement('div');\n",
              "        docLink.innerHTML = docLinkHtml;\n",
              "        element.appendChild(docLink);\n",
              "      }\n",
              "    </script>\n",
              "  </div>\n",
              "\n",
              "\n",
              "<div id=\"df-11e6830e-5e17-4a06-aaf9-ad2c548651fc\">\n",
              "  <button class=\"colab-df-quickchart\" onclick=\"quickchart('df-11e6830e-5e17-4a06-aaf9-ad2c548651fc')\"\n",
              "            title=\"Suggest charts\"\n",
              "            style=\"display:none;\">\n",
              "\n",
              "<svg xmlns=\"http://www.w3.org/2000/svg\" height=\"24px\"viewBox=\"0 0 24 24\"\n",
              "     width=\"24px\">\n",
              "    <g>\n",
              "        <path d=\"M19 3H5c-1.1 0-2 .9-2 2v14c0 1.1.9 2 2 2h14c1.1 0 2-.9 2-2V5c0-1.1-.9-2-2-2zM9 17H7v-7h2v7zm4 0h-2V7h2v10zm4 0h-2v-4h2v4z\"/>\n",
              "    </g>\n",
              "</svg>\n",
              "  </button>\n",
              "\n",
              "<style>\n",
              "  .colab-df-quickchart {\n",
              "      --bg-color: #E8F0FE;\n",
              "      --fill-color: #1967D2;\n",
              "      --hover-bg-color: #E2EBFA;\n",
              "      --hover-fill-color: #174EA6;\n",
              "      --disabled-fill-color: #AAA;\n",
              "      --disabled-bg-color: #DDD;\n",
              "  }\n",
              "\n",
              "  [theme=dark] .colab-df-quickchart {\n",
              "      --bg-color: #3B4455;\n",
              "      --fill-color: #D2E3FC;\n",
              "      --hover-bg-color: #434B5C;\n",
              "      --hover-fill-color: #FFFFFF;\n",
              "      --disabled-bg-color: #3B4455;\n",
              "      --disabled-fill-color: #666;\n",
              "  }\n",
              "\n",
              "  .colab-df-quickchart {\n",
              "    background-color: var(--bg-color);\n",
              "    border: none;\n",
              "    border-radius: 50%;\n",
              "    cursor: pointer;\n",
              "    display: none;\n",
              "    fill: var(--fill-color);\n",
              "    height: 32px;\n",
              "    padding: 0;\n",
              "    width: 32px;\n",
              "  }\n",
              "\n",
              "  .colab-df-quickchart:hover {\n",
              "    background-color: var(--hover-bg-color);\n",
              "    box-shadow: 0 1px 2px rgba(60, 64, 67, 0.3), 0 1px 3px 1px rgba(60, 64, 67, 0.15);\n",
              "    fill: var(--button-hover-fill-color);\n",
              "  }\n",
              "\n",
              "  .colab-df-quickchart-complete:disabled,\n",
              "  .colab-df-quickchart-complete:disabled:hover {\n",
              "    background-color: var(--disabled-bg-color);\n",
              "    fill: var(--disabled-fill-color);\n",
              "    box-shadow: none;\n",
              "  }\n",
              "\n",
              "  .colab-df-spinner {\n",
              "    border: 2px solid var(--fill-color);\n",
              "    border-color: transparent;\n",
              "    border-bottom-color: var(--fill-color);\n",
              "    animation:\n",
              "      spin 1s steps(1) infinite;\n",
              "  }\n",
              "\n",
              "  @keyframes spin {\n",
              "    0% {\n",
              "      border-color: transparent;\n",
              "      border-bottom-color: var(--fill-color);\n",
              "      border-left-color: var(--fill-color);\n",
              "    }\n",
              "    20% {\n",
              "      border-color: transparent;\n",
              "      border-left-color: var(--fill-color);\n",
              "      border-top-color: var(--fill-color);\n",
              "    }\n",
              "    30% {\n",
              "      border-color: transparent;\n",
              "      border-left-color: var(--fill-color);\n",
              "      border-top-color: var(--fill-color);\n",
              "      border-right-color: var(--fill-color);\n",
              "    }\n",
              "    40% {\n",
              "      border-color: transparent;\n",
              "      border-right-color: var(--fill-color);\n",
              "      border-top-color: var(--fill-color);\n",
              "    }\n",
              "    60% {\n",
              "      border-color: transparent;\n",
              "      border-right-color: var(--fill-color);\n",
              "    }\n",
              "    80% {\n",
              "      border-color: transparent;\n",
              "      border-right-color: var(--fill-color);\n",
              "      border-bottom-color: var(--fill-color);\n",
              "    }\n",
              "    90% {\n",
              "      border-color: transparent;\n",
              "      border-bottom-color: var(--fill-color);\n",
              "    }\n",
              "  }\n",
              "</style>\n",
              "\n",
              "  <script>\n",
              "    async function quickchart(key) {\n",
              "      const quickchartButtonEl =\n",
              "        document.querySelector('#' + key + ' button');\n",
              "      quickchartButtonEl.disabled = true;  // To prevent multiple clicks.\n",
              "      quickchartButtonEl.classList.add('colab-df-spinner');\n",
              "      try {\n",
              "        const charts = await google.colab.kernel.invokeFunction(\n",
              "            'suggestCharts', [key], {});\n",
              "      } catch (error) {\n",
              "        console.error('Error during call to suggestCharts:', error);\n",
              "      }\n",
              "      quickchartButtonEl.classList.remove('colab-df-spinner');\n",
              "      quickchartButtonEl.classList.add('colab-df-quickchart-complete');\n",
              "    }\n",
              "    (() => {\n",
              "      let quickchartButtonEl =\n",
              "        document.querySelector('#df-11e6830e-5e17-4a06-aaf9-ad2c548651fc button');\n",
              "      quickchartButtonEl.style.display =\n",
              "        google.colab.kernel.accessAllowed ? 'block' : 'none';\n",
              "    })();\n",
              "  </script>\n",
              "</div>\n",
              "\n",
              "  <div id=\"id_af63b2be-adc3-4011-9197-05cbd4b465a7\">\n",
              "    <style>\n",
              "      .colab-df-generate {\n",
              "        background-color: #E8F0FE;\n",
              "        border: none;\n",
              "        border-radius: 50%;\n",
              "        cursor: pointer;\n",
              "        display: none;\n",
              "        fill: #1967D2;\n",
              "        height: 32px;\n",
              "        padding: 0 0 0 0;\n",
              "        width: 32px;\n",
              "      }\n",
              "\n",
              "      .colab-df-generate:hover {\n",
              "        background-color: #E2EBFA;\n",
              "        box-shadow: 0px 1px 2px rgba(60, 64, 67, 0.3), 0px 1px 3px 1px rgba(60, 64, 67, 0.15);\n",
              "        fill: #174EA6;\n",
              "      }\n",
              "\n",
              "      [theme=dark] .colab-df-generate {\n",
              "        background-color: #3B4455;\n",
              "        fill: #D2E3FC;\n",
              "      }\n",
              "\n",
              "      [theme=dark] .colab-df-generate:hover {\n",
              "        background-color: #434B5C;\n",
              "        box-shadow: 0px 1px 3px 1px rgba(0, 0, 0, 0.15);\n",
              "        filter: drop-shadow(0px 1px 2px rgba(0, 0, 0, 0.3));\n",
              "        fill: #FFFFFF;\n",
              "      }\n",
              "    </style>\n",
              "    <button class=\"colab-df-generate\" onclick=\"generateWithVariable('y')\"\n",
              "            title=\"Generate code using this dataframe.\"\n",
              "            style=\"display:none;\">\n",
              "\n",
              "  <svg xmlns=\"http://www.w3.org/2000/svg\" height=\"24px\"viewBox=\"0 0 24 24\"\n",
              "       width=\"24px\">\n",
              "    <path d=\"M7,19H8.4L18.45,9,17,7.55,7,17.6ZM5,21V16.75L18.45,3.32a2,2,0,0,1,2.83,0l1.4,1.43a1.91,1.91,0,0,1,.58,1.4,1.91,1.91,0,0,1-.58,1.4L9.25,21ZM18.45,9,17,7.55Zm-12,3A5.31,5.31,0,0,0,4.9,8.1,5.31,5.31,0,0,0,1,6.5,5.31,5.31,0,0,0,4.9,4.9,5.31,5.31,0,0,0,6.5,1,5.31,5.31,0,0,0,8.1,4.9,5.31,5.31,0,0,0,12,6.5,5.46,5.46,0,0,0,6.5,12Z\"/>\n",
              "  </svg>\n",
              "    </button>\n",
              "    <script>\n",
              "      (() => {\n",
              "      const buttonEl =\n",
              "        document.querySelector('#id_af63b2be-adc3-4011-9197-05cbd4b465a7 button.colab-df-generate');\n",
              "      buttonEl.style.display =\n",
              "        google.colab.kernel.accessAllowed ? 'block' : 'none';\n",
              "\n",
              "      buttonEl.onclick = () => {\n",
              "        google.colab.notebook.generateWithVariable('y');\n",
              "      }\n",
              "      })();\n",
              "    </script>\n",
              "  </div>\n",
              "\n",
              "    </div>\n",
              "  </div>\n"
            ],
            "application/vnd.google.colaboratory.intrinsic+json": {
              "type": "dataframe",
              "variable_name": "y"
            }
          },
          "metadata": {},
          "execution_count": 103
        }
      ]
    },
    {
      "cell_type": "code",
      "source": [
        "# Define the maximum sequence length and vocabulary size\n",
        "maxlen = 10  # or any appropriate value\n",
        "max_features = 300  # or any appropriate value"
      ],
      "metadata": {
        "id": "w6s1RrB2s4_H"
      },
      "execution_count": 104,
      "outputs": []
    },
    {
      "cell_type": "code",
      "source": [
        "# Define the embedding dimension\n",
        "embed_dim = 128"
      ],
      "metadata": {
        "id": "x1whAnMFs8WX"
      },
      "execution_count": 105,
      "outputs": []
    },
    {
      "cell_type": "code",
      "source": [
        "normalisation_layer = BatchNormalization()"
      ],
      "metadata": {
        "id": "AaKPGs5hJQ5o"
      },
      "execution_count": 106,
      "outputs": []
    },
    {
      "cell_type": "code",
      "source": [
        "y = y['Label'].values\n",
        "le = LabelEncoder()\n",
        "y = le.fit_transform(y)"
      ],
      "metadata": {
        "id": "Y0iPolp0vH7C"
      },
      "execution_count": 107,
      "outputs": []
    },
    {
      "cell_type": "code",
      "source": [
        "scaler = MinMaxScaler()\n",
        "X = X.values\n",
        "X = scaler.fit_transform(X)"
      ],
      "metadata": {
        "id": "T7TX9oSTxUKd"
      },
      "execution_count": 108,
      "outputs": []
    },
    {
      "cell_type": "code",
      "source": [
        "X_train, X_test, y_train, y_test = train_test_split(X, y, test_size=0.2, random_state=42,stratify=y)"
      ],
      "metadata": {
        "id": "ovwt5aEyvRAV"
      },
      "execution_count": 109,
      "outputs": []
    },
    {
      "cell_type": "code",
      "source": [
        "X_train = X_train.reshape((X_train.shape[0],1, X_train.shape[1]))\n",
        "X_test = X_test.reshape((X_test.shape[0],1, X_test.shape[1]))\n",
        "##scaler = StandardScaler()\n",
        "#X_train=scaler.fit_transform(X_train)\n",
        "#X_test  = scaler.transform(X_test)"
      ],
      "metadata": {
        "id": "705TQX2eveXX"
      },
      "execution_count": 110,
      "outputs": []
    },
    {
      "cell_type": "code",
      "source": [
        "#model = Sequential()\n",
        "#model.add(Embedding(max_features, output_dim=embed_dim, input_length=maxlen, trainable=True))\n",
        "#model.add(SpatialDropout1D(0.2))\n",
        "#model.add(LSTM(units=128 , return_sequences = True , recurrent_dropout = 0.25 , dropout = 0.25))\n",
        "#model.add(LSTM(units=64 , recurrent_dropout = 0.2 , dropout = 0.2))\n",
        "#model.add(Dense(units = 32 , activation = 'relu'))\n",
        "#model.add(Dense(3, activation='softmax'))\n",
        "#model.compile(optimizer=tf.keras.optimizers.Adam(learning_rate = 0.001), loss='categorical_crossentropy', metrics=['accuracy'])\n",
        "\n",
        "#LSTM model defining\n",
        "model = Sequential()\n",
        "model.add(LSTM(units=64, input_shape=(1,X_train.shape[2]), return_sequences=True,kernel_regularizer='l2',input_dim =10))\n",
        "model.add(Dropout(0.2))\n",
        "model.add(LSTM(units=32,kernel_regularizer='l2'))\n",
        "model.add(Dropout(0.2))\n",
        "model.add(Dense(1, activation='sigmoid'))\n"
      ],
      "metadata": {
        "id": "YV7wHNHOumvZ"
      },
      "execution_count": 121,
      "outputs": []
    },
    {
      "cell_type": "code",
      "source": [
        "from keras.utils import plot_model\n",
        "plot_model(model, show_shapes=True, show_layer_names=True)"
      ],
      "metadata": {
        "colab": {
          "base_uri": "https://localhost:8080/",
          "height": 644
        },
        "id": "f6Hg-wxawtCw",
        "outputId": "8c0a340d-bbb6-49de-802b-d279ad4069d3"
      },
      "execution_count": 122,
      "outputs": [
        {
          "output_type": "execute_result",
          "data": {
            "image/png": "[encoded data removed]",
            "text/plain": [
              "<IPython.core.display.Image object>"
            ]
          },
          "metadata": {},
          "execution_count": 122
        }
      ]
    },
    {
      "cell_type": "code",
      "source": [
        "y"
      ],
      "metadata": {
        "colab": {
          "base_uri": "https://localhost:8080/"
        },
        "id": "a9_xx1DCGekt",
        "outputId": "e843e59e-d56b-43e2-c9a6-1d0a281d367b"
      },
      "execution_count": 123,
      "outputs": [
        {
          "output_type": "execute_result",
          "data": {
            "text/plain": [
              "array([1, 1, 0, ..., 1, 0, 0])"
            ]
          },
          "metadata": {},
          "execution_count": 123
        }
      ]
    },
    {
      "cell_type": "code",
      "source": [
        "#converting labels to one hot encoded format\n",
        "#num_classes = 2\n",
        "#y = to_categorical(y)"
      ],
      "metadata": {
        "id": "R-wb5wTfvOoU"
      },
      "execution_count": 124,
      "outputs": []
    },
    {
      "cell_type": "code",
      "source": [
        "#def handle_negative_values(data):\n",
        " # scaled_data = (data - data.min(axis=0)) / (data.max(axis=0) - data.min(axis=0))\n",
        "  #transformed_data = 1/(1+np.exp(-scaled_data))\n",
        "\n",
        "  #return transformed_data\n",
        "#transformed_data=handle_negative_values(X)\n",
        "#X = transformed_data"
      ],
      "metadata": {
        "id": "vUoGmzahTABZ"
      },
      "execution_count": 115,
      "outputs": []
    },
    {
      "cell_type": "code",
      "source": [
        "print(y_train.shape)\n",
        "print(y_test.shape)\n",
        "print(X_train.shape)\n",
        "print(X_test.shape)\n"
      ],
      "metadata": {
        "colab": {
          "base_uri": "https://localhost:8080/"
        },
        "id": "U1-mYGjqAoBi",
        "outputId": "dee4700a-4ad4-4878-f659-260fedea1795"
      },
      "execution_count": 125,
      "outputs": [
        {
          "output_type": "stream",
          "name": "stdout",
          "text": [
            "(122567,)\n",
            "(30642,)\n",
            "(122567, 1, 10)\n",
            "(30642, 1, 10)\n"
          ]
        }
      ]
    },
    {
      "cell_type": "code",
      "source": [
        "batch_size = 32\n",
        "epochs = 50"
      ],
      "metadata": {
        "id": "gy7Ehq4evgvo"
      },
      "execution_count": 126,
      "outputs": []
    },
    {
      "cell_type": "code",
      "source": [
        "model.summary()"
      ],
      "metadata": {
        "colab": {
          "base_uri": "https://localhost:8080/"
        },
        "id": "0XMVkDAklBzZ",
        "outputId": "16d74941-974a-417a-e3cd-738338b0c268"
      },
      "execution_count": 127,
      "outputs": [
        {
          "output_type": "stream",
          "name": "stdout",
          "text": [
            "Model: \"sequential_6\"\n",
            "_________________________________________________________________\n",
            " Layer (type)                Output Shape              Param #   \n",
            "=================================================================\n",
            " lstm_12 (LSTM)              (None, 1, 64)             19200     \n",
            "                                                                 \n",
            " dropout_10 (Dropout)        (None, 1, 64)             0         \n",
            "                                                                 \n",
            " lstm_13 (LSTM)              (None, 32)                12416     \n",
            "                                                                 \n",
            " dropout_11 (Dropout)        (None, 32)                0         \n",
            "                                                                 \n",
            " dense_7 (Dense)             (None, 1)                 33        \n",
            "                                                                 \n",
            "=================================================================\n",
            "Total params: 31649 (123.63 KB)\n",
            "Trainable params: 31649 (123.63 KB)\n",
            "Non-trainable params: 0 (0.00 Byte)\n",
            "_________________________________________________________________\n"
          ]
        }
      ]
    },
    {
      "cell_type": "code",
      "source": [
        "model.compile(optimizer=tf.keras.optimizers.Adam(learning_rate = 0.001), loss='binary_crossentropy', metrics=['accuracy'])"
      ],
      "metadata": {
        "id": "d1KlWPIS3XIs"
      },
      "execution_count": 130,
      "outputs": []
    },
    {
      "cell_type": "code",
      "source": [
        "# Define the early stopping monitor and patience\n",
        "early_stopping_monitor = 'val_loss'\n",
        "patience = 10\n",
        "\n",
        "# Create an instance of the EarlyStopping callback\n",
        "early_stopping = EarlyStopping(monitor=early_stopping_monitor, patience=patience, verbose=1, restore_best_weights=True)\n",
        "\n",
        "# Add the early stopping callback to the model's callbacks\n",
        "callbacks = [early_stopping]"
      ],
      "metadata": {
        "id": "EXPWmGosAR6Z"
      },
      "execution_count": 128,
      "outputs": []
    },
    {
      "cell_type": "code",
      "source": [
        "history = model.fit(X_train, y_train, batch_size = batch_size , validation_data = (X_test,y_test) , epochs = epochs,callbacks=callbacks)"
      ],
      "metadata": {
        "colab": {
          "base_uri": "https://localhost:8080/"
        },
        "id": "WNFOjjGPvyA-",
        "outputId": "61299581-98d4-4ee0-cfc1-e33a7078ab10"
      },
      "execution_count": 131,
      "outputs": [
        {
          "output_type": "stream",
          "name": "stdout",
          "text": [
            "Epoch 1/50\n",
            "3831/3831 [==============================] - 15s 3ms/step - loss: 0.7014 - accuracy: 0.5534 - val_loss: 0.6876 - val_accuracy: 0.5534\n",
            "Epoch 2/50\n",
            "3831/3831 [==============================] - 11s 3ms/step - loss: 0.6875 - accuracy: 0.5534 - val_loss: 0.6875 - val_accuracy: 0.5534\n",
            "Epoch 3/50\n",
            "3831/3831 [==============================] - 11s 3ms/step - loss: 0.6875 - accuracy: 0.5534 - val_loss: 0.6878 - val_accuracy: 0.5534\n",
            "Epoch 4/50\n",
            "3831/3831 [==============================] - 11s 3ms/step - loss: 0.6875 - accuracy: 0.5534 - val_loss: 0.6875 - val_accuracy: 0.5534\n",
            "Epoch 5/50\n",
            "3831/3831 [==============================] - 13s 3ms/step - loss: 0.6595 - accuracy: 0.5999 - val_loss: 0.5278 - val_accuracy: 0.7716\n",
            "Epoch 6/50\n",
            "3831/3831 [==============================] - 12s 3ms/step - loss: 0.5021 - accuracy: 0.7754 - val_loss: 0.4860 - val_accuracy: 0.7717\n",
            "Epoch 7/50\n",
            "3831/3831 [==============================] - 11s 3ms/step - loss: 0.4117 - accuracy: 0.8978 - val_loss: 0.3449 - val_accuracy: 0.9850\n",
            "Epoch 8/50\n",
            "3831/3831 [==============================] - 11s 3ms/step - loss: 0.3138 - accuracy: 0.9751 - val_loss: 0.2751 - val_accuracy: 0.9884\n",
            "Epoch 9/50\n",
            "3831/3831 [==============================] - 11s 3ms/step - loss: 0.2628 - accuracy: 0.9822 - val_loss: 0.2370 - val_accuracy: 0.9867\n",
            "Epoch 10/50\n",
            "3831/3831 [==============================] - 11s 3ms/step - loss: 0.2292 - accuracy: 0.9845 - val_loss: 0.2059 - val_accuracy: 0.9886\n",
            "Epoch 11/50\n",
            "3831/3831 [==============================] - 11s 3ms/step - loss: 0.2056 - accuracy: 0.9855 - val_loss: 0.1852 - val_accuracy: 0.9884\n",
            "Epoch 12/50\n",
            "3831/3831 [==============================] - 11s 3ms/step - loss: 0.1892 - accuracy: 0.9858 - val_loss: 0.1697 - val_accuracy: 0.9885\n",
            "Epoch 13/50\n",
            "3831/3831 [==============================] - 11s 3ms/step - loss: 0.1768 - accuracy: 0.9862 - val_loss: 0.1616 - val_accuracy: 0.9893\n",
            "Epoch 14/50\n",
            "3831/3831 [==============================] - 11s 3ms/step - loss: 0.1660 - accuracy: 0.9863 - val_loss: 0.1629 - val_accuracy: 0.9901\n",
            "Epoch 15/50\n",
            "3831/3831 [==============================] - 11s 3ms/step - loss: 0.1588 - accuracy: 0.9864 - val_loss: 0.1409 - val_accuracy: 0.9889\n",
            "Epoch 16/50\n",
            "3831/3831 [==============================] - 12s 3ms/step - loss: 0.1523 - accuracy: 0.9865 - val_loss: 0.1364 - val_accuracy: 0.9893\n",
            "Epoch 17/50\n",
            "3831/3831 [==============================] - 12s 3ms/step - loss: 0.1463 - accuracy: 0.9866 - val_loss: 0.1289 - val_accuracy: 0.9887\n",
            "Epoch 18/50\n",
            "3831/3831 [==============================] - 11s 3ms/step - loss: 0.1420 - accuracy: 0.9866 - val_loss: 0.1356 - val_accuracy: 0.9903\n",
            "Epoch 19/50\n",
            "3831/3831 [==============================] - 11s 3ms/step - loss: 0.1381 - accuracy: 0.9863 - val_loss: 0.1235 - val_accuracy: 0.9881\n",
            "Epoch 20/50\n",
            "3831/3831 [==============================] - 11s 3ms/step - loss: 0.1344 - accuracy: 0.9868 - val_loss: 0.1218 - val_accuracy: 0.9885\n",
            "Epoch 21/50\n",
            "3831/3831 [==============================] - 11s 3ms/step - loss: 0.1312 - accuracy: 0.9867 - val_loss: 0.1328 - val_accuracy: 0.9914\n",
            "Epoch 22/50\n",
            "3831/3831 [==============================] - 11s 3ms/step - loss: 0.1305 - accuracy: 0.9863 - val_loss: 0.1227 - val_accuracy: 0.9885\n",
            "Epoch 23/50\n",
            "3831/3831 [==============================] - 11s 3ms/step - loss: 0.1270 - accuracy: 0.9863 - val_loss: 0.1142 - val_accuracy: 0.9886\n",
            "Epoch 24/50\n",
            "3831/3831 [==============================] - 11s 3ms/step - loss: 0.1261 - accuracy: 0.9865 - val_loss: 0.1124 - val_accuracy: 0.9894\n",
            "Epoch 25/50\n",
            "3831/3831 [==============================] - 11s 3ms/step - loss: 0.1232 - accuracy: 0.9867 - val_loss: 0.1218 - val_accuracy: 0.9903\n",
            "Epoch 26/50\n",
            "3831/3831 [==============================] - 11s 3ms/step - loss: 0.1228 - accuracy: 0.9865 - val_loss: 0.1113 - val_accuracy: 0.9885\n",
            "Epoch 27/50\n",
            "3831/3831 [==============================] - 11s 3ms/step - loss: 0.1204 - accuracy: 0.9864 - val_loss: 0.1119 - val_accuracy: 0.9878\n",
            "Epoch 28/50\n",
            "3831/3831 [==============================] - 11s 3ms/step - loss: 0.1197 - accuracy: 0.9863 - val_loss: 0.1032 - val_accuracy: 0.9886\n",
            "Epoch 29/50\n",
            "3831/3831 [==============================] - 11s 3ms/step - loss: 0.1184 - accuracy: 0.9865 - val_loss: 0.1079 - val_accuracy: 0.9891\n",
            "Epoch 30/50\n",
            "3831/3831 [==============================] - 11s 3ms/step - loss: 0.1174 - accuracy: 0.9864 - val_loss: 0.1164 - val_accuracy: 0.9848\n",
            "Epoch 31/50\n",
            "3831/3831 [==============================] - 11s 3ms/step - loss: 0.1166 - accuracy: 0.9866 - val_loss: 0.1000 - val_accuracy: 0.9892\n",
            "Epoch 32/50\n",
            "3831/3831 [==============================] - 11s 3ms/step - loss: 0.1143 - accuracy: 0.9866 - val_loss: 0.0992 - val_accuracy: 0.9901\n",
            "Epoch 33/50\n",
            "3831/3831 [==============================] - 11s 3ms/step - loss: 0.1168 - accuracy: 0.9861 - val_loss: 0.1007 - val_accuracy: 0.9891\n",
            "Epoch 34/50\n",
            "3831/3831 [==============================] - 11s 3ms/step - loss: 0.1135 - accuracy: 0.9866 - val_loss: 0.1068 - val_accuracy: 0.9905\n",
            "Epoch 35/50\n",
            "3831/3831 [==============================] - 11s 3ms/step - loss: 0.1128 - accuracy: 0.9867 - val_loss: 0.1374 - val_accuracy: 0.9917\n",
            "Epoch 36/50\n",
            "3831/3831 [==============================] - 11s 3ms/step - loss: 0.1111 - accuracy: 0.9869 - val_loss: 0.0968 - val_accuracy: 0.9889\n",
            "Epoch 37/50\n",
            "3831/3831 [==============================] - 11s 3ms/step - loss: 0.1113 - accuracy: 0.9866 - val_loss: 0.1007 - val_accuracy: 0.9885\n",
            "Epoch 38/50\n",
            "3831/3831 [==============================] - 11s 3ms/step - loss: 0.1107 - accuracy: 0.9865 - val_loss: 0.1786 - val_accuracy: 0.9388\n",
            "Epoch 39/50\n",
            "3831/3831 [==============================] - 11s 3ms/step - loss: 0.1108 - accuracy: 0.9864 - val_loss: 0.0962 - val_accuracy: 0.9894\n",
            "Epoch 40/50\n",
            "3831/3831 [==============================] - 11s 3ms/step - loss: 0.1126 - accuracy: 0.9859 - val_loss: 0.1043 - val_accuracy: 0.9899\n",
            "Epoch 41/50\n",
            "3831/3831 [==============================] - 11s 3ms/step - loss: 0.1098 - accuracy: 0.9863 - val_loss: 0.0913 - val_accuracy: 0.9893\n",
            "Epoch 42/50\n",
            "3831/3831 [==============================] - 11s 3ms/step - loss: 0.1089 - accuracy: 0.9864 - val_loss: 0.0899 - val_accuracy: 0.9899\n",
            "Epoch 43/50\n",
            "3831/3831 [==============================] - 11s 3ms/step - loss: 0.1091 - accuracy: 0.9864 - val_loss: 0.0926 - val_accuracy: 0.9896\n",
            "Epoch 44/50\n",
            "3831/3831 [==============================] - 11s 3ms/step - loss: 0.1098 - accuracy: 0.9864 - val_loss: 0.1100 - val_accuracy: 0.9882\n",
            "Epoch 45/50\n",
            "3831/3831 [==============================] - 11s 3ms/step - loss: 0.1083 - accuracy: 0.9865 - val_loss: 0.0998 - val_accuracy: 0.9900\n",
            "Epoch 46/50\n",
            "3831/3831 [==============================] - 11s 3ms/step - loss: 0.1077 - accuracy: 0.9866 - val_loss: 0.0887 - val_accuracy: 0.9889\n",
            "Epoch 47/50\n",
            "3831/3831 [==============================] - 11s 3ms/step - loss: 0.1076 - accuracy: 0.9864 - val_loss: 0.0882 - val_accuracy: 0.9895\n",
            "Epoch 48/50\n",
            "3831/3831 [==============================] - 11s 3ms/step - loss: 0.1088 - accuracy: 0.9860 - val_loss: 0.0925 - val_accuracy: 0.9905\n",
            "Epoch 49/50\n",
            "3831/3831 [==============================] - 11s 3ms/step - loss: 0.1066 - accuracy: 0.9863 - val_loss: 0.0890 - val_accuracy: 0.9908\n",
            "Epoch 50/50\n",
            "3831/3831 [==============================] - 11s 3ms/step - loss: 0.1069 - accuracy: 0.9861 - val_loss: 0.0893 - val_accuracy: 0.9894\n"
          ]
        }
      ]
    },
    {
      "cell_type": "code",
      "source": [
        "print(\"Accuracy of the model on Training Data is - \" , model.evaluate(X_train,y_train)[1]*100 , \"%\")\n",
        "print(\"Accuracy of the model on Testing Data is - \" , model.evaluate(X_test,y_test)[1]*100 , \"%\")"
      ],
      "metadata": {
        "colab": {
          "base_uri": "https://localhost:8080/"
        },
        "id": "xFsPpEVIxi9Q",
        "outputId": "682045c6-ddb7-4a99-fc8a-71780739b989"
      },
      "execution_count": 132,
      "outputs": [
        {
          "output_type": "stream",
          "name": "stdout",
          "text": [
            "3831/3831 [==============================] - 5s 1ms/step - loss: 0.0907 - accuracy: 0.9892\n",
            "Accuracy of the model on Training Data is -  98.91651272773743 %\n",
            "958/958 [==============================] - 1s 1ms/step - loss: 0.0893 - accuracy: 0.9894\n",
            "Accuracy of the model on Testing Data is -  98.93609881401062 %\n"
          ]
        }
      ]
    },
    {
      "cell_type": "code",
      "source": [
        "import matplotlib.pyplot as plt\n",
        "epochs = [i for i in range(1,51)]\n",
        "fig , ax = plt.subplots(1,2)\n",
        "train_acc = history.history['accuracy']\n",
        "train_loss = history.history['loss']\n",
        "val_acc = history.history['val_accuracy']\n",
        "val_loss = history.history['val_loss']\n",
        "fig.set_size_inches(20,10)\n",
        "\n",
        "ax[0].plot(epochs , train_acc , 'go-' , label = 'Training Accuracy')\n",
        "ax[0].plot(epochs , val_acc , 'ro-' , label = 'Validation Accuracy')\n",
        "ax[0].set_title('Training & Validation Accuracy')\n",
        "ax[0].legend()\n",
        "ax[0].set_xlabel(\"Epochs\")\n",
        "ax[0].set_ylabel(\"Accuracy\")\n",
        "\n",
        "ax[1].plot(epochs , train_loss , 'go-' , label = 'Training Loss')\n",
        "ax[1].plot(epochs , val_loss , 'ro-' , label = 'Validation Loss')\n",
        "ax[1].set_title('Training & Validation Loss')\n",
        "ax[1].legend()\n",
        "ax[1].set_xlabel(\"Epochs\")\n",
        "ax[1].set_ylabel(\"Loss\")\n",
        "plt.show()"
      ],
      "metadata": {
        "colab": {
          "base_uri": "https://localhost:8080/",
          "height": 637
        },
        "id": "iVc4vxPa8T1w",
        "outputId": "76704350-67e0-4b0e-dfba-767010cd599e"
      },
      "execution_count": 133,
      "outputs": [
        {
          "output_type": "display_data",
          "data": {
            "text/plain": [
              "<Figure size 2000x1000 with 2 Axes>"
            ],
            "image/png": "[encoded data removed]"
          },
          "metadata": {}
        }
      ]
    },
    {
      "cell_type": "code",
      "source": [
        "# Plot of loss vs epoch of train and test dataset\n",
        "plt.plot(history.history['loss'])\n",
        "plt.plot(history.history['val_loss'])\n",
        "plt.title(\"Plot of loss vs epoch for train and test dataset\")\n",
        "plt.ylabel('loss')\n",
        "plt.xlabel('epoch')\n",
        "plt.legend(['train', 'test'], loc='best')\n",
        "#plt.savefig('lstm_binary_loss.png')\n",
        "plt.show()"
      ],
      "metadata": {
        "colab": {
          "base_uri": "https://localhost:8080/",
          "height": 472
        },
        "id": "c5lKq1Dbb0jO",
        "outputId": "520405b0-5ad9-4656-eafd-ca1f872c2149"
      },
      "execution_count": 134,
      "outputs": [
        {
          "output_type": "display_data",
          "data": {
            "text/plain": [
              "<Figure size 640x480 with 1 Axes>"
            ],
            "image/png": "[encoded data removed]"
          },
          "metadata": {}
        }
      ]
    },
    {
      "cell_type": "code",
      "source": [
        "y_pred = model.predict(X_test)\n",
        "y_pred = np.round(y_pred)"
      ],
      "metadata": {
        "colab": {
          "base_uri": "https://localhost:8080/"
        },
        "id": "nqO-qxcT9Edd",
        "outputId": "c89994f7-7ed3-4984-a1fc-83ae6b7b8715"
      },
      "execution_count": 135,
      "outputs": [
        {
          "output_type": "stream",
          "name": "stdout",
          "text": [
            "958/958 [==============================] - 33s 34ms/step\n"
          ]
        }
      ]
    },
    {
      "cell_type": "code",
      "source": [
        "y_pred"
      ],
      "metadata": {
        "colab": {
          "base_uri": "https://localhost:8080/"
        },
        "id": "GMmTkKsiSSZ0",
        "outputId": "3004b889-4646-4f09-da88-5dd0451035e0"
      },
      "execution_count": 136,
      "outputs": [
        {
          "output_type": "execute_result",
          "data": {
            "text/plain": [
              "array([[1.],\n",
              "       [1.],\n",
              "       [0.],\n",
              "       ...,\n",
              "       [1.],\n",
              "       [0.],\n",
              "       [0.]], dtype=float32)"
            ]
          },
          "metadata": {},
          "execution_count": 136
        }
      ]
    },
    {
      "cell_type": "code",
      "source": [
        "print(classification_report(y_test, y_pred))"
      ],
      "metadata": {
        "colab": {
          "base_uri": "https://localhost:8080/"
        },
        "id": "4j_HMcWd9lXo",
        "outputId": "ce689e67-beba-4cdd-fdcc-dae3b7f57d50"
      },
      "execution_count": 137,
      "outputs": [
        {
          "output_type": "stream",
          "name": "stdout",
          "text": [
            "              precision    recall  f1-score   support\n",
            "\n",
            "           0       0.98      1.00      0.99     16957\n",
            "           1       1.00      0.98      0.99     13685\n",
            "\n",
            "    accuracy                           0.99     30642\n",
            "   macro avg       0.99      0.99      0.99     30642\n",
            "weighted avg       0.99      0.99      0.99     30642\n",
            "\n"
          ]
        }
      ]
    },
    {
      "cell_type": "code",
      "source": [
        "y_true_encoded = le.fit_transform(y_test)"
      ],
      "metadata": {
        "id": "qSA7qakv9xFE"
      },
      "execution_count": 138,
      "outputs": []
    },
    {
      "cell_type": "code",
      "source": [
        "y_pred_labels = le.fit_transform(y_pred)"
      ],
      "metadata": {
        "id": "U77QL9Nm-Mbe",
        "colab": {
          "base_uri": "https://localhost:8080/"
        },
        "outputId": "8093ab09-1911-4613-b91e-033d562ea6db"
      },
      "execution_count": 139,
      "outputs": [
        {
          "output_type": "stream",
          "name": "stderr",
          "text": [
            "/usr/local/lib/python3.10/dist-packages/sklearn/preprocessing/_label.py:116: DataConversionWarning: A column-vector y was passed when a 1d array was expected. Please change the shape of y to (n_samples, ), for example using ravel().\n",
            "  y = column_or_1d(y, warn=True)\n"
          ]
        }
      ]
    },
    {
      "cell_type": "code",
      "source": [
        "confusion_mat = confusion_matrix(y_test, y_pred)"
      ],
      "metadata": {
        "id": "pY9qxXbm-48b"
      },
      "execution_count": 140,
      "outputs": []
    },
    {
      "cell_type": "code",
      "source": [
        "confusion_mat"
      ],
      "metadata": {
        "colab": {
          "base_uri": "https://localhost:8080/"
        },
        "id": "u1m_PVLB-_EP",
        "outputId": "2e86c827-4399-4a87-aee5-297a409297f1"
      },
      "execution_count": 141,
      "outputs": [
        {
          "output_type": "execute_result",
          "data": {
            "text/plain": [
              "array([[16946,    11],\n",
              "       [  315, 13370]])"
            ]
          },
          "metadata": {},
          "execution_count": 141
        }
      ]
    },
    {
      "cell_type": "code",
      "source": [
        "logr_bin_df = pd.DataFrame({'Actual': y_true_encoded, 'Predicted': y_pred_labels})\n",
        "print(logr_bin_df)"
      ],
      "metadata": {
        "colab": {
          "base_uri": "https://localhost:8080/"
        },
        "id": "E1JQGpt2_Auo",
        "outputId": "970c7700-1c99-4adc-f08f-6f41aae39ea6"
      },
      "execution_count": 142,
      "outputs": [
        {
          "output_type": "stream",
          "name": "stdout",
          "text": [
            "       Actual  Predicted\n",
            "0           1          1\n",
            "1           1          1\n",
            "2           0          0\n",
            "3           0          0\n",
            "4           0          0\n",
            "...       ...        ...\n",
            "30637       0          0\n",
            "30638       0          0\n",
            "30639       1          1\n",
            "30640       0          0\n",
            "30641       0          0\n",
            "\n",
            "[30642 rows x 2 columns]\n"
          ]
        }
      ]
    },
    {
      "cell_type": "code",
      "source": [
        "from keras.models import save_model\n",
        "\n",
        "# Assuming 'model' is your trained Keras model\n",
        "model.save('binbalancedModel2.h5')  # Save the model in HDF5 format"
      ],
      "metadata": {
        "colab": {
          "base_uri": "https://localhost:8080/"
        },
        "id": "t5T-Fngb_GXf",
        "outputId": "f54e1eb4-77cd-4d7a-9b9f-a5396794a018"
      },
      "execution_count": 144,
      "outputs": [
        {
          "output_type": "stream",
          "name": "stderr",
          "text": [
            "/usr/local/lib/python3.10/dist-packages/keras/src/engine/training.py:3103: UserWarning: You are saving your model as an HDF5 file via `model.save()`. This file format is considered legacy. We recommend using instead the native Keras format, e.g. `model.save('my_model.keras')`.\n",
            "  saving_api.save_model(\n"
          ]
        }
      ]
    },
    {
      "cell_type": "code",
      "source": [],
      "metadata": {
        "id": "8DJmJ4z8uNea"
      },
      "execution_count": null,
      "outputs": []
    }
  ]
}