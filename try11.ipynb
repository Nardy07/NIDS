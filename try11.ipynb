{
  "cells": [
    {
      "cell_type": "markdown",
      "metadata": {
        "id": "view-in-github",
        "colab_type": "text"
      },
      "source": [
        "<a href=\"https://colab.research.google.com/github/Nardy07/NIDS/blob/main/try11.ipynb\" target=\"_parent\"><img src=\"https://colab.research.google.com/assets/colab-badge.svg\" alt=\"Open In Colab\"/></a>"
      ]
    },
    {
      "cell_type": "code",
      "execution_count": 1,
      "id": "940b92ec-adb3-42bb-8954-c5d11a54a69a",
      "metadata": {
        "id": "940b92ec-adb3-42bb-8954-c5d11a54a69a"
      },
      "outputs": [],
      "source": [
        "import pandas as pd\n",
        "import numpy as np\n",
        "from keras.utils import to_categorical\n",
        "import matplotlib.pyplot as plt\n",
        "\n",
        "from keras.models import Sequential\n",
        "from keras.layers import LSTM, Dense, Dropout\n",
        "from keras.callbacks import EarlyStopping\n"
      ]
    },
    {
      "cell_type": "code",
      "execution_count": 4,
      "id": "d6d3a0df-bda7-479f-aced-c0dd6a320c92",
      "metadata": {
        "id": "d6d3a0df-bda7-479f-aced-c0dd6a320c92"
      },
      "outputs": [],
      "source": [
        "df= pd.read_csv('balanced_data_try.csv')"
      ]
    },
    {
      "cell_type": "code",
      "source": [
        "df = df.drop(df.columns[0], axis=1)"
      ],
      "metadata": {
        "id": "H0uYWDTuYVO_"
      },
      "id": "H0uYWDTuYVO_",
      "execution_count": 6,
      "outputs": []
    },
    {
      "cell_type": "code",
      "source": [
        "df"
      ],
      "metadata": {
        "id": "XCM5QnPaYqg6",
        "outputId": "58470e6f-ecd0-406d-ce76-554533c460c4",
        "colab": {
          "base_uri": "https://localhost:8080/",
          "height": 444
        }
      },
      "id": "XCM5QnPaYqg6",
      "execution_count": 7,
      "outputs": [
        {
          "output_type": "execute_result",
          "data": {
            "text/plain": [
              "        Fwd_Pkt_Len_Mean  Bwd_IAT_Tot  Bwd_IAT_Max  Pkt_Len_Max  Pkt_Len_Mean  \\\n",
              "0               0.862912     1.164843     0.149819     1.483322      2.858391   \n",
              "1              -0.154458    -0.380121    -0.374572    -0.164223     -0.281857   \n",
              "2               0.138330    -0.378386    -0.372989    -0.026283     -0.077528   \n",
              "3              -0.154458    -0.380180    -0.374651    -0.164223     -0.281857   \n",
              "4              -0.154458    -0.380180    -0.374651    -0.164223     -0.281857   \n",
              "...                  ...          ...          ...          ...           ...   \n",
              "136843         -0.125131     2.022758     2.871826    -0.156219     -0.263929   \n",
              "136844         -0.125131     2.018876     2.866581    -0.156219     -0.263929   \n",
              "136845         -0.125131     2.030522     2.877070    -0.156219     -0.263929   \n",
              "136846         -0.154458    -0.380180    -0.374651    -0.164223     -0.281857   \n",
              "136847         -0.154458    -0.380180    -0.374651    -0.164223     -0.281857   \n",
              "\n",
              "        Pkt_Len_Std  Pkt_Len_Var  Pkt_Size_Avg  Fwd_Seg_Size_Avg  \\\n",
              "0          2.085865     0.217784      2.697656          0.862912   \n",
              "1         -0.233345    -0.053107     -0.296156         -0.154458   \n",
              "2          0.016422    -0.049965     -0.086238          0.138330   \n",
              "3         -0.233345    -0.053107     -0.296156         -0.154458   \n",
              "4         -0.233345    -0.053107     -0.296156         -0.154458   \n",
              "...             ...          ...           ...               ...   \n",
              "136843    -0.213080    -0.053086     -0.277584         -0.125131   \n",
              "136844    -0.213080    -0.053086     -0.277584         -0.125131   \n",
              "136845    -0.213080    -0.053086     -0.277584         -0.125131   \n",
              "136846    -0.233345    -0.053107     -0.296156         -0.154458   \n",
              "136847    -0.233345    -0.053107     -0.296156         -0.154458   \n",
              "\n",
              "        Init_Bwd_Win_Byts  intrusion  abnormal  Normal     Label  \n",
              "0                2.420659          0     False    True    Normal  \n",
              "1                2.420615          0     False    True    Normal  \n",
              "2                2.420659          0     False    True    Normal  \n",
              "3               -0.418093          1      True   False  abnormal  \n",
              "4               -0.418137          1      True   False  abnormal  \n",
              "...                   ...        ...       ...     ...       ...  \n",
              "136843          -0.415309          1      True   False  abnormal  \n",
              "136844          -0.415309          1      True   False  abnormal  \n",
              "136845          -0.415309          1      True   False  abnormal  \n",
              "136846          -0.418093          1      True   False  abnormal  \n",
              "136847          -0.418137          1      True   False  abnormal  \n",
              "\n",
              "[136848 rows x 14 columns]"
            ],
            "text/html": [
              "\n",
              "  <div id=\"df-e62d4cc2-3c98-44c7-8275-5f884fdbebdb\" class=\"colab-df-container\">\n",
              "    <div>\n",
              "<style scoped>\n",
              "    .dataframe tbody tr th:only-of-type {\n",
              "        vertical-align: middle;\n",
              "    }\n",
              "\n",
              "    .dataframe tbody tr th {\n",
              "        vertical-align: top;\n",
              "    }\n",
              "\n",
              "    .dataframe thead th {\n",
              "        text-align: right;\n",
              "    }\n",
              "</style>\n",
              "<table border=\"1\" class=\"dataframe\">\n",
              "  <thead>\n",
              "    <tr style=\"text-align: right;\">\n",
              "      <th></th>\n",
              "      <th>Fwd_Pkt_Len_Mean</th>\n",
              "      <th>Bwd_IAT_Tot</th>\n",
              "      <th>Bwd_IAT_Max</th>\n",
              "      <th>Pkt_Len_Max</th>\n",
              "      <th>Pkt_Len_Mean</th>\n",
              "      <th>Pkt_Len_Std</th>\n",
              "      <th>Pkt_Len_Var</th>\n",
              "      <th>Pkt_Size_Avg</th>\n",
              "      <th>Fwd_Seg_Size_Avg</th>\n",
              "      <th>Init_Bwd_Win_Byts</th>\n",
              "      <th>intrusion</th>\n",
              "      <th>abnormal</th>\n",
              "      <th>Normal</th>\n",
              "      <th>Label</th>\n",
              "    </tr>\n",
              "  </thead>\n",
              "  <tbody>\n",
              "    <tr>\n",
              "      <th>0</th>\n",
              "      <td>0.862912</td>\n",
              "      <td>1.164843</td>\n",
              "      <td>0.149819</td>\n",
              "      <td>1.483322</td>\n",
              "      <td>2.858391</td>\n",
              "      <td>2.085865</td>\n",
              "      <td>0.217784</td>\n",
              "      <td>2.697656</td>\n",
              "      <td>0.862912</td>\n",
              "      <td>2.420659</td>\n",
              "      <td>0</td>\n",
              "      <td>False</td>\n",
              "      <td>True</td>\n",
              "      <td>Normal</td>\n",
              "    </tr>\n",
              "    <tr>\n",
              "      <th>1</th>\n",
              "      <td>-0.154458</td>\n",
              "      <td>-0.380121</td>\n",
              "      <td>-0.374572</td>\n",
              "      <td>-0.164223</td>\n",
              "      <td>-0.281857</td>\n",
              "      <td>-0.233345</td>\n",
              "      <td>-0.053107</td>\n",
              "      <td>-0.296156</td>\n",
              "      <td>-0.154458</td>\n",
              "      <td>2.420615</td>\n",
              "      <td>0</td>\n",
              "      <td>False</td>\n",
              "      <td>True</td>\n",
              "      <td>Normal</td>\n",
              "    </tr>\n",
              "    <tr>\n",
              "      <th>2</th>\n",
              "      <td>0.138330</td>\n",
              "      <td>-0.378386</td>\n",
              "      <td>-0.372989</td>\n",
              "      <td>-0.026283</td>\n",
              "      <td>-0.077528</td>\n",
              "      <td>0.016422</td>\n",
              "      <td>-0.049965</td>\n",
              "      <td>-0.086238</td>\n",
              "      <td>0.138330</td>\n",
              "      <td>2.420659</td>\n",
              "      <td>0</td>\n",
              "      <td>False</td>\n",
              "      <td>True</td>\n",
              "      <td>Normal</td>\n",
              "    </tr>\n",
              "    <tr>\n",
              "      <th>3</th>\n",
              "      <td>-0.154458</td>\n",
              "      <td>-0.380180</td>\n",
              "      <td>-0.374651</td>\n",
              "      <td>-0.164223</td>\n",
              "      <td>-0.281857</td>\n",
              "      <td>-0.233345</td>\n",
              "      <td>-0.053107</td>\n",
              "      <td>-0.296156</td>\n",
              "      <td>-0.154458</td>\n",
              "      <td>-0.418093</td>\n",
              "      <td>1</td>\n",
              "      <td>True</td>\n",
              "      <td>False</td>\n",
              "      <td>abnormal</td>\n",
              "    </tr>\n",
              "    <tr>\n",
              "      <th>4</th>\n",
              "      <td>-0.154458</td>\n",
              "      <td>-0.380180</td>\n",
              "      <td>-0.374651</td>\n",
              "      <td>-0.164223</td>\n",
              "      <td>-0.281857</td>\n",
              "      <td>-0.233345</td>\n",
              "      <td>-0.053107</td>\n",
              "      <td>-0.296156</td>\n",
              "      <td>-0.154458</td>\n",
              "      <td>-0.418137</td>\n",
              "      <td>1</td>\n",
              "      <td>True</td>\n",
              "      <td>False</td>\n",
              "      <td>abnormal</td>\n",
              "    </tr>\n",
              "    <tr>\n",
              "      <th>...</th>\n",
              "      <td>...</td>\n",
              "      <td>...</td>\n",
              "      <td>...</td>\n",
              "      <td>...</td>\n",
              "      <td>...</td>\n",
              "      <td>...</td>\n",
              "      <td>...</td>\n",
              "      <td>...</td>\n",
              "      <td>...</td>\n",
              "      <td>...</td>\n",
              "      <td>...</td>\n",
              "      <td>...</td>\n",
              "      <td>...</td>\n",
              "      <td>...</td>\n",
              "    </tr>\n",
              "    <tr>\n",
              "      <th>136843</th>\n",
              "      <td>-0.125131</td>\n",
              "      <td>2.022758</td>\n",
              "      <td>2.871826</td>\n",
              "      <td>-0.156219</td>\n",
              "      <td>-0.263929</td>\n",
              "      <td>-0.213080</td>\n",
              "      <td>-0.053086</td>\n",
              "      <td>-0.277584</td>\n",
              "      <td>-0.125131</td>\n",
              "      <td>-0.415309</td>\n",
              "      <td>1</td>\n",
              "      <td>True</td>\n",
              "      <td>False</td>\n",
              "      <td>abnormal</td>\n",
              "    </tr>\n",
              "    <tr>\n",
              "      <th>136844</th>\n",
              "      <td>-0.125131</td>\n",
              "      <td>2.018876</td>\n",
              "      <td>2.866581</td>\n",
              "      <td>-0.156219</td>\n",
              "      <td>-0.263929</td>\n",
              "      <td>-0.213080</td>\n",
              "      <td>-0.053086</td>\n",
              "      <td>-0.277584</td>\n",
              "      <td>-0.125131</td>\n",
              "      <td>-0.415309</td>\n",
              "      <td>1</td>\n",
              "      <td>True</td>\n",
              "      <td>False</td>\n",
              "      <td>abnormal</td>\n",
              "    </tr>\n",
              "    <tr>\n",
              "      <th>136845</th>\n",
              "      <td>-0.125131</td>\n",
              "      <td>2.030522</td>\n",
              "      <td>2.877070</td>\n",
              "      <td>-0.156219</td>\n",
              "      <td>-0.263929</td>\n",
              "      <td>-0.213080</td>\n",
              "      <td>-0.053086</td>\n",
              "      <td>-0.277584</td>\n",
              "      <td>-0.125131</td>\n",
              "      <td>-0.415309</td>\n",
              "      <td>1</td>\n",
              "      <td>True</td>\n",
              "      <td>False</td>\n",
              "      <td>abnormal</td>\n",
              "    </tr>\n",
              "    <tr>\n",
              "      <th>136846</th>\n",
              "      <td>-0.154458</td>\n",
              "      <td>-0.380180</td>\n",
              "      <td>-0.374651</td>\n",
              "      <td>-0.164223</td>\n",
              "      <td>-0.281857</td>\n",
              "      <td>-0.233345</td>\n",
              "      <td>-0.053107</td>\n",
              "      <td>-0.296156</td>\n",
              "      <td>-0.154458</td>\n",
              "      <td>-0.418093</td>\n",
              "      <td>1</td>\n",
              "      <td>True</td>\n",
              "      <td>False</td>\n",
              "      <td>abnormal</td>\n",
              "    </tr>\n",
              "    <tr>\n",
              "      <th>136847</th>\n",
              "      <td>-0.154458</td>\n",
              "      <td>-0.380180</td>\n",
              "      <td>-0.374651</td>\n",
              "      <td>-0.164223</td>\n",
              "      <td>-0.281857</td>\n",
              "      <td>-0.233345</td>\n",
              "      <td>-0.053107</td>\n",
              "      <td>-0.296156</td>\n",
              "      <td>-0.154458</td>\n",
              "      <td>-0.418137</td>\n",
              "      <td>1</td>\n",
              "      <td>True</td>\n",
              "      <td>False</td>\n",
              "      <td>abnormal</td>\n",
              "    </tr>\n",
              "  </tbody>\n",
              "</table>\n",
              "<p>136848 rows × 14 columns</p>\n",
              "</div>\n",
              "    <div class=\"colab-df-buttons\">\n",
              "\n",
              "  <div class=\"colab-df-container\">\n",
              "    <button class=\"colab-df-convert\" onclick=\"convertToInteractive('df-e62d4cc2-3c98-44c7-8275-5f884fdbebdb')\"\n",
              "            title=\"Convert this dataframe to an interactive table.\"\n",
              "            style=\"display:none;\">\n",
              "\n",
              "  <svg xmlns=\"http://www.w3.org/2000/svg\" height=\"24px\" viewBox=\"0 -960 960 960\">\n",
              "    <path d=\"M120-120v-720h720v720H120Zm60-500h600v-160H180v160Zm220 220h160v-160H400v160Zm0 220h160v-160H400v160ZM180-400h160v-160H180v160Zm440 0h160v-160H620v160ZM180-180h160v-160H180v160Zm440 0h160v-160H620v160Z\"/>\n",
              "  </svg>\n",
              "    </button>\n",
              "\n",
              "  <style>\n",
              "    .colab-df-container {\n",
              "      display:flex;\n",
              "      gap: 12px;\n",
              "    }\n",
              "\n",
              "    .colab-df-convert {\n",
              "      background-color: #E8F0FE;\n",
              "      border: none;\n",
              "      border-radius: 50%;\n",
              "      cursor: pointer;\n",
              "      display: none;\n",
              "      fill: #1967D2;\n",
              "      height: 32px;\n",
              "      padding: 0 0 0 0;\n",
              "      width: 32px;\n",
              "    }\n",
              "\n",
              "    .colab-df-convert:hover {\n",
              "      background-color: #E2EBFA;\n",
              "      box-shadow: 0px 1px 2px rgba(60, 64, 67, 0.3), 0px 1px 3px 1px rgba(60, 64, 67, 0.15);\n",
              "      fill: #174EA6;\n",
              "    }\n",
              "\n",
              "    .colab-df-buttons div {\n",
              "      margin-bottom: 4px;\n",
              "    }\n",
              "\n",
              "    [theme=dark] .colab-df-convert {\n",
              "      background-color: #3B4455;\n",
              "      fill: #D2E3FC;\n",
              "    }\n",
              "\n",
              "    [theme=dark] .colab-df-convert:hover {\n",
              "      background-color: #434B5C;\n",
              "      box-shadow: 0px 1px 3px 1px rgba(0, 0, 0, 0.15);\n",
              "      filter: drop-shadow(0px 1px 2px rgba(0, 0, 0, 0.3));\n",
              "      fill: #FFFFFF;\n",
              "    }\n",
              "  </style>\n",
              "\n",
              "    <script>\n",
              "      const buttonEl =\n",
              "        document.querySelector('#df-e62d4cc2-3c98-44c7-8275-5f884fdbebdb button.colab-df-convert');\n",
              "      buttonEl.style.display =\n",
              "        google.colab.kernel.accessAllowed ? 'block' : 'none';\n",
              "\n",
              "      async function convertToInteractive(key) {\n",
              "        const element = document.querySelector('#df-e62d4cc2-3c98-44c7-8275-5f884fdbebdb');\n",
              "        const dataTable =\n",
              "          await google.colab.kernel.invokeFunction('convertToInteractive',\n",
              "                                                    [key], {});\n",
              "        if (!dataTable) return;\n",
              "\n",
              "        const docLinkHtml = 'Like what you see? Visit the ' +\n",
              "          '<a target=\"_blank\" href=https://colab.research.google.com/notebooks/data_table.ipynb>data table notebook</a>'\n",
              "          + ' to learn more about interactive tables.';\n",
              "        element.innerHTML = '';\n",
              "        dataTable['output_type'] = 'display_data';\n",
              "        await google.colab.output.renderOutput(dataTable, element);\n",
              "        const docLink = document.createElement('div');\n",
              "        docLink.innerHTML = docLinkHtml;\n",
              "        element.appendChild(docLink);\n",
              "      }\n",
              "    </script>\n",
              "  </div>\n",
              "\n",
              "\n",
              "<div id=\"df-a0b84890-0c59-4f37-9acb-640c0443b7f8\">\n",
              "  <button class=\"colab-df-quickchart\" onclick=\"quickchart('df-a0b84890-0c59-4f37-9acb-640c0443b7f8')\"\n",
              "            title=\"Suggest charts\"\n",
              "            style=\"display:none;\">\n",
              "\n",
              "<svg xmlns=\"http://www.w3.org/2000/svg\" height=\"24px\"viewBox=\"0 0 24 24\"\n",
              "     width=\"24px\">\n",
              "    <g>\n",
              "        <path d=\"M19 3H5c-1.1 0-2 .9-2 2v14c0 1.1.9 2 2 2h14c1.1 0 2-.9 2-2V5c0-1.1-.9-2-2-2zM9 17H7v-7h2v7zm4 0h-2V7h2v10zm4 0h-2v-4h2v4z\"/>\n",
              "    </g>\n",
              "</svg>\n",
              "  </button>\n",
              "\n",
              "<style>\n",
              "  .colab-df-quickchart {\n",
              "      --bg-color: #E8F0FE;\n",
              "      --fill-color: #1967D2;\n",
              "      --hover-bg-color: #E2EBFA;\n",
              "      --hover-fill-color: #174EA6;\n",
              "      --disabled-fill-color: #AAA;\n",
              "      --disabled-bg-color: #DDD;\n",
              "  }\n",
              "\n",
              "  [theme=dark] .colab-df-quickchart {\n",
              "      --bg-color: #3B4455;\n",
              "      --fill-color: #D2E3FC;\n",
              "      --hover-bg-color: #434B5C;\n",
              "      --hover-fill-color: #FFFFFF;\n",
              "      --disabled-bg-color: #3B4455;\n",
              "      --disabled-fill-color: #666;\n",
              "  }\n",
              "\n",
              "  .colab-df-quickchart {\n",
              "    background-color: var(--bg-color);\n",
              "    border: none;\n",
              "    border-radius: 50%;\n",
              "    cursor: pointer;\n",
              "    display: none;\n",
              "    fill: var(--fill-color);\n",
              "    height: 32px;\n",
              "    padding: 0;\n",
              "    width: 32px;\n",
              "  }\n",
              "\n",
              "  .colab-df-quickchart:hover {\n",
              "    background-color: var(--hover-bg-color);\n",
              "    box-shadow: 0 1px 2px rgba(60, 64, 67, 0.3), 0 1px 3px 1px rgba(60, 64, 67, 0.15);\n",
              "    fill: var(--button-hover-fill-color);\n",
              "  }\n",
              "\n",
              "  .colab-df-quickchart-complete:disabled,\n",
              "  .colab-df-quickchart-complete:disabled:hover {\n",
              "    background-color: var(--disabled-bg-color);\n",
              "    fill: var(--disabled-fill-color);\n",
              "    box-shadow: none;\n",
              "  }\n",
              "\n",
              "  .colab-df-spinner {\n",
              "    border: 2px solid var(--fill-color);\n",
              "    border-color: transparent;\n",
              "    border-bottom-color: var(--fill-color);\n",
              "    animation:\n",
              "      spin 1s steps(1) infinite;\n",
              "  }\n",
              "\n",
              "  @keyframes spin {\n",
              "    0% {\n",
              "      border-color: transparent;\n",
              "      border-bottom-color: var(--fill-color);\n",
              "      border-left-color: var(--fill-color);\n",
              "    }\n",
              "    20% {\n",
              "      border-color: transparent;\n",
              "      border-left-color: var(--fill-color);\n",
              "      border-top-color: var(--fill-color);\n",
              "    }\n",
              "    30% {\n",
              "      border-color: transparent;\n",
              "      border-left-color: var(--fill-color);\n",
              "      border-top-color: var(--fill-color);\n",
              "      border-right-color: var(--fill-color);\n",
              "    }\n",
              "    40% {\n",
              "      border-color: transparent;\n",
              "      border-right-color: var(--fill-color);\n",
              "      border-top-color: var(--fill-color);\n",
              "    }\n",
              "    60% {\n",
              "      border-color: transparent;\n",
              "      border-right-color: var(--fill-color);\n",
              "    }\n",
              "    80% {\n",
              "      border-color: transparent;\n",
              "      border-right-color: var(--fill-color);\n",
              "      border-bottom-color: var(--fill-color);\n",
              "    }\n",
              "    90% {\n",
              "      border-color: transparent;\n",
              "      border-bottom-color: var(--fill-color);\n",
              "    }\n",
              "  }\n",
              "</style>\n",
              "\n",
              "  <script>\n",
              "    async function quickchart(key) {\n",
              "      const quickchartButtonEl =\n",
              "        document.querySelector('#' + key + ' button');\n",
              "      quickchartButtonEl.disabled = true;  // To prevent multiple clicks.\n",
              "      quickchartButtonEl.classList.add('colab-df-spinner');\n",
              "      try {\n",
              "        const charts = await google.colab.kernel.invokeFunction(\n",
              "            'suggestCharts', [key], {});\n",
              "      } catch (error) {\n",
              "        console.error('Error during call to suggestCharts:', error);\n",
              "      }\n",
              "      quickchartButtonEl.classList.remove('colab-df-spinner');\n",
              "      quickchartButtonEl.classList.add('colab-df-quickchart-complete');\n",
              "    }\n",
              "    (() => {\n",
              "      let quickchartButtonEl =\n",
              "        document.querySelector('#df-a0b84890-0c59-4f37-9acb-640c0443b7f8 button');\n",
              "      quickchartButtonEl.style.display =\n",
              "        google.colab.kernel.accessAllowed ? 'block' : 'none';\n",
              "    })();\n",
              "  </script>\n",
              "</div>\n",
              "\n",
              "  <div id=\"id_107eaa37-188b-47d4-b528-f4a5fce9e7f3\">\n",
              "    <style>\n",
              "      .colab-df-generate {\n",
              "        background-color: #E8F0FE;\n",
              "        border: none;\n",
              "        border-radius: 50%;\n",
              "        cursor: pointer;\n",
              "        display: none;\n",
              "        fill: #1967D2;\n",
              "        height: 32px;\n",
              "        padding: 0 0 0 0;\n",
              "        width: 32px;\n",
              "      }\n",
              "\n",
              "      .colab-df-generate:hover {\n",
              "        background-color: #E2EBFA;\n",
              "        box-shadow: 0px 1px 2px rgba(60, 64, 67, 0.3), 0px 1px 3px 1px rgba(60, 64, 67, 0.15);\n",
              "        fill: #174EA6;\n",
              "      }\n",
              "\n",
              "      [theme=dark] .colab-df-generate {\n",
              "        background-color: #3B4455;\n",
              "        fill: #D2E3FC;\n",
              "      }\n",
              "\n",
              "      [theme=dark] .colab-df-generate:hover {\n",
              "        background-color: #434B5C;\n",
              "        box-shadow: 0px 1px 3px 1px rgba(0, 0, 0, 0.15);\n",
              "        filter: drop-shadow(0px 1px 2px rgba(0, 0, 0, 0.3));\n",
              "        fill: #FFFFFF;\n",
              "      }\n",
              "    </style>\n",
              "    <button class=\"colab-df-generate\" onclick=\"generateWithVariable('df')\"\n",
              "            title=\"Generate code using this dataframe.\"\n",
              "            style=\"display:none;\">\n",
              "\n",
              "  <svg xmlns=\"http://www.w3.org/2000/svg\" height=\"24px\"viewBox=\"0 0 24 24\"\n",
              "       width=\"24px\">\n",
              "    <path d=\"M7,19H8.4L18.45,9,17,7.55,7,17.6ZM5,21V16.75L18.45,3.32a2,2,0,0,1,2.83,0l1.4,1.43a1.91,1.91,0,0,1,.58,1.4,1.91,1.91,0,0,1-.58,1.4L9.25,21ZM18.45,9,17,7.55Zm-12,3A5.31,5.31,0,0,0,4.9,8.1,5.31,5.31,0,0,0,1,6.5,5.31,5.31,0,0,0,4.9,4.9,5.31,5.31,0,0,0,6.5,1,5.31,5.31,0,0,0,8.1,4.9,5.31,5.31,0,0,0,12,6.5,5.46,5.46,0,0,0,6.5,12Z\"/>\n",
              "  </svg>\n",
              "    </button>\n",
              "    <script>\n",
              "      (() => {\n",
              "      const buttonEl =\n",
              "        document.querySelector('#id_107eaa37-188b-47d4-b528-f4a5fce9e7f3 button.colab-df-generate');\n",
              "      buttonEl.style.display =\n",
              "        google.colab.kernel.accessAllowed ? 'block' : 'none';\n",
              "\n",
              "      buttonEl.onclick = () => {\n",
              "        google.colab.notebook.generateWithVariable('df');\n",
              "      }\n",
              "      })();\n",
              "    </script>\n",
              "  </div>\n",
              "\n",
              "    </div>\n",
              "  </div>\n"
            ]
          },
          "metadata": {},
          "execution_count": 7
        }
      ]
    },
    {
      "cell_type": "code",
      "source": [
        "X = df.iloc[:,0:10] # dataset excluding target attribute (encoded, one-hot-encoded,original)\n",
        "Y = df[['intrusion']].values # target attribute"
      ],
      "metadata": {
        "id": "dF9vzRzOG50P"
      },
      "id": "dF9vzRzOG50P",
      "execution_count": 8,
      "outputs": []
    },
    {
      "cell_type": "code",
      "source": [
        "X"
      ],
      "metadata": {
        "id": "jU7ExKc1ZA_Q",
        "outputId": "a23c20d4-9489-4235-f468-c32a14c522a5",
        "colab": {
          "base_uri": "https://localhost:8080/",
          "height": 444
        }
      },
      "id": "jU7ExKc1ZA_Q",
      "execution_count": 9,
      "outputs": [
        {
          "output_type": "execute_result",
          "data": {
            "text/plain": [
              "        Fwd_Pkt_Len_Mean  Bwd_IAT_Tot  Bwd_IAT_Max  Pkt_Len_Max  Pkt_Len_Mean  \\\n",
              "0               0.862912     1.164843     0.149819     1.483322      2.858391   \n",
              "1              -0.154458    -0.380121    -0.374572    -0.164223     -0.281857   \n",
              "2               0.138330    -0.378386    -0.372989    -0.026283     -0.077528   \n",
              "3              -0.154458    -0.380180    -0.374651    -0.164223     -0.281857   \n",
              "4              -0.154458    -0.380180    -0.374651    -0.164223     -0.281857   \n",
              "...                  ...          ...          ...          ...           ...   \n",
              "136843         -0.125131     2.022758     2.871826    -0.156219     -0.263929   \n",
              "136844         -0.125131     2.018876     2.866581    -0.156219     -0.263929   \n",
              "136845         -0.125131     2.030522     2.877070    -0.156219     -0.263929   \n",
              "136846         -0.154458    -0.380180    -0.374651    -0.164223     -0.281857   \n",
              "136847         -0.154458    -0.380180    -0.374651    -0.164223     -0.281857   \n",
              "\n",
              "        Pkt_Len_Std  Pkt_Len_Var  Pkt_Size_Avg  Fwd_Seg_Size_Avg  \\\n",
              "0          2.085865     0.217784      2.697656          0.862912   \n",
              "1         -0.233345    -0.053107     -0.296156         -0.154458   \n",
              "2          0.016422    -0.049965     -0.086238          0.138330   \n",
              "3         -0.233345    -0.053107     -0.296156         -0.154458   \n",
              "4         -0.233345    -0.053107     -0.296156         -0.154458   \n",
              "...             ...          ...           ...               ...   \n",
              "136843    -0.213080    -0.053086     -0.277584         -0.125131   \n",
              "136844    -0.213080    -0.053086     -0.277584         -0.125131   \n",
              "136845    -0.213080    -0.053086     -0.277584         -0.125131   \n",
              "136846    -0.233345    -0.053107     -0.296156         -0.154458   \n",
              "136847    -0.233345    -0.053107     -0.296156         -0.154458   \n",
              "\n",
              "        Init_Bwd_Win_Byts  \n",
              "0                2.420659  \n",
              "1                2.420615  \n",
              "2                2.420659  \n",
              "3               -0.418093  \n",
              "4               -0.418137  \n",
              "...                   ...  \n",
              "136843          -0.415309  \n",
              "136844          -0.415309  \n",
              "136845          -0.415309  \n",
              "136846          -0.418093  \n",
              "136847          -0.418137  \n",
              "\n",
              "[136848 rows x 10 columns]"
            ],
            "text/html": [
              "\n",
              "  <div id=\"df-486dfbe8-b9b2-4014-8255-df2723a46fe9\" class=\"colab-df-container\">\n",
              "    <div>\n",
              "<style scoped>\n",
              "    .dataframe tbody tr th:only-of-type {\n",
              "        vertical-align: middle;\n",
              "    }\n",
              "\n",
              "    .dataframe tbody tr th {\n",
              "        vertical-align: top;\n",
              "    }\n",
              "\n",
              "    .dataframe thead th {\n",
              "        text-align: right;\n",
              "    }\n",
              "</style>\n",
              "<table border=\"1\" class=\"dataframe\">\n",
              "  <thead>\n",
              "    <tr style=\"text-align: right;\">\n",
              "      <th></th>\n",
              "      <th>Fwd_Pkt_Len_Mean</th>\n",
              "      <th>Bwd_IAT_Tot</th>\n",
              "      <th>Bwd_IAT_Max</th>\n",
              "      <th>Pkt_Len_Max</th>\n",
              "      <th>Pkt_Len_Mean</th>\n",
              "      <th>Pkt_Len_Std</th>\n",
              "      <th>Pkt_Len_Var</th>\n",
              "      <th>Pkt_Size_Avg</th>\n",
              "      <th>Fwd_Seg_Size_Avg</th>\n",
              "      <th>Init_Bwd_Win_Byts</th>\n",
              "    </tr>\n",
              "  </thead>\n",
              "  <tbody>\n",
              "    <tr>\n",
              "      <th>0</th>\n",
              "      <td>0.862912</td>\n",
              "      <td>1.164843</td>\n",
              "      <td>0.149819</td>\n",
              "      <td>1.483322</td>\n",
              "      <td>2.858391</td>\n",
              "      <td>2.085865</td>\n",
              "      <td>0.217784</td>\n",
              "      <td>2.697656</td>\n",
              "      <td>0.862912</td>\n",
              "      <td>2.420659</td>\n",
              "    </tr>\n",
              "    <tr>\n",
              "      <th>1</th>\n",
              "      <td>-0.154458</td>\n",
              "      <td>-0.380121</td>\n",
              "      <td>-0.374572</td>\n",
              "      <td>-0.164223</td>\n",
              "      <td>-0.281857</td>\n",
              "      <td>-0.233345</td>\n",
              "      <td>-0.053107</td>\n",
              "      <td>-0.296156</td>\n",
              "      <td>-0.154458</td>\n",
              "      <td>2.420615</td>\n",
              "    </tr>\n",
              "    <tr>\n",
              "      <th>2</th>\n",
              "      <td>0.138330</td>\n",
              "      <td>-0.378386</td>\n",
              "      <td>-0.372989</td>\n",
              "      <td>-0.026283</td>\n",
              "      <td>-0.077528</td>\n",
              "      <td>0.016422</td>\n",
              "      <td>-0.049965</td>\n",
              "      <td>-0.086238</td>\n",
              "      <td>0.138330</td>\n",
              "      <td>2.420659</td>\n",
              "    </tr>\n",
              "    <tr>\n",
              "      <th>3</th>\n",
              "      <td>-0.154458</td>\n",
              "      <td>-0.380180</td>\n",
              "      <td>-0.374651</td>\n",
              "      <td>-0.164223</td>\n",
              "      <td>-0.281857</td>\n",
              "      <td>-0.233345</td>\n",
              "      <td>-0.053107</td>\n",
              "      <td>-0.296156</td>\n",
              "      <td>-0.154458</td>\n",
              "      <td>-0.418093</td>\n",
              "    </tr>\n",
              "    <tr>\n",
              "      <th>4</th>\n",
              "      <td>-0.154458</td>\n",
              "      <td>-0.380180</td>\n",
              "      <td>-0.374651</td>\n",
              "      <td>-0.164223</td>\n",
              "      <td>-0.281857</td>\n",
              "      <td>-0.233345</td>\n",
              "      <td>-0.053107</td>\n",
              "      <td>-0.296156</td>\n",
              "      <td>-0.154458</td>\n",
              "      <td>-0.418137</td>\n",
              "    </tr>\n",
              "    <tr>\n",
              "      <th>...</th>\n",
              "      <td>...</td>\n",
              "      <td>...</td>\n",
              "      <td>...</td>\n",
              "      <td>...</td>\n",
              "      <td>...</td>\n",
              "      <td>...</td>\n",
              "      <td>...</td>\n",
              "      <td>...</td>\n",
              "      <td>...</td>\n",
              "      <td>...</td>\n",
              "    </tr>\n",
              "    <tr>\n",
              "      <th>136843</th>\n",
              "      <td>-0.125131</td>\n",
              "      <td>2.022758</td>\n",
              "      <td>2.871826</td>\n",
              "      <td>-0.156219</td>\n",
              "      <td>-0.263929</td>\n",
              "      <td>-0.213080</td>\n",
              "      <td>-0.053086</td>\n",
              "      <td>-0.277584</td>\n",
              "      <td>-0.125131</td>\n",
              "      <td>-0.415309</td>\n",
              "    </tr>\n",
              "    <tr>\n",
              "      <th>136844</th>\n",
              "      <td>-0.125131</td>\n",
              "      <td>2.018876</td>\n",
              "      <td>2.866581</td>\n",
              "      <td>-0.156219</td>\n",
              "      <td>-0.263929</td>\n",
              "      <td>-0.213080</td>\n",
              "      <td>-0.053086</td>\n",
              "      <td>-0.277584</td>\n",
              "      <td>-0.125131</td>\n",
              "      <td>-0.415309</td>\n",
              "    </tr>\n",
              "    <tr>\n",
              "      <th>136845</th>\n",
              "      <td>-0.125131</td>\n",
              "      <td>2.030522</td>\n",
              "      <td>2.877070</td>\n",
              "      <td>-0.156219</td>\n",
              "      <td>-0.263929</td>\n",
              "      <td>-0.213080</td>\n",
              "      <td>-0.053086</td>\n",
              "      <td>-0.277584</td>\n",
              "      <td>-0.125131</td>\n",
              "      <td>-0.415309</td>\n",
              "    </tr>\n",
              "    <tr>\n",
              "      <th>136846</th>\n",
              "      <td>-0.154458</td>\n",
              "      <td>-0.380180</td>\n",
              "      <td>-0.374651</td>\n",
              "      <td>-0.164223</td>\n",
              "      <td>-0.281857</td>\n",
              "      <td>-0.233345</td>\n",
              "      <td>-0.053107</td>\n",
              "      <td>-0.296156</td>\n",
              "      <td>-0.154458</td>\n",
              "      <td>-0.418093</td>\n",
              "    </tr>\n",
              "    <tr>\n",
              "      <th>136847</th>\n",
              "      <td>-0.154458</td>\n",
              "      <td>-0.380180</td>\n",
              "      <td>-0.374651</td>\n",
              "      <td>-0.164223</td>\n",
              "      <td>-0.281857</td>\n",
              "      <td>-0.233345</td>\n",
              "      <td>-0.053107</td>\n",
              "      <td>-0.296156</td>\n",
              "      <td>-0.154458</td>\n",
              "      <td>-0.418137</td>\n",
              "    </tr>\n",
              "  </tbody>\n",
              "</table>\n",
              "<p>136848 rows × 10 columns</p>\n",
              "</div>\n",
              "    <div class=\"colab-df-buttons\">\n",
              "\n",
              "  <div class=\"colab-df-container\">\n",
              "    <button class=\"colab-df-convert\" onclick=\"convertToInteractive('df-486dfbe8-b9b2-4014-8255-df2723a46fe9')\"\n",
              "            title=\"Convert this dataframe to an interactive table.\"\n",
              "            style=\"display:none;\">\n",
              "\n",
              "  <svg xmlns=\"http://www.w3.org/2000/svg\" height=\"24px\" viewBox=\"0 -960 960 960\">\n",
              "    <path d=\"M120-120v-720h720v720H120Zm60-500h600v-160H180v160Zm220 220h160v-160H400v160Zm0 220h160v-160H400v160ZM180-400h160v-160H180v160Zm440 0h160v-160H620v160ZM180-180h160v-160H180v160Zm440 0h160v-160H620v160Z\"/>\n",
              "  </svg>\n",
              "    </button>\n",
              "\n",
              "  <style>\n",
              "    .colab-df-container {\n",
              "      display:flex;\n",
              "      gap: 12px;\n",
              "    }\n",
              "\n",
              "    .colab-df-convert {\n",
              "      background-color: #E8F0FE;\n",
              "      border: none;\n",
              "      border-radius: 50%;\n",
              "      cursor: pointer;\n",
              "      display: none;\n",
              "      fill: #1967D2;\n",
              "      height: 32px;\n",
              "      padding: 0 0 0 0;\n",
              "      width: 32px;\n",
              "    }\n",
              "\n",
              "    .colab-df-convert:hover {\n",
              "      background-color: #E2EBFA;\n",
              "      box-shadow: 0px 1px 2px rgba(60, 64, 67, 0.3), 0px 1px 3px 1px rgba(60, 64, 67, 0.15);\n",
              "      fill: #174EA6;\n",
              "    }\n",
              "\n",
              "    .colab-df-buttons div {\n",
              "      margin-bottom: 4px;\n",
              "    }\n",
              "\n",
              "    [theme=dark] .colab-df-convert {\n",
              "      background-color: #3B4455;\n",
              "      fill: #D2E3FC;\n",
              "    }\n",
              "\n",
              "    [theme=dark] .colab-df-convert:hover {\n",
              "      background-color: #434B5C;\n",
              "      box-shadow: 0px 1px 3px 1px rgba(0, 0, 0, 0.15);\n",
              "      filter: drop-shadow(0px 1px 2px rgba(0, 0, 0, 0.3));\n",
              "      fill: #FFFFFF;\n",
              "    }\n",
              "  </style>\n",
              "\n",
              "    <script>\n",
              "      const buttonEl =\n",
              "        document.querySelector('#df-486dfbe8-b9b2-4014-8255-df2723a46fe9 button.colab-df-convert');\n",
              "      buttonEl.style.display =\n",
              "        google.colab.kernel.accessAllowed ? 'block' : 'none';\n",
              "\n",
              "      async function convertToInteractive(key) {\n",
              "        const element = document.querySelector('#df-486dfbe8-b9b2-4014-8255-df2723a46fe9');\n",
              "        const dataTable =\n",
              "          await google.colab.kernel.invokeFunction('convertToInteractive',\n",
              "                                                    [key], {});\n",
              "        if (!dataTable) return;\n",
              "\n",
              "        const docLinkHtml = 'Like what you see? Visit the ' +\n",
              "          '<a target=\"_blank\" href=https://colab.research.google.com/notebooks/data_table.ipynb>data table notebook</a>'\n",
              "          + ' to learn more about interactive tables.';\n",
              "        element.innerHTML = '';\n",
              "        dataTable['output_type'] = 'display_data';\n",
              "        await google.colab.output.renderOutput(dataTable, element);\n",
              "        const docLink = document.createElement('div');\n",
              "        docLink.innerHTML = docLinkHtml;\n",
              "        element.appendChild(docLink);\n",
              "      }\n",
              "    </script>\n",
              "  </div>\n",
              "\n",
              "\n",
              "<div id=\"df-d0c30e1f-8623-46d9-aa6e-53f1dfa805de\">\n",
              "  <button class=\"colab-df-quickchart\" onclick=\"quickchart('df-d0c30e1f-8623-46d9-aa6e-53f1dfa805de')\"\n",
              "            title=\"Suggest charts\"\n",
              "            style=\"display:none;\">\n",
              "\n",
              "<svg xmlns=\"http://www.w3.org/2000/svg\" height=\"24px\"viewBox=\"0 0 24 24\"\n",
              "     width=\"24px\">\n",
              "    <g>\n",
              "        <path d=\"M19 3H5c-1.1 0-2 .9-2 2v14c0 1.1.9 2 2 2h14c1.1 0 2-.9 2-2V5c0-1.1-.9-2-2-2zM9 17H7v-7h2v7zm4 0h-2V7h2v10zm4 0h-2v-4h2v4z\"/>\n",
              "    </g>\n",
              "</svg>\n",
              "  </button>\n",
              "\n",
              "<style>\n",
              "  .colab-df-quickchart {\n",
              "      --bg-color: #E8F0FE;\n",
              "      --fill-color: #1967D2;\n",
              "      --hover-bg-color: #E2EBFA;\n",
              "      --hover-fill-color: #174EA6;\n",
              "      --disabled-fill-color: #AAA;\n",
              "      --disabled-bg-color: #DDD;\n",
              "  }\n",
              "\n",
              "  [theme=dark] .colab-df-quickchart {\n",
              "      --bg-color: #3B4455;\n",
              "      --fill-color: #D2E3FC;\n",
              "      --hover-bg-color: #434B5C;\n",
              "      --hover-fill-color: #FFFFFF;\n",
              "      --disabled-bg-color: #3B4455;\n",
              "      --disabled-fill-color: #666;\n",
              "  }\n",
              "\n",
              "  .colab-df-quickchart {\n",
              "    background-color: var(--bg-color);\n",
              "    border: none;\n",
              "    border-radius: 50%;\n",
              "    cursor: pointer;\n",
              "    display: none;\n",
              "    fill: var(--fill-color);\n",
              "    height: 32px;\n",
              "    padding: 0;\n",
              "    width: 32px;\n",
              "  }\n",
              "\n",
              "  .colab-df-quickchart:hover {\n",
              "    background-color: var(--hover-bg-color);\n",
              "    box-shadow: 0 1px 2px rgba(60, 64, 67, 0.3), 0 1px 3px 1px rgba(60, 64, 67, 0.15);\n",
              "    fill: var(--button-hover-fill-color);\n",
              "  }\n",
              "\n",
              "  .colab-df-quickchart-complete:disabled,\n",
              "  .colab-df-quickchart-complete:disabled:hover {\n",
              "    background-color: var(--disabled-bg-color);\n",
              "    fill: var(--disabled-fill-color);\n",
              "    box-shadow: none;\n",
              "  }\n",
              "\n",
              "  .colab-df-spinner {\n",
              "    border: 2px solid var(--fill-color);\n",
              "    border-color: transparent;\n",
              "    border-bottom-color: var(--fill-color);\n",
              "    animation:\n",
              "      spin 1s steps(1) infinite;\n",
              "  }\n",
              "\n",
              "  @keyframes spin {\n",
              "    0% {\n",
              "      border-color: transparent;\n",
              "      border-bottom-color: var(--fill-color);\n",
              "      border-left-color: var(--fill-color);\n",
              "    }\n",
              "    20% {\n",
              "      border-color: transparent;\n",
              "      border-left-color: var(--fill-color);\n",
              "      border-top-color: var(--fill-color);\n",
              "    }\n",
              "    30% {\n",
              "      border-color: transparent;\n",
              "      border-left-color: var(--fill-color);\n",
              "      border-top-color: var(--fill-color);\n",
              "      border-right-color: var(--fill-color);\n",
              "    }\n",
              "    40% {\n",
              "      border-color: transparent;\n",
              "      border-right-color: var(--fill-color);\n",
              "      border-top-color: var(--fill-color);\n",
              "    }\n",
              "    60% {\n",
              "      border-color: transparent;\n",
              "      border-right-color: var(--fill-color);\n",
              "    }\n",
              "    80% {\n",
              "      border-color: transparent;\n",
              "      border-right-color: var(--fill-color);\n",
              "      border-bottom-color: var(--fill-color);\n",
              "    }\n",
              "    90% {\n",
              "      border-color: transparent;\n",
              "      border-bottom-color: var(--fill-color);\n",
              "    }\n",
              "  }\n",
              "</style>\n",
              "\n",
              "  <script>\n",
              "    async function quickchart(key) {\n",
              "      const quickchartButtonEl =\n",
              "        document.querySelector('#' + key + ' button');\n",
              "      quickchartButtonEl.disabled = true;  // To prevent multiple clicks.\n",
              "      quickchartButtonEl.classList.add('colab-df-spinner');\n",
              "      try {\n",
              "        const charts = await google.colab.kernel.invokeFunction(\n",
              "            'suggestCharts', [key], {});\n",
              "      } catch (error) {\n",
              "        console.error('Error during call to suggestCharts:', error);\n",
              "      }\n",
              "      quickchartButtonEl.classList.remove('colab-df-spinner');\n",
              "      quickchartButtonEl.classList.add('colab-df-quickchart-complete');\n",
              "    }\n",
              "    (() => {\n",
              "      let quickchartButtonEl =\n",
              "        document.querySelector('#df-d0c30e1f-8623-46d9-aa6e-53f1dfa805de button');\n",
              "      quickchartButtonEl.style.display =\n",
              "        google.colab.kernel.accessAllowed ? 'block' : 'none';\n",
              "    })();\n",
              "  </script>\n",
              "</div>\n",
              "\n",
              "  <div id=\"id_e77362bb-b0a1-462f-bba0-e88925ab8a9d\">\n",
              "    <style>\n",
              "      .colab-df-generate {\n",
              "        background-color: #E8F0FE;\n",
              "        border: none;\n",
              "        border-radius: 50%;\n",
              "        cursor: pointer;\n",
              "        display: none;\n",
              "        fill: #1967D2;\n",
              "        height: 32px;\n",
              "        padding: 0 0 0 0;\n",
              "        width: 32px;\n",
              "      }\n",
              "\n",
              "      .colab-df-generate:hover {\n",
              "        background-color: #E2EBFA;\n",
              "        box-shadow: 0px 1px 2px rgba(60, 64, 67, 0.3), 0px 1px 3px 1px rgba(60, 64, 67, 0.15);\n",
              "        fill: #174EA6;\n",
              "      }\n",
              "\n",
              "      [theme=dark] .colab-df-generate {\n",
              "        background-color: #3B4455;\n",
              "        fill: #D2E3FC;\n",
              "      }\n",
              "\n",
              "      [theme=dark] .colab-df-generate:hover {\n",
              "        background-color: #434B5C;\n",
              "        box-shadow: 0px 1px 3px 1px rgba(0, 0, 0, 0.15);\n",
              "        filter: drop-shadow(0px 1px 2px rgba(0, 0, 0, 0.3));\n",
              "        fill: #FFFFFF;\n",
              "      }\n",
              "    </style>\n",
              "    <button class=\"colab-df-generate\" onclick=\"generateWithVariable('X')\"\n",
              "            title=\"Generate code using this dataframe.\"\n",
              "            style=\"display:none;\">\n",
              "\n",
              "  <svg xmlns=\"http://www.w3.org/2000/svg\" height=\"24px\"viewBox=\"0 0 24 24\"\n",
              "       width=\"24px\">\n",
              "    <path d=\"M7,19H8.4L18.45,9,17,7.55,7,17.6ZM5,21V16.75L18.45,3.32a2,2,0,0,1,2.83,0l1.4,1.43a1.91,1.91,0,0,1,.58,1.4,1.91,1.91,0,0,1-.58,1.4L9.25,21ZM18.45,9,17,7.55Zm-12,3A5.31,5.31,0,0,0,4.9,8.1,5.31,5.31,0,0,0,1,6.5,5.31,5.31,0,0,0,4.9,4.9,5.31,5.31,0,0,0,6.5,1,5.31,5.31,0,0,0,8.1,4.9,5.31,5.31,0,0,0,12,6.5,5.46,5.46,0,0,0,6.5,12Z\"/>\n",
              "  </svg>\n",
              "    </button>\n",
              "    <script>\n",
              "      (() => {\n",
              "      const buttonEl =\n",
              "        document.querySelector('#id_e77362bb-b0a1-462f-bba0-e88925ab8a9d button.colab-df-generate');\n",
              "      buttonEl.style.display =\n",
              "        google.colab.kernel.accessAllowed ? 'block' : 'none';\n",
              "\n",
              "      buttonEl.onclick = () => {\n",
              "        google.colab.notebook.generateWithVariable('X');\n",
              "      }\n",
              "      })();\n",
              "    </script>\n",
              "  </div>\n",
              "\n",
              "    </div>\n",
              "  </div>\n"
            ]
          },
          "metadata": {},
          "execution_count": 9
        }
      ]
    },
    {
      "cell_type": "code",
      "source": [
        "from sklearn.metrics import accuracy_score # for calculating accuracy of model\n",
        "from sklearn.model_selection import train_test_split # for splitting the dataset for training and testing\n",
        "from sklearn.metrics import classification_report # for generating a classification report of model\n",
        "import pickle # saving and loading trained model\n",
        "from os import path\n",
        "\n",
        "# splitting the dataset 75% for training and 25% testing\n",
        "X_train, X_test, y_train, y_test = train_test_split(X,Y, test_size=0.25, random_state=42)"
      ],
      "metadata": {
        "id": "AZJq40IUHeM_"
      },
      "id": "AZJq40IUHeM_",
      "execution_count": 10,
      "outputs": []
    },
    {
      "cell_type": "code",
      "source": [
        "X_train = X_train.values"
      ],
      "metadata": {
        "id": "BAQ3FwVEHyOG"
      },
      "id": "BAQ3FwVEHyOG",
      "execution_count": 11,
      "outputs": []
    },
    {
      "cell_type": "code",
      "source": [
        "y_train=np.array(y_train)"
      ],
      "metadata": {
        "id": "qsw09DmcIUHH"
      },
      "id": "qsw09DmcIUHH",
      "execution_count": 12,
      "outputs": []
    },
    {
      "cell_type": "code",
      "source": [
        "x_train = np.reshape(X_train,(X_train.shape[0],1,X_train.shape[1]))"
      ],
      "metadata": {
        "id": "LG16FzNlIWy6"
      },
      "id": "LG16FzNlIWy6",
      "execution_count": 13,
      "outputs": []
    },
    {
      "cell_type": "code",
      "source": [
        "x_train.shape"
      ],
      "metadata": {
        "colab": {
          "base_uri": "https://localhost:8080/"
        },
        "id": "LbSljuorR6xh",
        "outputId": "7dfe6d64-2c72-4600-ceef-ae637c88dbf1"
      },
      "id": "LbSljuorR6xh",
      "execution_count": 14,
      "outputs": [
        {
          "output_type": "execute_result",
          "data": {
            "text/plain": [
              "(102636, 1, 10)"
            ]
          },
          "metadata": {},
          "execution_count": 14
        }
      ]
    },
    {
      "cell_type": "markdown",
      "source": [
        "# LSTM model defining\n",
        "first ko pailako save garya model\n",
        "\n",
        "second ko chai naya layer add garera activation ma softmax used.\n",
        "\n",
        "third ko ma similar to second tara activation ma chai sigmoid nai use.\n",
        "\n"
      ],
      "metadata": {
        "id": "2iFGHhySky5C"
      },
      "id": "2iFGHhySky5C"
    },
    {
      "cell_type": "code",
      "source": [
        "#lst = Sequential() # initializing model\n",
        "\n",
        "# FIRST ONEEE 99% accuracy\n",
        "\n",
        "# input layer and LSTM layer with 50 neurons\n",
        "#lst.add(LSTM(units=50,input_dim=10))\n",
        " #output layer with sigmoid activation\n",
        "#lst.add(Dense(1, activation='sigmoid'))\n",
        "\n",
        "# SECOND ONE 50%\n",
        "\n",
        "#lst.add(LSTM(units=50, return_sequences=True, input_dim=10))\n",
        "#lst.add(Dropout(0.2))\n",
        "#lst.add(LSTM(units=50, return_sequences=True))\n",
        "#lst.add(Dropout(0.2))\n",
        "#lst.add(LSTM(units=50))\n",
        "#lst.add(Dropout(0.2))\n",
        "#lst.add(Dense(1, activation='softmax')) <-------- esma activation function change garera accuracy ghatna sakya huna sakcha\n",
        "\n",
        "# THIRD ONE 98-99%\n",
        "\n",
        "lst = Sequential([LSTM(64, input_dim=10, return_sequences=True),Dropout(0.2),LSTM(64),Dropout(0.2),Dense(1, activation='sigmoid')])\n"
      ],
      "metadata": {
        "id": "TaqFEksoIZ2Z"
      },
      "id": "TaqFEksoIZ2Z",
      "execution_count": 32,
      "outputs": []
    },
    {
      "cell_type": "code",
      "source": [
        "# defining loss function, optimizer, metrics and then compiling model\n",
        "lst.compile(loss='binary_crossentropy',optimizer='adam',metrics=['accuracy'])"
      ],
      "metadata": {
        "id": "AB2oCiKbIekk"
      },
      "id": "AB2oCiKbIekk",
      "execution_count": 33,
      "outputs": []
    },
    {
      "cell_type": "code",
      "source": [
        "# summary of model layers\n",
        "lst.summary()"
      ],
      "metadata": {
        "colab": {
          "base_uri": "https://localhost:8080/"
        },
        "id": "evNJ957TIh9r",
        "outputId": "d0d995df-dfaf-4d70-a20e-05b0788000ba"
      },
      "id": "evNJ957TIh9r",
      "execution_count": 34,
      "outputs": [
        {
          "output_type": "stream",
          "name": "stdout",
          "text": [
            "Model: \"sequential_4\"\n",
            "_________________________________________________________________\n",
            " Layer (type)                Output Shape              Param #   \n",
            "=================================================================\n",
            " lstm_8 (LSTM)               (None, None, 64)          19200     \n",
            "                                                                 \n",
            " dropout_6 (Dropout)         (None, None, 64)          0         \n",
            "                                                                 \n",
            " lstm_9 (LSTM)               (None, 64)                33024     \n",
            "                                                                 \n",
            " dropout_7 (Dropout)         (None, 64)                0         \n",
            "                                                                 \n",
            " dense_4 (Dense)             (None, 1)                 65        \n",
            "                                                                 \n",
            "=================================================================\n",
            "Total params: 52289 (204.25 KB)\n",
            "Trainable params: 52289 (204.25 KB)\n",
            "Non-trainable params: 0 (0.00 Byte)\n",
            "_________________________________________________________________\n"
          ]
        }
      ]
    },
    {
      "cell_type": "code",
      "source": [
        "# training the model on training dataset\n",
        "history = lst.fit(x_train, y_train, epochs=10, batch_size=16,validation_split=0.2)"
      ],
      "metadata": {
        "colab": {
          "base_uri": "https://localhost:8080/"
        },
        "id": "pKtSteIVImY0",
        "outputId": "e62df230-70b5-469c-aa15-624f63ed7c36"
      },
      "id": "pKtSteIVImY0",
      "execution_count": 36,
      "outputs": [
        {
          "output_type": "stream",
          "name": "stdout",
          "text": [
            "Epoch 1/10\n",
            "5132/5132 [==============================] - 38s 7ms/step - loss: 0.0399 - accuracy: 0.9905 - val_loss: 0.0352 - val_accuracy: 0.9912\n",
            "Epoch 2/10\n",
            "5132/5132 [==============================] - 40s 8ms/step - loss: 0.0392 - accuracy: 0.9907 - val_loss: 0.0365 - val_accuracy: 0.9924\n",
            "Epoch 3/10\n",
            "5132/5132 [==============================] - 44s 9ms/step - loss: 0.0390 - accuracy: 0.9907 - val_loss: 0.0344 - val_accuracy: 0.9916\n",
            "Epoch 4/10\n",
            "5132/5132 [==============================] - 42s 8ms/step - loss: 0.0388 - accuracy: 0.9910 - val_loss: 0.0352 - val_accuracy: 0.9918\n",
            "Epoch 5/10\n",
            "5132/5132 [==============================] - 46s 9ms/step - loss: 0.0383 - accuracy: 0.9910 - val_loss: 0.0346 - val_accuracy: 0.9919\n",
            "Epoch 6/10\n",
            "5132/5132 [==============================] - 30s 6ms/step - loss: 0.0383 - accuracy: 0.9910 - val_loss: 0.0352 - val_accuracy: 0.9919\n",
            "Epoch 7/10\n",
            "5132/5132 [==============================] - 31s 6ms/step - loss: 0.0381 - accuracy: 0.9911 - val_loss: 0.0338 - val_accuracy: 0.9925\n",
            "Epoch 8/10\n",
            "5132/5132 [==============================] - 30s 6ms/step - loss: 0.0377 - accuracy: 0.9913 - val_loss: 0.0346 - val_accuracy: 0.9918\n",
            "Epoch 9/10\n",
            "5132/5132 [==============================] - 31s 6ms/step - loss: 0.0376 - accuracy: 0.9915 - val_loss: 0.0335 - val_accuracy: 0.9926\n",
            "Epoch 10/10\n",
            "5132/5132 [==============================] - 31s 6ms/step - loss: 0.0375 - accuracy: 0.9915 - val_loss: 0.0333 - val_accuracy: 0.9926\n"
          ]
        }
      ]
    },
    {
      "cell_type": "code",
      "source": [
        "X_test = X_test.to_numpy()\n",
        "x_test = np.reshape(X_test, (X_test.shape[0],1,X_test.shape[1]))"
      ],
      "metadata": {
        "id": "IBSSdKs7MW2z"
      },
      "id": "IBSSdKs7MW2z",
      "execution_count": 37,
      "outputs": []
    },
    {
      "cell_type": "code",
      "source": [
        "from keras.models import model_from_json # saving and loading trained model\n",
        "\n",
        "filepath = 'lst_binary.json'\n",
        "weightspath = 'lst_binary.h5'\n",
        "if (not path.isfile(filepath)):\n",
        "  # serialize model to JSON\n",
        "  lst_json = lst.to_json()\n",
        "  with open(filepath, \"w\") as json_file:\n",
        "    json_file.write(lst_json)\n",
        "\n",
        "  # serialize weights to HDF5\n",
        "  lst.save_weights(weightspath)\n",
        "  print(\"Saved model to disk\")\n",
        "\n",
        "  # load json and create model\n",
        "  json_file = open(filepath, 'r')\n",
        "  loaded_model_json = json_file.read()\n",
        "  json_file.close()\n",
        "  lst = model_from_json(loaded_model_json)\n",
        "\n",
        "  # load weights into new model\n",
        "  lst.load_weights(weightspath)\n",
        "  print(\"Loaded model from disk\")"
      ],
      "metadata": {
        "colab": {
          "base_uri": "https://localhost:8080/"
        },
        "id": "szW3g-wQNl2N",
        "outputId": "df8bc947-23ab-4137-d562-2061f8cf96b6"
      },
      "id": "szW3g-wQNl2N",
      "execution_count": 38,
      "outputs": [
        {
          "output_type": "stream",
          "name": "stdout",
          "text": [
            "Saved model to disk\n",
            "Loaded model from disk\n"
          ]
        }
      ]
    },
    {
      "cell_type": "code",
      "source": [
        "# load json and create model\n",
        "json_file = open(filepath, 'r')\n",
        "loaded_model_json = json_file.read()\n",
        "json_file.close()\n",
        "lst = model_from_json(loaded_model_json)\n",
        "\n",
        "# load weights into new model\n",
        "lst.load_weights(weightspath)\n",
        "print(\"Loaded model from disk\")"
      ],
      "metadata": {
        "colab": {
          "base_uri": "https://localhost:8080/"
        },
        "id": "Y3dsGC5TOHNg",
        "outputId": "39bff753-a327-49c9-8b5f-7ad9f139948d"
      },
      "id": "Y3dsGC5TOHNg",
      "execution_count": 39,
      "outputs": [
        {
          "output_type": "stream",
          "name": "stdout",
          "text": [
            "Loaded model from disk\n"
          ]
        }
      ]
    },
    {
      "cell_type": "code",
      "source": [
        "# defining loss function, optimizer, metrics and then compiling model\n",
        "lst.compile(loss='binary_crossentropy',optimizer='adam',metrics=['accuracy'])"
      ],
      "metadata": {
        "id": "Y3uKEXpfOMk9"
      },
      "id": "Y3uKEXpfOMk9",
      "execution_count": 40,
      "outputs": []
    },
    {
      "cell_type": "code",
      "source": [
        "# predicting target attribute on testing dataset\n",
        "test_results = lst.evaluate(x_test, y_test, verbose=1)\n",
        "print(f'Test results - Loss: {test_results[0]} - Accuracy: {test_results[1]*100}%')"
      ],
      "metadata": {
        "colab": {
          "base_uri": "https://localhost:8080/"
        },
        "id": "pnDvcpP3ORQG",
        "outputId": "b109dce0-0269-4a3e-da73-1246b8817d6e"
      },
      "id": "pnDvcpP3ORQG",
      "execution_count": 41,
      "outputs": [
        {
          "output_type": "stream",
          "name": "stdout",
          "text": [
            "1070/1070 [==============================] - 4s 3ms/step - loss: 0.0322 - accuracy: 0.9930\n",
            "Test results - Loss: 0.032191094011068344 - Accuracy: 99.29556846618652%\n"
          ]
        }
      ]
    },
    {
      "cell_type": "code",
      "source": [
        "# Plot of accuracy vs epoch of train and test dataset\n",
        "plt.plot(history.history['accuracy'])\n",
        "plt.plot(history.history['val_accuracy'])\n",
        "plt.title(\"Plot of accuracy vs epoch for train and test dataset\")\n",
        "plt.ylabel('accuracy')\n",
        "plt.xlabel('epoch')\n",
        "plt.legend(['train', 'test'], loc='best')\n",
        "plt.savefig('lstm_binary_accuracy.png')\n",
        "plt.show()"
      ],
      "metadata": {
        "colab": {
          "base_uri": "https://localhost:8080/",
          "height": 472
        },
        "id": "uU5y1q1nOZX0",
        "outputId": "b895cd9f-ac60-44ec-e250-888ff621800f"
      },
      "id": "uU5y1q1nOZX0",
      "execution_count": 42,
      "outputs": [
        {
          "output_type": "display_data",
          "data": {
            "text/plain": [
              "<Figure size 640x480 with 1 Axes>"
            ],
            "image/png": "[encoded data removed]"
          },
          "metadata": {}
        }
      ]
    },
    {
      "cell_type": "code",
      "source": [
        "# Plot of loss vs epoch of train and test dataset\n",
        "plt.plot(history.history['loss'])\n",
        "plt.plot(history.history['val_loss'])\n",
        "plt.title(\"Plot of loss vs epoch for train and test dataset\")\n",
        "plt.ylabel('loss')\n",
        "plt.xlabel('epoch')\n",
        "plt.legend(['train', 'test'], loc='best')\n",
        "plt.savefig('lstm_binary_loss.png')\n",
        "plt.show()"
      ],
      "metadata": {
        "colab": {
          "base_uri": "https://localhost:8080/",
          "height": 472
        },
        "id": "veOSk-RaOfsK",
        "outputId": "db62b7f1-2dd1-41d8-ace8-4c1f5c521a26"
      },
      "id": "veOSk-RaOfsK",
      "execution_count": 43,
      "outputs": [
        {
          "output_type": "display_data",
          "data": {
            "text/plain": [
              "<Figure size 640x480 with 1 Axes>"
            ],
            "image/png": "[encoded data removed]"
          },
          "metadata": {}
        }
      ]
    },
    {
      "cell_type": "code",
      "source": [
        "from keras.utils import plot_model\n",
        "# representation of model layers\n",
        "plot_model(lst, to_file='lstm_binary.png', show_shapes=True,)"
      ],
      "metadata": {
        "colab": {
          "base_uri": "https://localhost:8080/",
          "height": 644
        },
        "id": "Yw3d3f9DOnVn",
        "outputId": "a0c1c8d4-850e-425d-aa50-e7330f3a95ab"
      },
      "id": "Yw3d3f9DOnVn",
      "execution_count": 44,
      "outputs": [
        {
          "output_type": "execute_result",
          "data": {
            "image/png": "[encoded data removed]",
            "text/plain": [
              "<IPython.core.display.Image object>"
            ]
          },
          "metadata": {},
          "execution_count": 44
        }
      ]
    },
    {
      "cell_type": "code",
      "source": [
        "y_test.shape"
      ],
      "metadata": {
        "colab": {
          "base_uri": "https://localhost:8080/"
        },
        "id": "EtmxJo5IPcT3",
        "outputId": "ddca55d8-4b6c-4b4d-ef56-ab0b60500610"
      },
      "id": "EtmxJo5IPcT3",
      "execution_count": 45,
      "outputs": [
        {
          "output_type": "execute_result",
          "data": {
            "text/plain": [
              "(34212, 1)"
            ]
          },
          "metadata": {},
          "execution_count": 45
        }
      ]
    },
    {
      "cell_type": "code",
      "source": [
        "y_pred = lst.predict(x_test)"
      ],
      "metadata": {
        "colab": {
          "base_uri": "https://localhost:8080/"
        },
        "id": "an06b529Pfw2",
        "outputId": "64dfe8ff-453a-4bba-b652-b163ee95417b"
      },
      "id": "an06b529Pfw2",
      "execution_count": 46,
      "outputs": [
        {
          "output_type": "stream",
          "name": "stdout",
          "text": [
            "1070/1070 [==============================] - 3s 2ms/step\n"
          ]
        }
      ]
    },
    {
      "cell_type": "code",
      "source": [
        "y_pred.shape"
      ],
      "metadata": {
        "colab": {
          "base_uri": "https://localhost:8080/"
        },
        "id": "W8PqunU3PixS",
        "outputId": "31436c20-0740-4dbc-bf18-c54a47c62e92"
      },
      "id": "W8PqunU3PixS",
      "execution_count": 47,
      "outputs": [
        {
          "output_type": "execute_result",
          "data": {
            "text/plain": [
              "(34212, 1)"
            ]
          },
          "metadata": {},
          "execution_count": 47
        }
      ]
    },
    {
      "cell_type": "code",
      "source": [
        "from sklearn.metrics import precision_score\n",
        "from sklearn.metrics import recall_score\n",
        "from sklearn.metrics import f1_score\n",
        "\n",
        "from sklearn.metrics import roc_auc_score\n",
        "from sklearn.metrics import roc_curve, auc\n",
        "\n",
        "y_pred = lst.predict(x_test)\n",
        "fpr, tpr, thresholds = roc_curve(y_test, y_pred)\n",
        "auc = auc(fpr, tpr)"
      ],
      "metadata": {
        "colab": {
          "base_uri": "https://localhost:8080/"
        },
        "id": "iZqWDYpuPlk1",
        "outputId": "7472b443-18af-4396-e2fc-1bae9cee04f9"
      },
      "id": "iZqWDYpuPlk1",
      "execution_count": 48,
      "outputs": [
        {
          "output_type": "stream",
          "name": "stdout",
          "text": [
            "1070/1070 [==============================] - 3s 2ms/step\n"
          ]
        }
      ]
    },
    {
      "cell_type": "code",
      "source": [
        "plt.plot([0, 1], [0, 1], 'k--')\n",
        "plt.plot(fpr, tpr, label='Keras (area = {:.3f})'.format(auc))\n",
        "plt.xlabel('False positive rate')\n",
        "plt.ylabel('True positive rate')\n",
        "plt.title('ROC curve')\n",
        "plt.legend(loc='best')\n",
        "plt.savefig('lstm_binary_roc.png')\n",
        "plt.show()"
      ],
      "metadata": {
        "colab": {
          "base_uri": "https://localhost:8080/",
          "height": 472
        },
        "id": "S5gNomFtfv0S",
        "outputId": "42a38202-ef4d-42c1-b645-e107df9ce1c9"
      },
      "id": "S5gNomFtfv0S",
      "execution_count": 49,
      "outputs": [
        {
          "output_type": "display_data",
          "data": {
            "text/plain": [
              "<Figure size 640x480 with 1 Axes>"
            ],
            "image/png": "[encoded data removed]"
          },
          "metadata": {}
        }
      ]
    },
    {
      "cell_type": "code",
      "source": [
        "y_classes = (lst.predict(x_test)>0.5).astype('int32')"
      ],
      "metadata": {
        "colab": {
          "base_uri": "https://localhost:8080/"
        },
        "id": "ESgfTgaGf7Ej",
        "outputId": "13185f16-f9b4-4f5c-a84a-9a9748dab839"
      },
      "id": "ESgfTgaGf7Ej",
      "execution_count": 50,
      "outputs": [
        {
          "output_type": "stream",
          "name": "stdout",
          "text": [
            "1070/1070 [==============================] - 3s 3ms/step\n"
          ]
        }
      ]
    },
    {
      "cell_type": "code",
      "source": [
        "print(\"Recall Score - \",recall_score(y_test,y_classes))\n",
        "print(\"F1 Score - \",f1_score(y_test,y_classes))\n",
        "print(\"Precision Score - \",precision_score(y_test,y_classes))"
      ],
      "metadata": {
        "colab": {
          "base_uri": "https://localhost:8080/"
        },
        "id": "2ob5Jeijf90n",
        "outputId": "dddc1e26-28d5-4739-b0ab-cdc02ae3103e"
      },
      "id": "2ob5Jeijf90n",
      "execution_count": 51,
      "outputs": [
        {
          "output_type": "stream",
          "name": "stdout",
          "text": [
            "Recall Score -  0.9995921934168366\n",
            "F1 Score -  0.9930260149897272\n",
            "Precision Score -  0.9865455381784729\n"
          ]
        }
      ]
    }
  ],
  "metadata": {
    "kernelspec": {
      "display_name": "Python 3 (ipykernel)",
      "language": "python",
      "name": "python3"
    },
    "language_info": {
      "codemirror_mode": {
        "name": "ipython",
        "version": 3
      },
      "file_extension": ".py",
      "mimetype": "text/x-python",
      "name": "python",
      "nbconvert_exporter": "python",
      "pygments_lexer": "ipython3",
      "version": "3.10.12"
    },
    "colab": {
      "provenance": [],
      "include_colab_link": true
    }
  },
  "nbformat": 4,
  "nbformat_minor": 5
}