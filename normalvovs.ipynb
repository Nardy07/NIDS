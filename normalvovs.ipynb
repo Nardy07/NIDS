{
  "nbformat": 4,
  "nbformat_minor": 0,
  "metadata": {
    "colab": {
      "provenance": [],
      "include_colab_link": true
    },
    "kernelspec": {
      "name": "python3",
      "display_name": "Python 3"
    },
    "language_info": {
      "name": "python"
    }
  },
  "cells": [
    {
      "cell_type": "markdown",
      "metadata": {
        "id": "view-in-github",
        "colab_type": "text"
      },
      "source": [
        "<a href=\"https://colab.research.google.com/github/Nardy07/NIDS/blob/main/normalvovs.ipynb\" target=\"_parent\"><img src=\"https://colab.research.google.com/assets/colab-badge.svg\" alt=\"Open In Colab\"/></a>"
      ]
    },
    {
      "cell_type": "code",
      "execution_count": 57,
      "metadata": {
        "id": "TtSbH6HEXj9Z"
      },
      "outputs": [],
      "source": [
        "#importing required libraries\n",
        "import numpy as np\n",
        "import pandas as pd\n",
        "from sklearn.calibration import LabelEncoder\n",
        "import tensorflow as tf\n",
        "from sklearn.preprocessing import StandardScaler,MinMaxScaler,RobustScaler\n",
        "from sklearn.model_selection import train_test_split\n",
        "from sklearn.metrics import classification_report, confusion_matrix\n",
        "from keras.models import Sequential,save_model\n",
        "from keras.layers import LSTM, Dense, Dropout,Embedding, SpatialDropout1D,BatchNormalization\n",
        "from keras.callbacks import EarlyStopping\n",
        "from keras.utils import to_categorical"
      ]
    },
    {
      "cell_type": "code",
      "source": [
        "X = pd.read_csv('X_balanced_bin2.csv')\n",
        "y = pd.read_csv('Y_balanced_bin2.csv')"
      ],
      "metadata": {
        "id": "2aziuvoIfWsg"
      },
      "execution_count": 58,
      "outputs": []
    },
    {
      "cell_type": "code",
      "source": [
        "X"
      ],
      "metadata": {
        "colab": {
          "base_uri": "https://localhost:8080/",
          "height": 444
        },
        "id": "BqqKmXKtOEnB",
        "outputId": "9a8e608a-a578-459f-e0ac-f02e9772ad38"
      },
      "execution_count": 59,
      "outputs": [
        {
          "output_type": "execute_result",
          "data": {
            "text/plain": [
              "        Dst_Port  Tot_Fwd_Pkts   Flow_Byts/s  Fwd_Header_Len   Fwd_Pkts/s  \\\n",
              "0          35934            25  1.360000e+07             500  5284.295075   \n",
              "1          54941             1  4.382022e+05               8  1605.136437   \n",
              "2          10024             0  0.000000e+00               0     0.000000   \n",
              "3              0             0  0.000000e+00               0     0.000000   \n",
              "4            443            17  9.572450e+02             340     0.873680   \n",
              "...          ...           ...           ...             ...          ...   \n",
              "153204         0             0  0.000000e+00               0     0.000000   \n",
              "153205         0             0  0.000000e+00               0     0.000000   \n",
              "153206        53             1  1.814536e+05               8   250.626566   \n",
              "153207         0             0  0.000000e+00               0     0.000000   \n",
              "153208         0             0  0.000000e+00               0     0.000000   \n",
              "\n",
              "        Pkt_Len_Max  Pkt_Len_Mean  Pkt_Size_Avg  Subflow_Fwd_Pkts  \\\n",
              "0              5200   1310.169811   1335.365385                25   \n",
              "1               178    150.333333    225.500000                 1   \n",
              "2                 0      0.000000      0.000000                 0   \n",
              "3                 0      0.000000      0.000000                 0   \n",
              "4              3900    532.171429    547.823529                17   \n",
              "...             ...           ...           ...               ...   \n",
              "153204            0      0.000000      0.000000                 0   \n",
              "153205            0      0.000000      0.000000                 0   \n",
              "153206          334    151.600000    189.500000                 1   \n",
              "153207            0      0.000000      0.000000                 0   \n",
              "153208            0      0.000000      0.000000                 0   \n",
              "\n",
              "        Init_Bwd_Win_Byts  \n",
              "0                       0  \n",
              "1                      -1  \n",
              "2                       0  \n",
              "3                      -1  \n",
              "4                   64240  \n",
              "...                   ...  \n",
              "153204                 -1  \n",
              "153205                 -1  \n",
              "153206                 -1  \n",
              "153207                 -1  \n",
              "153208                 -1  \n",
              "\n",
              "[153209 rows x 10 columns]"
            ],
            "text/html": [
              "\n",
              "  <div id=\"df-8474809f-52f1-4445-a4bf-eb6a2c73f524\" class=\"colab-df-container\">\n",
              "    <div>\n",
              "<style scoped>\n",
              "    .dataframe tbody tr th:only-of-type {\n",
              "        vertical-align: middle;\n",
              "    }\n",
              "\n",
              "    .dataframe tbody tr th {\n",
              "        vertical-align: top;\n",
              "    }\n",
              "\n",
              "    .dataframe thead th {\n",
              "        text-align: right;\n",
              "    }\n",
              "</style>\n",
              "<table border=\"1\" class=\"dataframe\">\n",
              "  <thead>\n",
              "    <tr style=\"text-align: right;\">\n",
              "      <th></th>\n",
              "      <th>Dst_Port</th>\n",
              "      <th>Tot_Fwd_Pkts</th>\n",
              "      <th>Flow_Byts/s</th>\n",
              "      <th>Fwd_Header_Len</th>\n",
              "      <th>Fwd_Pkts/s</th>\n",
              "      <th>Pkt_Len_Max</th>\n",
              "      <th>Pkt_Len_Mean</th>\n",
              "      <th>Pkt_Size_Avg</th>\n",
              "      <th>Subflow_Fwd_Pkts</th>\n",
              "      <th>Init_Bwd_Win_Byts</th>\n",
              "    </tr>\n",
              "  </thead>\n",
              "  <tbody>\n",
              "    <tr>\n",
              "      <th>0</th>\n",
              "      <td>35934</td>\n",
              "      <td>25</td>\n",
              "      <td>1.360000e+07</td>\n",
              "      <td>500</td>\n",
              "      <td>5284.295075</td>\n",
              "      <td>5200</td>\n",
              "      <td>1310.169811</td>\n",
              "      <td>1335.365385</td>\n",
              "      <td>25</td>\n",
              "      <td>0</td>\n",
              "    </tr>\n",
              "    <tr>\n",
              "      <th>1</th>\n",
              "      <td>54941</td>\n",
              "      <td>1</td>\n",
              "      <td>4.382022e+05</td>\n",
              "      <td>8</td>\n",
              "      <td>1605.136437</td>\n",
              "      <td>178</td>\n",
              "      <td>150.333333</td>\n",
              "      <td>225.500000</td>\n",
              "      <td>1</td>\n",
              "      <td>-1</td>\n",
              "    </tr>\n",
              "    <tr>\n",
              "      <th>2</th>\n",
              "      <td>10024</td>\n",
              "      <td>0</td>\n",
              "      <td>0.000000e+00</td>\n",
              "      <td>0</td>\n",
              "      <td>0.000000</td>\n",
              "      <td>0</td>\n",
              "      <td>0.000000</td>\n",
              "      <td>0.000000</td>\n",
              "      <td>0</td>\n",
              "      <td>0</td>\n",
              "    </tr>\n",
              "    <tr>\n",
              "      <th>3</th>\n",
              "      <td>0</td>\n",
              "      <td>0</td>\n",
              "      <td>0.000000e+00</td>\n",
              "      <td>0</td>\n",
              "      <td>0.000000</td>\n",
              "      <td>0</td>\n",
              "      <td>0.000000</td>\n",
              "      <td>0.000000</td>\n",
              "      <td>0</td>\n",
              "      <td>-1</td>\n",
              "    </tr>\n",
              "    <tr>\n",
              "      <th>4</th>\n",
              "      <td>443</td>\n",
              "      <td>17</td>\n",
              "      <td>9.572450e+02</td>\n",
              "      <td>340</td>\n",
              "      <td>0.873680</td>\n",
              "      <td>3900</td>\n",
              "      <td>532.171429</td>\n",
              "      <td>547.823529</td>\n",
              "      <td>17</td>\n",
              "      <td>64240</td>\n",
              "    </tr>\n",
              "    <tr>\n",
              "      <th>...</th>\n",
              "      <td>...</td>\n",
              "      <td>...</td>\n",
              "      <td>...</td>\n",
              "      <td>...</td>\n",
              "      <td>...</td>\n",
              "      <td>...</td>\n",
              "      <td>...</td>\n",
              "      <td>...</td>\n",
              "      <td>...</td>\n",
              "      <td>...</td>\n",
              "    </tr>\n",
              "    <tr>\n",
              "      <th>153204</th>\n",
              "      <td>0</td>\n",
              "      <td>0</td>\n",
              "      <td>0.000000e+00</td>\n",
              "      <td>0</td>\n",
              "      <td>0.000000</td>\n",
              "      <td>0</td>\n",
              "      <td>0.000000</td>\n",
              "      <td>0.000000</td>\n",
              "      <td>0</td>\n",
              "      <td>-1</td>\n",
              "    </tr>\n",
              "    <tr>\n",
              "      <th>153205</th>\n",
              "      <td>0</td>\n",
              "      <td>0</td>\n",
              "      <td>0.000000e+00</td>\n",
              "      <td>0</td>\n",
              "      <td>0.000000</td>\n",
              "      <td>0</td>\n",
              "      <td>0.000000</td>\n",
              "      <td>0.000000</td>\n",
              "      <td>0</td>\n",
              "      <td>-1</td>\n",
              "    </tr>\n",
              "    <tr>\n",
              "      <th>153206</th>\n",
              "      <td>53</td>\n",
              "      <td>1</td>\n",
              "      <td>1.814536e+05</td>\n",
              "      <td>8</td>\n",
              "      <td>250.626566</td>\n",
              "      <td>334</td>\n",
              "      <td>151.600000</td>\n",
              "      <td>189.500000</td>\n",
              "      <td>1</td>\n",
              "      <td>-1</td>\n",
              "    </tr>\n",
              "    <tr>\n",
              "      <th>153207</th>\n",
              "      <td>0</td>\n",
              "      <td>0</td>\n",
              "      <td>0.000000e+00</td>\n",
              "      <td>0</td>\n",
              "      <td>0.000000</td>\n",
              "      <td>0</td>\n",
              "      <td>0.000000</td>\n",
              "      <td>0.000000</td>\n",
              "      <td>0</td>\n",
              "      <td>-1</td>\n",
              "    </tr>\n",
              "    <tr>\n",
              "      <th>153208</th>\n",
              "      <td>0</td>\n",
              "      <td>0</td>\n",
              "      <td>0.000000e+00</td>\n",
              "      <td>0</td>\n",
              "      <td>0.000000</td>\n",
              "      <td>0</td>\n",
              "      <td>0.000000</td>\n",
              "      <td>0.000000</td>\n",
              "      <td>0</td>\n",
              "      <td>-1</td>\n",
              "    </tr>\n",
              "  </tbody>\n",
              "</table>\n",
              "<p>153209 rows × 10 columns</p>\n",
              "</div>\n",
              "    <div class=\"colab-df-buttons\">\n",
              "\n",
              "  <div class=\"colab-df-container\">\n",
              "    <button class=\"colab-df-convert\" onclick=\"convertToInteractive('df-8474809f-52f1-4445-a4bf-eb6a2c73f524')\"\n",
              "            title=\"Convert this dataframe to an interactive table.\"\n",
              "            style=\"display:none;\">\n",
              "\n",
              "  <svg xmlns=\"http://www.w3.org/2000/svg\" height=\"24px\" viewBox=\"0 -960 960 960\">\n",
              "    <path d=\"M120-120v-720h720v720H120Zm60-500h600v-160H180v160Zm220 220h160v-160H400v160Zm0 220h160v-160H400v160ZM180-400h160v-160H180v160Zm440 0h160v-160H620v160ZM180-180h160v-160H180v160Zm440 0h160v-160H620v160Z\"/>\n",
              "  </svg>\n",
              "    </button>\n",
              "\n",
              "  <style>\n",
              "    .colab-df-container {\n",
              "      display:flex;\n",
              "      gap: 12px;\n",
              "    }\n",
              "\n",
              "    .colab-df-convert {\n",
              "      background-color: #E8F0FE;\n",
              "      border: none;\n",
              "      border-radius: 50%;\n",
              "      cursor: pointer;\n",
              "      display: none;\n",
              "      fill: #1967D2;\n",
              "      height: 32px;\n",
              "      padding: 0 0 0 0;\n",
              "      width: 32px;\n",
              "    }\n",
              "\n",
              "    .colab-df-convert:hover {\n",
              "      background-color: #E2EBFA;\n",
              "      box-shadow: 0px 1px 2px rgba(60, 64, 67, 0.3), 0px 1px 3px 1px rgba(60, 64, 67, 0.15);\n",
              "      fill: #174EA6;\n",
              "    }\n",
              "\n",
              "    .colab-df-buttons div {\n",
              "      margin-bottom: 4px;\n",
              "    }\n",
              "\n",
              "    [theme=dark] .colab-df-convert {\n",
              "      background-color: #3B4455;\n",
              "      fill: #D2E3FC;\n",
              "    }\n",
              "\n",
              "    [theme=dark] .colab-df-convert:hover {\n",
              "      background-color: #434B5C;\n",
              "      box-shadow: 0px 1px 3px 1px rgba(0, 0, 0, 0.15);\n",
              "      filter: drop-shadow(0px 1px 2px rgba(0, 0, 0, 0.3));\n",
              "      fill: #FFFFFF;\n",
              "    }\n",
              "  </style>\n",
              "\n",
              "    <script>\n",
              "      const buttonEl =\n",
              "        document.querySelector('#df-8474809f-52f1-4445-a4bf-eb6a2c73f524 button.colab-df-convert');\n",
              "      buttonEl.style.display =\n",
              "        google.colab.kernel.accessAllowed ? 'block' : 'none';\n",
              "\n",
              "      async function convertToInteractive(key) {\n",
              "        const element = document.querySelector('#df-8474809f-52f1-4445-a4bf-eb6a2c73f524');\n",
              "        const dataTable =\n",
              "          await google.colab.kernel.invokeFunction('convertToInteractive',\n",
              "                                                    [key], {});\n",
              "        if (!dataTable) return;\n",
              "\n",
              "        const docLinkHtml = 'Like what you see? Visit the ' +\n",
              "          '<a target=\"_blank\" href=https://colab.research.google.com/notebooks/data_table.ipynb>data table notebook</a>'\n",
              "          + ' to learn more about interactive tables.';\n",
              "        element.innerHTML = '';\n",
              "        dataTable['output_type'] = 'display_data';\n",
              "        await google.colab.output.renderOutput(dataTable, element);\n",
              "        const docLink = document.createElement('div');\n",
              "        docLink.innerHTML = docLinkHtml;\n",
              "        element.appendChild(docLink);\n",
              "      }\n",
              "    </script>\n",
              "  </div>\n",
              "\n",
              "\n",
              "<div id=\"df-ad96a2c0-e67e-4229-a69d-e5ea44b01f29\">\n",
              "  <button class=\"colab-df-quickchart\" onclick=\"quickchart('df-ad96a2c0-e67e-4229-a69d-e5ea44b01f29')\"\n",
              "            title=\"Suggest charts\"\n",
              "            style=\"display:none;\">\n",
              "\n",
              "<svg xmlns=\"http://www.w3.org/2000/svg\" height=\"24px\"viewBox=\"0 0 24 24\"\n",
              "     width=\"24px\">\n",
              "    <g>\n",
              "        <path d=\"M19 3H5c-1.1 0-2 .9-2 2v14c0 1.1.9 2 2 2h14c1.1 0 2-.9 2-2V5c0-1.1-.9-2-2-2zM9 17H7v-7h2v7zm4 0h-2V7h2v10zm4 0h-2v-4h2v4z\"/>\n",
              "    </g>\n",
              "</svg>\n",
              "  </button>\n",
              "\n",
              "<style>\n",
              "  .colab-df-quickchart {\n",
              "      --bg-color: #E8F0FE;\n",
              "      --fill-color: #1967D2;\n",
              "      --hover-bg-color: #E2EBFA;\n",
              "      --hover-fill-color: #174EA6;\n",
              "      --disabled-fill-color: #AAA;\n",
              "      --disabled-bg-color: #DDD;\n",
              "  }\n",
              "\n",
              "  [theme=dark] .colab-df-quickchart {\n",
              "      --bg-color: #3B4455;\n",
              "      --fill-color: #D2E3FC;\n",
              "      --hover-bg-color: #434B5C;\n",
              "      --hover-fill-color: #FFFFFF;\n",
              "      --disabled-bg-color: #3B4455;\n",
              "      --disabled-fill-color: #666;\n",
              "  }\n",
              "\n",
              "  .colab-df-quickchart {\n",
              "    background-color: var(--bg-color);\n",
              "    border: none;\n",
              "    border-radius: 50%;\n",
              "    cursor: pointer;\n",
              "    display: none;\n",
              "    fill: var(--fill-color);\n",
              "    height: 32px;\n",
              "    padding: 0;\n",
              "    width: 32px;\n",
              "  }\n",
              "\n",
              "  .colab-df-quickchart:hover {\n",
              "    background-color: var(--hover-bg-color);\n",
              "    box-shadow: 0 1px 2px rgba(60, 64, 67, 0.3), 0 1px 3px 1px rgba(60, 64, 67, 0.15);\n",
              "    fill: var(--button-hover-fill-color);\n",
              "  }\n",
              "\n",
              "  .colab-df-quickchart-complete:disabled,\n",
              "  .colab-df-quickchart-complete:disabled:hover {\n",
              "    background-color: var(--disabled-bg-color);\n",
              "    fill: var(--disabled-fill-color);\n",
              "    box-shadow: none;\n",
              "  }\n",
              "\n",
              "  .colab-df-spinner {\n",
              "    border: 2px solid var(--fill-color);\n",
              "    border-color: transparent;\n",
              "    border-bottom-color: var(--fill-color);\n",
              "    animation:\n",
              "      spin 1s steps(1) infinite;\n",
              "  }\n",
              "\n",
              "  @keyframes spin {\n",
              "    0% {\n",
              "      border-color: transparent;\n",
              "      border-bottom-color: var(--fill-color);\n",
              "      border-left-color: var(--fill-color);\n",
              "    }\n",
              "    20% {\n",
              "      border-color: transparent;\n",
              "      border-left-color: var(--fill-color);\n",
              "      border-top-color: var(--fill-color);\n",
              "    }\n",
              "    30% {\n",
              "      border-color: transparent;\n",
              "      border-left-color: var(--fill-color);\n",
              "      border-top-color: var(--fill-color);\n",
              "      border-right-color: var(--fill-color);\n",
              "    }\n",
              "    40% {\n",
              "      border-color: transparent;\n",
              "      border-right-color: var(--fill-color);\n",
              "      border-top-color: var(--fill-color);\n",
              "    }\n",
              "    60% {\n",
              "      border-color: transparent;\n",
              "      border-right-color: var(--fill-color);\n",
              "    }\n",
              "    80% {\n",
              "      border-color: transparent;\n",
              "      border-right-color: var(--fill-color);\n",
              "      border-bottom-color: var(--fill-color);\n",
              "    }\n",
              "    90% {\n",
              "      border-color: transparent;\n",
              "      border-bottom-color: var(--fill-color);\n",
              "    }\n",
              "  }\n",
              "</style>\n",
              "\n",
              "  <script>\n",
              "    async function quickchart(key) {\n",
              "      const quickchartButtonEl =\n",
              "        document.querySelector('#' + key + ' button');\n",
              "      quickchartButtonEl.disabled = true;  // To prevent multiple clicks.\n",
              "      quickchartButtonEl.classList.add('colab-df-spinner');\n",
              "      try {\n",
              "        const charts = await google.colab.kernel.invokeFunction(\n",
              "            'suggestCharts', [key], {});\n",
              "      } catch (error) {\n",
              "        console.error('Error during call to suggestCharts:', error);\n",
              "      }\n",
              "      quickchartButtonEl.classList.remove('colab-df-spinner');\n",
              "      quickchartButtonEl.classList.add('colab-df-quickchart-complete');\n",
              "    }\n",
              "    (() => {\n",
              "      let quickchartButtonEl =\n",
              "        document.querySelector('#df-ad96a2c0-e67e-4229-a69d-e5ea44b01f29 button');\n",
              "      quickchartButtonEl.style.display =\n",
              "        google.colab.kernel.accessAllowed ? 'block' : 'none';\n",
              "    })();\n",
              "  </script>\n",
              "</div>\n",
              "\n",
              "  <div id=\"id_a93ee108-2335-44a6-a9a1-306cfbd57f1e\">\n",
              "    <style>\n",
              "      .colab-df-generate {\n",
              "        background-color: #E8F0FE;\n",
              "        border: none;\n",
              "        border-radius: 50%;\n",
              "        cursor: pointer;\n",
              "        display: none;\n",
              "        fill: #1967D2;\n",
              "        height: 32px;\n",
              "        padding: 0 0 0 0;\n",
              "        width: 32px;\n",
              "      }\n",
              "\n",
              "      .colab-df-generate:hover {\n",
              "        background-color: #E2EBFA;\n",
              "        box-shadow: 0px 1px 2px rgba(60, 64, 67, 0.3), 0px 1px 3px 1px rgba(60, 64, 67, 0.15);\n",
              "        fill: #174EA6;\n",
              "      }\n",
              "\n",
              "      [theme=dark] .colab-df-generate {\n",
              "        background-color: #3B4455;\n",
              "        fill: #D2E3FC;\n",
              "      }\n",
              "\n",
              "      [theme=dark] .colab-df-generate:hover {\n",
              "        background-color: #434B5C;\n",
              "        box-shadow: 0px 1px 3px 1px rgba(0, 0, 0, 0.15);\n",
              "        filter: drop-shadow(0px 1px 2px rgba(0, 0, 0, 0.3));\n",
              "        fill: #FFFFFF;\n",
              "      }\n",
              "    </style>\n",
              "    <button class=\"colab-df-generate\" onclick=\"generateWithVariable('X')\"\n",
              "            title=\"Generate code using this dataframe.\"\n",
              "            style=\"display:none;\">\n",
              "\n",
              "  <svg xmlns=\"http://www.w3.org/2000/svg\" height=\"24px\"viewBox=\"0 0 24 24\"\n",
              "       width=\"24px\">\n",
              "    <path d=\"M7,19H8.4L18.45,9,17,7.55,7,17.6ZM5,21V16.75L18.45,3.32a2,2,0,0,1,2.83,0l1.4,1.43a1.91,1.91,0,0,1,.58,1.4,1.91,1.91,0,0,1-.58,1.4L9.25,21ZM18.45,9,17,7.55Zm-12,3A5.31,5.31,0,0,0,4.9,8.1,5.31,5.31,0,0,0,1,6.5,5.31,5.31,0,0,0,4.9,4.9,5.31,5.31,0,0,0,6.5,1,5.31,5.31,0,0,0,8.1,4.9,5.31,5.31,0,0,0,12,6.5,5.46,5.46,0,0,0,6.5,12Z\"/>\n",
              "  </svg>\n",
              "    </button>\n",
              "    <script>\n",
              "      (() => {\n",
              "      const buttonEl =\n",
              "        document.querySelector('#id_a93ee108-2335-44a6-a9a1-306cfbd57f1e button.colab-df-generate');\n",
              "      buttonEl.style.display =\n",
              "        google.colab.kernel.accessAllowed ? 'block' : 'none';\n",
              "\n",
              "      buttonEl.onclick = () => {\n",
              "        google.colab.notebook.generateWithVariable('X');\n",
              "      }\n",
              "      })();\n",
              "    </script>\n",
              "  </div>\n",
              "\n",
              "    </div>\n",
              "  </div>\n"
            ],
            "application/vnd.google.colaboratory.intrinsic+json": {
              "type": "dataframe",
              "variable_name": "X"
            }
          },
          "metadata": {},
          "execution_count": 59
        }
      ]
    },
    {
      "cell_type": "code",
      "source": [
        "y"
      ],
      "metadata": {
        "colab": {
          "base_uri": "https://localhost:8080/",
          "height": 424
        },
        "id": "K9WMdVVtv-LB",
        "outputId": "1424a0da-87e4-4256-d5c4-889370b0b797"
      },
      "execution_count": 60,
      "outputs": [
        {
          "output_type": "execute_result",
          "data": {
            "text/plain": [
              "           Label\n",
              "0         Normal\n",
              "1         Normal\n",
              "2       Abnormal\n",
              "3       Abnormal\n",
              "4         Normal\n",
              "...          ...\n",
              "153204  Abnormal\n",
              "153205  Abnormal\n",
              "153206    Normal\n",
              "153207  Abnormal\n",
              "153208  Abnormal\n",
              "\n",
              "[153209 rows x 1 columns]"
            ],
            "text/html": [
              "\n",
              "  <div id=\"df-429c3953-500c-4a07-a676-24d7cb13269d\" class=\"colab-df-container\">\n",
              "    <div>\n",
              "<style scoped>\n",
              "    .dataframe tbody tr th:only-of-type {\n",
              "        vertical-align: middle;\n",
              "    }\n",
              "\n",
              "    .dataframe tbody tr th {\n",
              "        vertical-align: top;\n",
              "    }\n",
              "\n",
              "    .dataframe thead th {\n",
              "        text-align: right;\n",
              "    }\n",
              "</style>\n",
              "<table border=\"1\" class=\"dataframe\">\n",
              "  <thead>\n",
              "    <tr style=\"text-align: right;\">\n",
              "      <th></th>\n",
              "      <th>Label</th>\n",
              "    </tr>\n",
              "  </thead>\n",
              "  <tbody>\n",
              "    <tr>\n",
              "      <th>0</th>\n",
              "      <td>Normal</td>\n",
              "    </tr>\n",
              "    <tr>\n",
              "      <th>1</th>\n",
              "      <td>Normal</td>\n",
              "    </tr>\n",
              "    <tr>\n",
              "      <th>2</th>\n",
              "      <td>Abnormal</td>\n",
              "    </tr>\n",
              "    <tr>\n",
              "      <th>3</th>\n",
              "      <td>Abnormal</td>\n",
              "    </tr>\n",
              "    <tr>\n",
              "      <th>4</th>\n",
              "      <td>Normal</td>\n",
              "    </tr>\n",
              "    <tr>\n",
              "      <th>...</th>\n",
              "      <td>...</td>\n",
              "    </tr>\n",
              "    <tr>\n",
              "      <th>153204</th>\n",
              "      <td>Abnormal</td>\n",
              "    </tr>\n",
              "    <tr>\n",
              "      <th>153205</th>\n",
              "      <td>Abnormal</td>\n",
              "    </tr>\n",
              "    <tr>\n",
              "      <th>153206</th>\n",
              "      <td>Normal</td>\n",
              "    </tr>\n",
              "    <tr>\n",
              "      <th>153207</th>\n",
              "      <td>Abnormal</td>\n",
              "    </tr>\n",
              "    <tr>\n",
              "      <th>153208</th>\n",
              "      <td>Abnormal</td>\n",
              "    </tr>\n",
              "  </tbody>\n",
              "</table>\n",
              "<p>153209 rows × 1 columns</p>\n",
              "</div>\n",
              "    <div class=\"colab-df-buttons\">\n",
              "\n",
              "  <div class=\"colab-df-container\">\n",
              "    <button class=\"colab-df-convert\" onclick=\"convertToInteractive('df-429c3953-500c-4a07-a676-24d7cb13269d')\"\n",
              "            title=\"Convert this dataframe to an interactive table.\"\n",
              "            style=\"display:none;\">\n",
              "\n",
              "  <svg xmlns=\"http://www.w3.org/2000/svg\" height=\"24px\" viewBox=\"0 -960 960 960\">\n",
              "    <path d=\"M120-120v-720h720v720H120Zm60-500h600v-160H180v160Zm220 220h160v-160H400v160Zm0 220h160v-160H400v160ZM180-400h160v-160H180v160Zm440 0h160v-160H620v160ZM180-180h160v-160H180v160Zm440 0h160v-160H620v160Z\"/>\n",
              "  </svg>\n",
              "    </button>\n",
              "\n",
              "  <style>\n",
              "    .colab-df-container {\n",
              "      display:flex;\n",
              "      gap: 12px;\n",
              "    }\n",
              "\n",
              "    .colab-df-convert {\n",
              "      background-color: #E8F0FE;\n",
              "      border: none;\n",
              "      border-radius: 50%;\n",
              "      cursor: pointer;\n",
              "      display: none;\n",
              "      fill: #1967D2;\n",
              "      height: 32px;\n",
              "      padding: 0 0 0 0;\n",
              "      width: 32px;\n",
              "    }\n",
              "\n",
              "    .colab-df-convert:hover {\n",
              "      background-color: #E2EBFA;\n",
              "      box-shadow: 0px 1px 2px rgba(60, 64, 67, 0.3), 0px 1px 3px 1px rgba(60, 64, 67, 0.15);\n",
              "      fill: #174EA6;\n",
              "    }\n",
              "\n",
              "    .colab-df-buttons div {\n",
              "      margin-bottom: 4px;\n",
              "    }\n",
              "\n",
              "    [theme=dark] .colab-df-convert {\n",
              "      background-color: #3B4455;\n",
              "      fill: #D2E3FC;\n",
              "    }\n",
              "\n",
              "    [theme=dark] .colab-df-convert:hover {\n",
              "      background-color: #434B5C;\n",
              "      box-shadow: 0px 1px 3px 1px rgba(0, 0, 0, 0.15);\n",
              "      filter: drop-shadow(0px 1px 2px rgba(0, 0, 0, 0.3));\n",
              "      fill: #FFFFFF;\n",
              "    }\n",
              "  </style>\n",
              "\n",
              "    <script>\n",
              "      const buttonEl =\n",
              "        document.querySelector('#df-429c3953-500c-4a07-a676-24d7cb13269d button.colab-df-convert');\n",
              "      buttonEl.style.display =\n",
              "        google.colab.kernel.accessAllowed ? 'block' : 'none';\n",
              "\n",
              "      async function convertToInteractive(key) {\n",
              "        const element = document.querySelector('#df-429c3953-500c-4a07-a676-24d7cb13269d');\n",
              "        const dataTable =\n",
              "          await google.colab.kernel.invokeFunction('convertToInteractive',\n",
              "                                                    [key], {});\n",
              "        if (!dataTable) return;\n",
              "\n",
              "        const docLinkHtml = 'Like what you see? Visit the ' +\n",
              "          '<a target=\"_blank\" href=https://colab.research.google.com/notebooks/data_table.ipynb>data table notebook</a>'\n",
              "          + ' to learn more about interactive tables.';\n",
              "        element.innerHTML = '';\n",
              "        dataTable['output_type'] = 'display_data';\n",
              "        await google.colab.output.renderOutput(dataTable, element);\n",
              "        const docLink = document.createElement('div');\n",
              "        docLink.innerHTML = docLinkHtml;\n",
              "        element.appendChild(docLink);\n",
              "      }\n",
              "    </script>\n",
              "  </div>\n",
              "\n",
              "\n",
              "<div id=\"df-8b0e45f3-5cdb-4191-9282-a90b4994783e\">\n",
              "  <button class=\"colab-df-quickchart\" onclick=\"quickchart('df-8b0e45f3-5cdb-4191-9282-a90b4994783e')\"\n",
              "            title=\"Suggest charts\"\n",
              "            style=\"display:none;\">\n",
              "\n",
              "<svg xmlns=\"http://www.w3.org/2000/svg\" height=\"24px\"viewBox=\"0 0 24 24\"\n",
              "     width=\"24px\">\n",
              "    <g>\n",
              "        <path d=\"M19 3H5c-1.1 0-2 .9-2 2v14c0 1.1.9 2 2 2h14c1.1 0 2-.9 2-2V5c0-1.1-.9-2-2-2zM9 17H7v-7h2v7zm4 0h-2V7h2v10zm4 0h-2v-4h2v4z\"/>\n",
              "    </g>\n",
              "</svg>\n",
              "  </button>\n",
              "\n",
              "<style>\n",
              "  .colab-df-quickchart {\n",
              "      --bg-color: #E8F0FE;\n",
              "      --fill-color: #1967D2;\n",
              "      --hover-bg-color: #E2EBFA;\n",
              "      --hover-fill-color: #174EA6;\n",
              "      --disabled-fill-color: #AAA;\n",
              "      --disabled-bg-color: #DDD;\n",
              "  }\n",
              "\n",
              "  [theme=dark] .colab-df-quickchart {\n",
              "      --bg-color: #3B4455;\n",
              "      --fill-color: #D2E3FC;\n",
              "      --hover-bg-color: #434B5C;\n",
              "      --hover-fill-color: #FFFFFF;\n",
              "      --disabled-bg-color: #3B4455;\n",
              "      --disabled-fill-color: #666;\n",
              "  }\n",
              "\n",
              "  .colab-df-quickchart {\n",
              "    background-color: var(--bg-color);\n",
              "    border: none;\n",
              "    border-radius: 50%;\n",
              "    cursor: pointer;\n",
              "    display: none;\n",
              "    fill: var(--fill-color);\n",
              "    height: 32px;\n",
              "    padding: 0;\n",
              "    width: 32px;\n",
              "  }\n",
              "\n",
              "  .colab-df-quickchart:hover {\n",
              "    background-color: var(--hover-bg-color);\n",
              "    box-shadow: 0 1px 2px rgba(60, 64, 67, 0.3), 0 1px 3px 1px rgba(60, 64, 67, 0.15);\n",
              "    fill: var(--button-hover-fill-color);\n",
              "  }\n",
              "\n",
              "  .colab-df-quickchart-complete:disabled,\n",
              "  .colab-df-quickchart-complete:disabled:hover {\n",
              "    background-color: var(--disabled-bg-color);\n",
              "    fill: var(--disabled-fill-color);\n",
              "    box-shadow: none;\n",
              "  }\n",
              "\n",
              "  .colab-df-spinner {\n",
              "    border: 2px solid var(--fill-color);\n",
              "    border-color: transparent;\n",
              "    border-bottom-color: var(--fill-color);\n",
              "    animation:\n",
              "      spin 1s steps(1) infinite;\n",
              "  }\n",
              "\n",
              "  @keyframes spin {\n",
              "    0% {\n",
              "      border-color: transparent;\n",
              "      border-bottom-color: var(--fill-color);\n",
              "      border-left-color: var(--fill-color);\n",
              "    }\n",
              "    20% {\n",
              "      border-color: transparent;\n",
              "      border-left-color: var(--fill-color);\n",
              "      border-top-color: var(--fill-color);\n",
              "    }\n",
              "    30% {\n",
              "      border-color: transparent;\n",
              "      border-left-color: var(--fill-color);\n",
              "      border-top-color: var(--fill-color);\n",
              "      border-right-color: var(--fill-color);\n",
              "    }\n",
              "    40% {\n",
              "      border-color: transparent;\n",
              "      border-right-color: var(--fill-color);\n",
              "      border-top-color: var(--fill-color);\n",
              "    }\n",
              "    60% {\n",
              "      border-color: transparent;\n",
              "      border-right-color: var(--fill-color);\n",
              "    }\n",
              "    80% {\n",
              "      border-color: transparent;\n",
              "      border-right-color: var(--fill-color);\n",
              "      border-bottom-color: var(--fill-color);\n",
              "    }\n",
              "    90% {\n",
              "      border-color: transparent;\n",
              "      border-bottom-color: var(--fill-color);\n",
              "    }\n",
              "  }\n",
              "</style>\n",
              "\n",
              "  <script>\n",
              "    async function quickchart(key) {\n",
              "      const quickchartButtonEl =\n",
              "        document.querySelector('#' + key + ' button');\n",
              "      quickchartButtonEl.disabled = true;  // To prevent multiple clicks.\n",
              "      quickchartButtonEl.classList.add('colab-df-spinner');\n",
              "      try {\n",
              "        const charts = await google.colab.kernel.invokeFunction(\n",
              "            'suggestCharts', [key], {});\n",
              "      } catch (error) {\n",
              "        console.error('Error during call to suggestCharts:', error);\n",
              "      }\n",
              "      quickchartButtonEl.classList.remove('colab-df-spinner');\n",
              "      quickchartButtonEl.classList.add('colab-df-quickchart-complete');\n",
              "    }\n",
              "    (() => {\n",
              "      let quickchartButtonEl =\n",
              "        document.querySelector('#df-8b0e45f3-5cdb-4191-9282-a90b4994783e button');\n",
              "      quickchartButtonEl.style.display =\n",
              "        google.colab.kernel.accessAllowed ? 'block' : 'none';\n",
              "    })();\n",
              "  </script>\n",
              "</div>\n",
              "\n",
              "  <div id=\"id_7376da74-c4a6-429c-8add-9b7d71adca93\">\n",
              "    <style>\n",
              "      .colab-df-generate {\n",
              "        background-color: #E8F0FE;\n",
              "        border: none;\n",
              "        border-radius: 50%;\n",
              "        cursor: pointer;\n",
              "        display: none;\n",
              "        fill: #1967D2;\n",
              "        height: 32px;\n",
              "        padding: 0 0 0 0;\n",
              "        width: 32px;\n",
              "      }\n",
              "\n",
              "      .colab-df-generate:hover {\n",
              "        background-color: #E2EBFA;\n",
              "        box-shadow: 0px 1px 2px rgba(60, 64, 67, 0.3), 0px 1px 3px 1px rgba(60, 64, 67, 0.15);\n",
              "        fill: #174EA6;\n",
              "      }\n",
              "\n",
              "      [theme=dark] .colab-df-generate {\n",
              "        background-color: #3B4455;\n",
              "        fill: #D2E3FC;\n",
              "      }\n",
              "\n",
              "      [theme=dark] .colab-df-generate:hover {\n",
              "        background-color: #434B5C;\n",
              "        box-shadow: 0px 1px 3px 1px rgba(0, 0, 0, 0.15);\n",
              "        filter: drop-shadow(0px 1px 2px rgba(0, 0, 0, 0.3));\n",
              "        fill: #FFFFFF;\n",
              "      }\n",
              "    </style>\n",
              "    <button class=\"colab-df-generate\" onclick=\"generateWithVariable('y')\"\n",
              "            title=\"Generate code using this dataframe.\"\n",
              "            style=\"display:none;\">\n",
              "\n",
              "  <svg xmlns=\"http://www.w3.org/2000/svg\" height=\"24px\"viewBox=\"0 0 24 24\"\n",
              "       width=\"24px\">\n",
              "    <path d=\"M7,19H8.4L18.45,9,17,7.55,7,17.6ZM5,21V16.75L18.45,3.32a2,2,0,0,1,2.83,0l1.4,1.43a1.91,1.91,0,0,1,.58,1.4,1.91,1.91,0,0,1-.58,1.4L9.25,21ZM18.45,9,17,7.55Zm-12,3A5.31,5.31,0,0,0,4.9,8.1,5.31,5.31,0,0,0,1,6.5,5.31,5.31,0,0,0,4.9,4.9,5.31,5.31,0,0,0,6.5,1,5.31,5.31,0,0,0,8.1,4.9,5.31,5.31,0,0,0,12,6.5,5.46,5.46,0,0,0,6.5,12Z\"/>\n",
              "  </svg>\n",
              "    </button>\n",
              "    <script>\n",
              "      (() => {\n",
              "      const buttonEl =\n",
              "        document.querySelector('#id_7376da74-c4a6-429c-8add-9b7d71adca93 button.colab-df-generate');\n",
              "      buttonEl.style.display =\n",
              "        google.colab.kernel.accessAllowed ? 'block' : 'none';\n",
              "\n",
              "      buttonEl.onclick = () => {\n",
              "        google.colab.notebook.generateWithVariable('y');\n",
              "      }\n",
              "      })();\n",
              "    </script>\n",
              "  </div>\n",
              "\n",
              "    </div>\n",
              "  </div>\n"
            ],
            "application/vnd.google.colaboratory.intrinsic+json": {
              "type": "dataframe",
              "variable_name": "y"
            }
          },
          "metadata": {},
          "execution_count": 60
        }
      ]
    },
    {
      "cell_type": "code",
      "source": [
        "# Define the maximum sequence length and vocabulary size\n",
        "maxlen = 10  # or any appropriate value\n",
        "max_features = 300  # or any appropriate value"
      ],
      "metadata": {
        "id": "w6s1RrB2s4_H"
      },
      "execution_count": 61,
      "outputs": []
    },
    {
      "cell_type": "code",
      "source": [
        "# Define the embedding dimension\n",
        "embed_dim = 128"
      ],
      "metadata": {
        "id": "x1whAnMFs8WX"
      },
      "execution_count": 62,
      "outputs": []
    },
    {
      "cell_type": "code",
      "source": [
        "normalisation_layer = BatchNormalization()"
      ],
      "metadata": {
        "id": "AaKPGs5hJQ5o"
      },
      "execution_count": 63,
      "outputs": []
    },
    {
      "cell_type": "code",
      "source": [
        "y = y['Label'].values\n",
        "le = LabelEncoder()\n",
        "y = le.fit_transform(y)"
      ],
      "metadata": {
        "id": "Y0iPolp0vH7C"
      },
      "execution_count": 64,
      "outputs": []
    },
    {
      "cell_type": "code",
      "source": [
        "scaler = MinMaxScaler()\n",
        "X = X.values\n",
        "X = scaler.fit_transform(X)"
      ],
      "metadata": {
        "id": "T7TX9oSTxUKd"
      },
      "execution_count": 65,
      "outputs": []
    },
    {
      "cell_type": "code",
      "source": [
        "X_train, X_test, y_train, y_test = train_test_split(X, y, test_size=0.2, random_state=42,stratify=y)"
      ],
      "metadata": {
        "id": "ovwt5aEyvRAV"
      },
      "execution_count": 66,
      "outputs": []
    },
    {
      "cell_type": "code",
      "source": [
        "X_train = X_train.reshape((X_train.shape[0],1, X_train.shape[1]))\n",
        "X_test = X_test.reshape((X_test.shape[0],1, X_test.shape[1]))\n",
        "##scaler = StandardScaler()\n",
        "#X_train=scaler.fit_transform(X_train)\n",
        "#X_test  = scaler.transform(X_test)"
      ],
      "metadata": {
        "id": "705TQX2eveXX"
      },
      "execution_count": 67,
      "outputs": []
    },
    {
      "cell_type": "code",
      "source": [
        "#model = Sequential()\n",
        "#model.add(Embedding(max_features, output_dim=embed_dim, input_length=maxlen, trainable=True))\n",
        "#model.add(SpatialDropout1D(0.2))\n",
        "#model.add(LSTM(units=128 , return_sequences = True , recurrent_dropout = 0.25 , dropout = 0.25))\n",
        "#model.add(LSTM(units=64 , recurrent_dropout = 0.2 , dropout = 0.2))\n",
        "#model.add(Dense(units = 32 , activation = 'relu'))\n",
        "#model.add(Dense(3, activation='softmax'))\n",
        "#model.compile(optimizer=tf.keras.optimizers.Adam(learning_rate = 0.001), loss='categorical_crossentropy', metrics=['accuracy'])\n",
        "\n",
        "#LSTM model defining\n",
        "model = Sequential()\n",
        "model.add(LSTM(units=64, input_shape=(1,X_train.shape[2]), return_sequences=True,kernel_regularizer='l2',input_dim =10))\n",
        "model.add(Dropout(0.2))\n",
        "model.add(LSTM(units=32,kernel_regularizer='l2'))\n",
        "model.add(Dropout(0.2))\n",
        "model.add(Dense(1, activation='sigmoid'))\n"
      ],
      "metadata": {
        "id": "YV7wHNHOumvZ"
      },
      "execution_count": 78,
      "outputs": []
    },
    {
      "cell_type": "code",
      "source": [
        "from keras.utils import plot_model\n",
        "plot_model(model, show_shapes=True, show_layer_names=True)"
      ],
      "metadata": {
        "colab": {
          "base_uri": "https://localhost:8080/",
          "height": 644
        },
        "id": "f6Hg-wxawtCw",
        "outputId": "1ed60f66-4dfc-422b-9830-5839c097df79"
      },
      "execution_count": 69,
      "outputs": [
        {
          "output_type": "execute_result",
          "data": {
            "image/png": "[encoded data removed]",
            "text/plain": [
              "<IPython.core.display.Image object>"
            ]
          },
          "metadata": {},
          "execution_count": 69
        }
      ]
    },
    {
      "cell_type": "code",
      "source": [
        "y"
      ],
      "metadata": {
        "colab": {
          "base_uri": "https://localhost:8080/"
        },
        "id": "a9_xx1DCGekt",
        "outputId": "3cc6e1d0-901e-41b5-96f1-baad1cf846d9"
      },
      "execution_count": 70,
      "outputs": [
        {
          "output_type": "execute_result",
          "data": {
            "text/plain": [
              "array([1, 1, 0, ..., 1, 0, 0])"
            ]
          },
          "metadata": {},
          "execution_count": 70
        }
      ]
    },
    {
      "cell_type": "code",
      "source": [
        "#converting labels to one hot encoded format\n",
        "#num_classes = 2\n",
        "#y = to_categorical(y)"
      ],
      "metadata": {
        "id": "R-wb5wTfvOoU"
      },
      "execution_count": 71,
      "outputs": []
    },
    {
      "cell_type": "code",
      "source": [
        "#def handle_negative_values(data):\n",
        " # scaled_data = (data - data.min(axis=0)) / (data.max(axis=0) - data.min(axis=0))\n",
        "  #transformed_data = 1/(1+np.exp(-scaled_data))\n",
        "\n",
        "  #return transformed_data\n",
        "#transformed_data=handle_negative_values(X)\n",
        "#X = transformed_data"
      ],
      "metadata": {
        "id": "vUoGmzahTABZ"
      },
      "execution_count": 72,
      "outputs": []
    },
    {
      "cell_type": "code",
      "source": [
        "print(y_train.shape)\n",
        "print(y_test.shape)\n",
        "print(X_train.shape)\n",
        "print(X_test.shape)\n"
      ],
      "metadata": {
        "colab": {
          "base_uri": "https://localhost:8080/"
        },
        "id": "U1-mYGjqAoBi",
        "outputId": "fe47cff0-f1cd-4c73-87d8-8a9f1f5636f1"
      },
      "execution_count": 73,
      "outputs": [
        {
          "output_type": "stream",
          "name": "stdout",
          "text": [
            "(122567,)\n",
            "(30642,)\n",
            "(122567, 1, 10)\n",
            "(30642, 1, 10)\n"
          ]
        }
      ]
    },
    {
      "cell_type": "code",
      "source": [
        "batch_size = 32\n",
        "epochs = 50"
      ],
      "metadata": {
        "id": "gy7Ehq4evgvo"
      },
      "execution_count": 74,
      "outputs": []
    },
    {
      "cell_type": "code",
      "source": [
        "model.summary()"
      ],
      "metadata": {
        "colab": {
          "base_uri": "https://localhost:8080/"
        },
        "id": "0XMVkDAklBzZ",
        "outputId": "5679e9e1-6e01-4adc-beda-4fd02a879220"
      },
      "execution_count": 75,
      "outputs": [
        {
          "output_type": "stream",
          "name": "stdout",
          "text": [
            "Model: \"sequential_2\"\n",
            "_________________________________________________________________\n",
            " Layer (type)                Output Shape              Param #   \n",
            "=================================================================\n",
            " lstm_4 (LSTM)               (None, 1, 80)             29120     \n",
            "                                                                 \n",
            " dropout_2 (Dropout)         (None, 1, 80)             0         \n",
            "                                                                 \n",
            " lstm_5 (LSTM)               (None, 40)                19360     \n",
            "                                                                 \n",
            " dropout_3 (Dropout)         (None, 40)                0         \n",
            "                                                                 \n",
            " dense_3 (Dense)             (None, 1)                 41        \n",
            "                                                                 \n",
            "=================================================================\n",
            "Total params: 48521 (189.54 KB)\n",
            "Trainable params: 48521 (189.54 KB)\n",
            "Non-trainable params: 0 (0.00 Byte)\n",
            "_________________________________________________________________\n"
          ]
        }
      ]
    },
    {
      "cell_type": "code",
      "source": [
        "model.compile(optimizer=tf.keras.optimizers.Adam(learning_rate = 0.001), loss='binary_crossentropy', metrics=['accuracy'])"
      ],
      "metadata": {
        "id": "d1KlWPIS3XIs"
      },
      "execution_count": 80,
      "outputs": []
    },
    {
      "cell_type": "code",
      "source": [
        "history = model.fit(X_train, y_train, batch_size = batch_size , validation_data = (X_test,y_test) , epochs = epochs)"
      ],
      "metadata": {
        "colab": {
          "base_uri": "https://localhost:8080/"
        },
        "id": "WNFOjjGPvyA-",
        "outputId": "41fb5c78-f1a2-43fa-b68a-d2df3fe6a8da"
      },
      "execution_count": 81,
      "outputs": [
        {
          "output_type": "stream",
          "name": "stdout",
          "text": [
            "Epoch 1/50\n",
            "3831/3831 [==============================] - 15s 3ms/step - loss: 0.7017 - accuracy: 0.5536 - val_loss: 0.6875 - val_accuracy: 0.5534\n",
            "Epoch 2/50\n",
            "3831/3831 [==============================] - 11s 3ms/step - loss: 0.6297 - accuracy: 0.6405 - val_loss: 0.5159 - val_accuracy: 0.7689\n",
            "Epoch 3/50\n",
            "3831/3831 [==============================] - 12s 3ms/step - loss: 0.4956 - accuracy: 0.7771 - val_loss: 0.4663 - val_accuracy: 0.7791\n",
            "Epoch 4/50\n",
            "3831/3831 [==============================] - 11s 3ms/step - loss: 0.3933 - accuracy: 0.9241 - val_loss: 0.3291 - val_accuracy: 0.9769\n",
            "Epoch 5/50\n",
            "3831/3831 [==============================] - 11s 3ms/step - loss: 0.3033 - accuracy: 0.9765 - val_loss: 0.2650 - val_accuracy: 0.9858\n",
            "Epoch 6/50\n",
            "3831/3831 [==============================] - 12s 3ms/step - loss: 0.2553 - accuracy: 0.9825 - val_loss: 0.2420 - val_accuracy: 0.9724\n",
            "Epoch 7/50\n",
            "3831/3831 [==============================] - 12s 3ms/step - loss: 0.2236 - accuracy: 0.9848 - val_loss: 0.1990 - val_accuracy: 0.9885\n",
            "Epoch 8/50\n",
            "3831/3831 [==============================] - 12s 3ms/step - loss: 0.2013 - accuracy: 0.9857 - val_loss: 0.2158 - val_accuracy: 0.9523\n",
            "Epoch 9/50\n",
            "3831/3831 [==============================] - 11s 3ms/step - loss: 0.1848 - accuracy: 0.9858 - val_loss: 0.1650 - val_accuracy: 0.9889\n",
            "Epoch 10/50\n",
            "3831/3831 [==============================] - 12s 3ms/step - loss: 0.1724 - accuracy: 0.9861 - val_loss: 0.1550 - val_accuracy: 0.9889\n",
            "Epoch 11/50\n",
            "3831/3831 [==============================] - 11s 3ms/step - loss: 0.1628 - accuracy: 0.9862 - val_loss: 0.1458 - val_accuracy: 0.9886\n",
            "Epoch 12/50\n",
            "3831/3831 [==============================] - 12s 3ms/step - loss: 0.1566 - accuracy: 0.9862 - val_loss: 0.1412 - val_accuracy: 0.9887\n",
            "Epoch 13/50\n",
            "3831/3831 [==============================] - 11s 3ms/step - loss: 0.1494 - accuracy: 0.9864 - val_loss: 0.1329 - val_accuracy: 0.9892\n",
            "Epoch 14/50\n",
            "3831/3831 [==============================] - 11s 3ms/step - loss: 0.1447 - accuracy: 0.9865 - val_loss: 0.1303 - val_accuracy: 0.9885\n",
            "Epoch 15/50\n",
            "3831/3831 [==============================] - 12s 3ms/step - loss: 0.1398 - accuracy: 0.9865 - val_loss: 0.1248 - val_accuracy: 0.9889\n",
            "Epoch 16/50\n",
            "3831/3831 [==============================] - 11s 3ms/step - loss: 0.1364 - accuracy: 0.9865 - val_loss: 0.1544 - val_accuracy: 0.9766\n",
            "Epoch 17/50\n",
            "3831/3831 [==============================] - 12s 3ms/step - loss: 0.1335 - accuracy: 0.9866 - val_loss: 0.1291 - val_accuracy: 0.9846\n",
            "Epoch 18/50\n",
            "3831/3831 [==============================] - 11s 3ms/step - loss: 0.1301 - accuracy: 0.9868 - val_loss: 0.1156 - val_accuracy: 0.9882\n",
            "Epoch 19/50\n",
            "3831/3831 [==============================] - 12s 3ms/step - loss: 0.1288 - accuracy: 0.9865 - val_loss: 0.1284 - val_accuracy: 0.9902\n",
            "Epoch 20/50\n",
            "3831/3831 [==============================] - 12s 3ms/step - loss: 0.1269 - accuracy: 0.9865 - val_loss: 0.1460 - val_accuracy: 0.9739\n",
            "Epoch 21/50\n",
            "3831/3831 [==============================] - 11s 3ms/step - loss: 0.1260 - accuracy: 0.9863 - val_loss: 0.1450 - val_accuracy: 0.9871\n",
            "Epoch 22/50\n",
            "3831/3831 [==============================] - 12s 3ms/step - loss: 0.1234 - accuracy: 0.9864 - val_loss: 0.1223 - val_accuracy: 0.9847\n",
            "Epoch 23/50\n",
            "3831/3831 [==============================] - 12s 3ms/step - loss: 0.1214 - accuracy: 0.9865 - val_loss: 0.1050 - val_accuracy: 0.9896\n",
            "Epoch 24/50\n",
            "3831/3831 [==============================] - 12s 3ms/step - loss: 0.1206 - accuracy: 0.9864 - val_loss: 0.1250 - val_accuracy: 0.9908\n",
            "Epoch 25/50\n",
            "3831/3831 [==============================] - 12s 3ms/step - loss: 0.1187 - accuracy: 0.9864 - val_loss: 0.1123 - val_accuracy: 0.9850\n",
            "Epoch 26/50\n",
            "3831/3831 [==============================] - 11s 3ms/step - loss: 0.1183 - accuracy: 0.9864 - val_loss: 0.1007 - val_accuracy: 0.9897\n",
            "Epoch 27/50\n",
            "3831/3831 [==============================] - 12s 3ms/step - loss: 0.1160 - accuracy: 0.9868 - val_loss: 0.1043 - val_accuracy: 0.9889\n",
            "Epoch 28/50\n",
            "3831/3831 [==============================] - 12s 3ms/step - loss: 0.1176 - accuracy: 0.9862 - val_loss: 0.1257 - val_accuracy: 0.9828\n",
            "Epoch 29/50\n",
            "3831/3831 [==============================] - 11s 3ms/step - loss: 0.1155 - accuracy: 0.9866 - val_loss: 0.1029 - val_accuracy: 0.9886\n",
            "Epoch 30/50\n",
            "3831/3831 [==============================] - 11s 3ms/step - loss: 0.1148 - accuracy: 0.9861 - val_loss: 0.1042 - val_accuracy: 0.9889\n",
            "Epoch 31/50\n",
            "3831/3831 [==============================] - 12s 3ms/step - loss: 0.1135 - accuracy: 0.9866 - val_loss: 0.1683 - val_accuracy: 0.9720\n",
            "Epoch 32/50\n",
            "3831/3831 [==============================] - 12s 3ms/step - loss: 0.1138 - accuracy: 0.9863 - val_loss: 0.0937 - val_accuracy: 0.9894\n",
            "Epoch 33/50\n",
            "3831/3831 [==============================] - 11s 3ms/step - loss: 0.1133 - accuracy: 0.9863 - val_loss: 0.1181 - val_accuracy: 0.9903\n",
            "Epoch 34/50\n",
            "3831/3831 [==============================] - 11s 3ms/step - loss: 0.1141 - accuracy: 0.9859 - val_loss: 0.0997 - val_accuracy: 0.9843\n",
            "Epoch 35/50\n",
            "3831/3831 [==============================] - 12s 3ms/step - loss: 0.1111 - accuracy: 0.9863 - val_loss: 0.0931 - val_accuracy: 0.9893\n",
            "Epoch 36/50\n",
            "3831/3831 [==============================] - 12s 3ms/step - loss: 0.1122 - accuracy: 0.9860 - val_loss: 0.1346 - val_accuracy: 0.9822\n",
            "Epoch 37/50\n",
            "3831/3831 [==============================] - 12s 3ms/step - loss: 0.1122 - accuracy: 0.9863 - val_loss: 0.1200 - val_accuracy: 0.9876\n",
            "Epoch 38/50\n",
            "3831/3831 [==============================] - 12s 3ms/step - loss: 0.1091 - accuracy: 0.9867 - val_loss: 0.0970 - val_accuracy: 0.9894\n",
            "Epoch 39/50\n",
            "3831/3831 [==============================] - 12s 3ms/step - loss: 0.1118 - accuracy: 0.9860 - val_loss: 0.0969 - val_accuracy: 0.9910\n",
            "Epoch 40/50\n",
            "3831/3831 [==============================] - 12s 3ms/step - loss: 0.1091 - accuracy: 0.9865 - val_loss: 0.1968 - val_accuracy: 0.9755\n",
            "Epoch 41/50\n",
            "3831/3831 [==============================] - 12s 3ms/step - loss: 0.1114 - accuracy: 0.9860 - val_loss: 0.1053 - val_accuracy: 0.9905\n",
            "Epoch 42/50\n",
            "3831/3831 [==============================] - 11s 3ms/step - loss: 0.1102 - accuracy: 0.9859 - val_loss: 0.1042 - val_accuracy: 0.9885\n",
            "Epoch 43/50\n",
            "3831/3831 [==============================] - 12s 3ms/step - loss: 0.1086 - accuracy: 0.9863 - val_loss: 0.0924 - val_accuracy: 0.9906\n",
            "Epoch 44/50\n",
            "3831/3831 [==============================] - 12s 3ms/step - loss: 0.1082 - accuracy: 0.9860 - val_loss: 0.0960 - val_accuracy: 0.9894\n",
            "Epoch 45/50\n",
            "3831/3831 [==============================] - 11s 3ms/step - loss: 0.1086 - accuracy: 0.9861 - val_loss: 0.0891 - val_accuracy: 0.9896\n",
            "Epoch 46/50\n",
            "3831/3831 [==============================] - 12s 3ms/step - loss: 0.1071 - accuracy: 0.9862 - val_loss: 0.0977 - val_accuracy: 0.9805\n",
            "Epoch 47/50\n",
            "3831/3831 [==============================] - 11s 3ms/step - loss: 0.1098 - accuracy: 0.9860 - val_loss: 0.0897 - val_accuracy: 0.9900\n",
            "Epoch 48/50\n",
            "3831/3831 [==============================] - 11s 3ms/step - loss: 0.1072 - accuracy: 0.9861 - val_loss: 0.0877 - val_accuracy: 0.9896\n",
            "Epoch 49/50\n",
            "3831/3831 [==============================] - 12s 3ms/step - loss: 0.1079 - accuracy: 0.9861 - val_loss: 0.0935 - val_accuracy: 0.9887\n",
            "Epoch 50/50\n",
            "3831/3831 [==============================] - 11s 3ms/step - loss: 0.1076 - accuracy: 0.9861 - val_loss: 0.1136 - val_accuracy: 0.9907\n"
          ]
        }
      ]
    },
    {
      "cell_type": "code",
      "source": [
        "print(\"Accuracy of the model on Training Data is - \" , model.evaluate(X_train,y_train)[1]*100 , \"%\")\n",
        "print(\"Accuracy of the model on Testing Data is - \" , model.evaluate(X_test,y_test)[1]*100 , \"%\")"
      ],
      "metadata": {
        "colab": {
          "base_uri": "https://localhost:8080/"
        },
        "id": "xFsPpEVIxi9Q",
        "outputId": "b4b9046f-560e-474c-dc07-c19416236120"
      },
      "execution_count": 82,
      "outputs": [
        {
          "output_type": "stream",
          "name": "stdout",
          "text": [
            "3831/3831 [==============================] - 6s 1ms/step - loss: 0.1144 - accuracy: 0.9904\n",
            "Accuracy of the model on Training Data is -  99.04134273529053 %\n",
            "958/958 [==============================] - 1s 1ms/step - loss: 0.1136 - accuracy: 0.9907\n",
            "Accuracy of the model on Testing Data is -  99.0699052810669 %\n"
          ]
        }
      ]
    },
    {
      "cell_type": "code",
      "source": [
        "import matplotlib.pyplot as plt\n",
        "epochs = [i for i in range(1,51)]\n",
        "fig , ax = plt.subplots(1,2)\n",
        "train_acc = history.history['accuracy']\n",
        "train_loss = history.history['loss']\n",
        "val_acc = history.history['val_accuracy']\n",
        "val_loss = history.history['val_loss']\n",
        "fig.set_size_inches(20,10)\n",
        "\n",
        "ax[0].plot(epochs , train_acc , 'go-' , label = 'Training Accuracy')\n",
        "ax[0].plot(epochs , val_acc , 'ro-' , label = 'Validation Accuracy')\n",
        "ax[0].set_title('Training & Validation Accuracy')\n",
        "ax[0].legend()\n",
        "ax[0].set_xlabel(\"Epochs\")\n",
        "ax[0].set_ylabel(\"Accuracy\")\n",
        "\n",
        "ax[1].plot(epochs , train_loss , 'go-' , label = 'Training Loss')\n",
        "ax[1].plot(epochs , val_loss , 'ro-' , label = 'Validation Loss')\n",
        "ax[1].set_title('Training & Validation Loss')\n",
        "ax[1].legend()\n",
        "ax[1].set_xlabel(\"Epochs\")\n",
        "ax[1].set_ylabel(\"Loss\")\n",
        "plt.show()"
      ],
      "metadata": {
        "colab": {
          "base_uri": "https://localhost:8080/",
          "height": 637
        },
        "id": "iVc4vxPa8T1w",
        "outputId": "1703e133-07fe-4cb2-e6ff-f4fb54360069"
      },
      "execution_count": 83,
      "outputs": [
        {
          "output_type": "display_data",
          "data": {
            "text/plain": [
              "<Figure size 2000x1000 with 2 Axes>"
            ],
            "image/png": "[encoded data removed]"
          },
          "metadata": {}
        }
      ]
    },
    {
      "cell_type": "code",
      "source": [
        "# Plot of loss vs epoch of train and test dataset\n",
        "plt.plot(history.history['loss'])\n",
        "plt.plot(history.history['val_loss'])\n",
        "plt.title(\"Plot of loss vs epoch for train and test dataset\")\n",
        "plt.ylabel('loss')\n",
        "plt.xlabel('epoch')\n",
        "plt.legend(['train', 'test'], loc='best')\n",
        "#plt.savefig('lstm_binary_loss.png')\n",
        "plt.show()"
      ],
      "metadata": {
        "colab": {
          "base_uri": "https://localhost:8080/",
          "height": 472
        },
        "id": "c5lKq1Dbb0jO",
        "outputId": "d7ae6fc2-aec5-4ad1-ebfd-d0de645096c4"
      },
      "execution_count": 85,
      "outputs": [
        {
          "output_type": "display_data",
          "data": {
            "text/plain": [
              "<Figure size 640x480 with 1 Axes>"
            ],
            "image/png": "[encoded data removed]"
          },
          "metadata": {}
        }
      ]
    },
    {
      "cell_type": "code",
      "source": [
        "y_pred = model.predict(X_test)\n",
        "y_pred = np.round(y_pred)"
      ],
      "metadata": {
        "colab": {
          "base_uri": "https://localhost:8080/"
        },
        "id": "nqO-qxcT9Edd",
        "outputId": "b095e67c-8223-49d8-fe91-0f407d8874cf"
      },
      "execution_count": 86,
      "outputs": [
        {
          "output_type": "stream",
          "name": "stdout",
          "text": [
            "958/958 [==============================] - 2s 1ms/step\n"
          ]
        }
      ]
    },
    {
      "cell_type": "code",
      "source": [
        "y_pred"
      ],
      "metadata": {
        "colab": {
          "base_uri": "https://localhost:8080/"
        },
        "id": "GMmTkKsiSSZ0",
        "outputId": "66af0bd6-db5c-4bb5-a6ea-5d85fe246c49"
      },
      "execution_count": 87,
      "outputs": [
        {
          "output_type": "execute_result",
          "data": {
            "text/plain": [
              "array([[1.],\n",
              "       [1.],\n",
              "       [0.],\n",
              "       ...,\n",
              "       [1.],\n",
              "       [0.],\n",
              "       [0.]], dtype=float32)"
            ]
          },
          "metadata": {},
          "execution_count": 87
        }
      ]
    },
    {
      "cell_type": "code",
      "source": [
        "print(classification_report(y_test, y_pred))"
      ],
      "metadata": {
        "colab": {
          "base_uri": "https://localhost:8080/"
        },
        "id": "4j_HMcWd9lXo",
        "outputId": "c72c6177-832d-42cb-dca7-b4dad6816759"
      },
      "execution_count": 88,
      "outputs": [
        {
          "output_type": "stream",
          "name": "stdout",
          "text": [
            "              precision    recall  f1-score   support\n",
            "\n",
            "           0       0.99      1.00      0.99     16957\n",
            "           1       1.00      0.98      0.99     13685\n",
            "\n",
            "    accuracy                           0.99     30642\n",
            "   macro avg       0.99      0.99      0.99     30642\n",
            "weighted avg       0.99      0.99      0.99     30642\n",
            "\n"
          ]
        }
      ]
    },
    {
      "cell_type": "code",
      "source": [
        "y_true_encoded = le.fit_transform(y_test)"
      ],
      "metadata": {
        "id": "qSA7qakv9xFE"
      },
      "execution_count": 89,
      "outputs": []
    },
    {
      "cell_type": "code",
      "source": [
        "y_pred_labels = le.fit_transform(y_pred)"
      ],
      "metadata": {
        "id": "U77QL9Nm-Mbe",
        "colab": {
          "base_uri": "https://localhost:8080/"
        },
        "outputId": "8dca6887-dbd5-4795-df62-41753d2e9262"
      },
      "execution_count": 90,
      "outputs": [
        {
          "output_type": "stream",
          "name": "stderr",
          "text": [
            "/usr/local/lib/python3.10/dist-packages/sklearn/preprocessing/_label.py:116: DataConversionWarning: A column-vector y was passed when a 1d array was expected. Please change the shape of y to (n_samples, ), for example using ravel().\n",
            "  y = column_or_1d(y, warn=True)\n"
          ]
        }
      ]
    },
    {
      "cell_type": "code",
      "source": [
        "confusion_mat = confusion_matrix(y_test, y_pred)"
      ],
      "metadata": {
        "id": "pY9qxXbm-48b"
      },
      "execution_count": 91,
      "outputs": []
    },
    {
      "cell_type": "code",
      "source": [
        "confusion_mat"
      ],
      "metadata": {
        "colab": {
          "base_uri": "https://localhost:8080/"
        },
        "id": "u1m_PVLB-_EP",
        "outputId": "392fc9dc-e3f6-439d-fa49-7d22deec34f1"
      },
      "execution_count": 92,
      "outputs": [
        {
          "output_type": "execute_result",
          "data": {
            "text/plain": [
              "array([[16929,    28],\n",
              "       [  257, 13428]])"
            ]
          },
          "metadata": {},
          "execution_count": 92
        }
      ]
    },
    {
      "cell_type": "code",
      "source": [
        "logr_bin_df = pd.DataFrame({'Actual': y_true_encoded, 'Predicted': y_pred_labels})\n",
        "print(logr_bin_df)"
      ],
      "metadata": {
        "colab": {
          "base_uri": "https://localhost:8080/"
        },
        "id": "E1JQGpt2_Auo",
        "outputId": "e4e10671-0bb7-4e6f-813d-8f1f038b698b"
      },
      "execution_count": 93,
      "outputs": [
        {
          "output_type": "stream",
          "name": "stdout",
          "text": [
            "       Actual  Predicted\n",
            "0           1          1\n",
            "1           1          1\n",
            "2           0          0\n",
            "3           0          0\n",
            "4           0          0\n",
            "...       ...        ...\n",
            "30637       0          0\n",
            "30638       0          0\n",
            "30639       1          1\n",
            "30640       0          0\n",
            "30641       0          0\n",
            "\n",
            "[30642 rows x 2 columns]\n"
          ]
        }
      ]
    },
    {
      "cell_type": "code",
      "source": [
        "from keras.models import save_model\n",
        "\n",
        "# Assuming 'model' is your trained Keras model\n",
        "model.save('binbalancedModel1.keras')  # Save the model in HDF5 format"
      ],
      "metadata": {
        "id": "t5T-Fngb_GXf"
      },
      "execution_count": 97,
      "outputs": []
    },
    {
      "cell_type": "code",
      "source": [],
      "metadata": {
        "id": "8DJmJ4z8uNea"
      },
      "execution_count": null,
      "outputs": []
    }
  ]
}