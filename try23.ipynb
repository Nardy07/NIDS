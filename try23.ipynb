{
  "cells": [
    {
      "cell_type": "markdown",
      "metadata": {
        "id": "view-in-github",
        "colab_type": "text"
      },
      "source": [
        "<a href=\"https://colab.research.google.com/github/Nardy07/NIDS/blob/main/try23.ipynb\" target=\"_parent\"><img src=\"https://colab.research.google.com/assets/colab-badge.svg\" alt=\"Open In Colab\"/></a>"
      ]
    },
    {
      "cell_type": "code",
      "execution_count": 1,
      "id": "940b92ec-adb3-42bb-8954-c5d11a54a69a",
      "metadata": {
        "id": "940b92ec-adb3-42bb-8954-c5d11a54a69a"
      },
      "outputs": [],
      "source": [
        "import pandas as pd\n",
        "import numpy as np\n",
        "from keras.utils import to_categorical\n",
        "import matplotlib.pyplot as plt\n",
        "\n",
        "from keras.models import Sequential\n",
        "from keras.layers import LSTM, Dense, Dropout\n",
        "from keras.callbacks import EarlyStopping\n"
      ]
    },
    {
      "cell_type": "code",
      "execution_count": 2,
      "id": "d6d3a0df-bda7-479f-aced-c0dd6a320c92",
      "metadata": {
        "id": "d6d3a0df-bda7-479f-aced-c0dd6a320c92"
      },
      "outputs": [],
      "source": [
        "df= pd.read_csv('binb_data.csv')"
      ]
    },
    {
      "cell_type": "code",
      "source": [
        "df = df.drop(df.columns[0], axis=1)"
      ],
      "metadata": {
        "id": "H0uYWDTuYVO_"
      },
      "id": "H0uYWDTuYVO_",
      "execution_count": 3,
      "outputs": []
    },
    {
      "cell_type": "code",
      "source": [
        "df"
      ],
      "metadata": {
        "id": "XCM5QnPaYqg6",
        "outputId": "a9870545-e64d-41ef-f10b-0333f8557b82",
        "colab": {
          "base_uri": "https://localhost:8080/",
          "height": 444
        }
      },
      "id": "XCM5QnPaYqg6",
      "execution_count": 4,
      "outputs": [
        {
          "output_type": "execute_result",
          "data": {
            "text/plain": [
              "        Bwd_Pkt_Len_Mean  Bwd_IAT_Tot  Bwd_IAT_Mean  Pkt_Len_Max  \\\n",
              "0              -0.189354    -0.370661     -0.361533     2.263739   \n",
              "1               6.384897    -0.317948     -0.360179     7.119662   \n",
              "2               0.091383    -0.378125     -0.359461     0.006001   \n",
              "3              -0.249572    -0.380181     -0.363406    -0.164223   \n",
              "4               1.308591    -0.372799     -0.359629     0.528413   \n",
              "...                  ...          ...           ...          ...   \n",
              "205162         -0.232329    -0.369667     -0.323059    -0.158086   \n",
              "205163         -0.242182    -0.369778     -0.350099    -0.153017   \n",
              "205164         -0.222583    -0.378771     -0.360701    -0.156219   \n",
              "205165         -0.232329    -0.369617     -0.322867    -0.158086   \n",
              "205166         -0.242182    -0.369685     -0.349981    -0.156219   \n",
              "\n",
              "        Pkt_Len_Mean  Pkt_Len_Std  Pkt_Len_Var  Pkt_Size_Avg  \\\n",
              "0           4.590637     2.995018     0.471796      4.347100   \n",
              "1           5.353110     4.297869     0.980947      5.031255   \n",
              "2          -0.035646     0.085284    -0.047994     -0.041103   \n",
              "3          -0.281857    -0.233345    -0.053107     -0.296156   \n",
              "4           1.018069     0.871613     0.008384      0.970252   \n",
              "...              ...          ...          ...           ...   \n",
              "205162     -0.269257    -0.217665    -0.053094     -0.281918   \n",
              "205163     -0.244059    -0.204767    -0.053066     -0.257822   \n",
              "205164     -0.248989    -0.208679    -0.053076     -0.262389   \n",
              "205165     -0.269257    -0.217665    -0.053094     -0.281918   \n",
              "205166     -0.251102    -0.211002    -0.053082     -0.264965   \n",
              "\n",
              "        Bwd_Seg_Size_Avg  Init_Bwd_Win_Byts  intrusion  Abnormal  Normal  \\\n",
              "0              -0.189354           2.477885          1     False    True   \n",
              "1               6.384897           2.420659          1     False    True   \n",
              "2               0.091383           2.420659          1     False    True   \n",
              "3              -0.249572           2.420615          1     False    True   \n",
              "4               1.308591           2.420659          1     False    True   \n",
              "...                  ...                ...        ...       ...     ...   \n",
              "205162         -0.232329          -0.415265          0      True   False   \n",
              "205163         -0.242182          -0.415265          0      True   False   \n",
              "205164         -0.222583          -0.408592          0      True   False   \n",
              "205165         -0.232329          -0.415265          0      True   False   \n",
              "205166         -0.242182          -0.415265          0      True   False   \n",
              "\n",
              "           Label  \n",
              "0         Normal  \n",
              "1         Normal  \n",
              "2         Normal  \n",
              "3         Normal  \n",
              "4         Normal  \n",
              "...          ...  \n",
              "205162  Abnormal  \n",
              "205163  Abnormal  \n",
              "205164  Abnormal  \n",
              "205165  Abnormal  \n",
              "205166  Abnormal  \n",
              "\n",
              "[205167 rows x 14 columns]"
            ],
            "text/html": [
              "\n",
              "  <div id=\"df-2ff45ba4-04dc-4f48-9e86-d07301e5f00d\" class=\"colab-df-container\">\n",
              "    <div>\n",
              "<style scoped>\n",
              "    .dataframe tbody tr th:only-of-type {\n",
              "        vertical-align: middle;\n",
              "    }\n",
              "\n",
              "    .dataframe tbody tr th {\n",
              "        vertical-align: top;\n",
              "    }\n",
              "\n",
              "    .dataframe thead th {\n",
              "        text-align: right;\n",
              "    }\n",
              "</style>\n",
              "<table border=\"1\" class=\"dataframe\">\n",
              "  <thead>\n",
              "    <tr style=\"text-align: right;\">\n",
              "      <th></th>\n",
              "      <th>Bwd_Pkt_Len_Mean</th>\n",
              "      <th>Bwd_IAT_Tot</th>\n",
              "      <th>Bwd_IAT_Mean</th>\n",
              "      <th>Pkt_Len_Max</th>\n",
              "      <th>Pkt_Len_Mean</th>\n",
              "      <th>Pkt_Len_Std</th>\n",
              "      <th>Pkt_Len_Var</th>\n",
              "      <th>Pkt_Size_Avg</th>\n",
              "      <th>Bwd_Seg_Size_Avg</th>\n",
              "      <th>Init_Bwd_Win_Byts</th>\n",
              "      <th>intrusion</th>\n",
              "      <th>Abnormal</th>\n",
              "      <th>Normal</th>\n",
              "      <th>Label</th>\n",
              "    </tr>\n",
              "  </thead>\n",
              "  <tbody>\n",
              "    <tr>\n",
              "      <th>0</th>\n",
              "      <td>-0.189354</td>\n",
              "      <td>-0.370661</td>\n",
              "      <td>-0.361533</td>\n",
              "      <td>2.263739</td>\n",
              "      <td>4.590637</td>\n",
              "      <td>2.995018</td>\n",
              "      <td>0.471796</td>\n",
              "      <td>4.347100</td>\n",
              "      <td>-0.189354</td>\n",
              "      <td>2.477885</td>\n",
              "      <td>1</td>\n",
              "      <td>False</td>\n",
              "      <td>True</td>\n",
              "      <td>Normal</td>\n",
              "    </tr>\n",
              "    <tr>\n",
              "      <th>1</th>\n",
              "      <td>6.384897</td>\n",
              "      <td>-0.317948</td>\n",
              "      <td>-0.360179</td>\n",
              "      <td>7.119662</td>\n",
              "      <td>5.353110</td>\n",
              "      <td>4.297869</td>\n",
              "      <td>0.980947</td>\n",
              "      <td>5.031255</td>\n",
              "      <td>6.384897</td>\n",
              "      <td>2.420659</td>\n",
              "      <td>1</td>\n",
              "      <td>False</td>\n",
              "      <td>True</td>\n",
              "      <td>Normal</td>\n",
              "    </tr>\n",
              "    <tr>\n",
              "      <th>2</th>\n",
              "      <td>0.091383</td>\n",
              "      <td>-0.378125</td>\n",
              "      <td>-0.359461</td>\n",
              "      <td>0.006001</td>\n",
              "      <td>-0.035646</td>\n",
              "      <td>0.085284</td>\n",
              "      <td>-0.047994</td>\n",
              "      <td>-0.041103</td>\n",
              "      <td>0.091383</td>\n",
              "      <td>2.420659</td>\n",
              "      <td>1</td>\n",
              "      <td>False</td>\n",
              "      <td>True</td>\n",
              "      <td>Normal</td>\n",
              "    </tr>\n",
              "    <tr>\n",
              "      <th>3</th>\n",
              "      <td>-0.249572</td>\n",
              "      <td>-0.380181</td>\n",
              "      <td>-0.363406</td>\n",
              "      <td>-0.164223</td>\n",
              "      <td>-0.281857</td>\n",
              "      <td>-0.233345</td>\n",
              "      <td>-0.053107</td>\n",
              "      <td>-0.296156</td>\n",
              "      <td>-0.249572</td>\n",
              "      <td>2.420615</td>\n",
              "      <td>1</td>\n",
              "      <td>False</td>\n",
              "      <td>True</td>\n",
              "      <td>Normal</td>\n",
              "    </tr>\n",
              "    <tr>\n",
              "      <th>4</th>\n",
              "      <td>1.308591</td>\n",
              "      <td>-0.372799</td>\n",
              "      <td>-0.359629</td>\n",
              "      <td>0.528413</td>\n",
              "      <td>1.018069</td>\n",
              "      <td>0.871613</td>\n",
              "      <td>0.008384</td>\n",
              "      <td>0.970252</td>\n",
              "      <td>1.308591</td>\n",
              "      <td>2.420659</td>\n",
              "      <td>1</td>\n",
              "      <td>False</td>\n",
              "      <td>True</td>\n",
              "      <td>Normal</td>\n",
              "    </tr>\n",
              "    <tr>\n",
              "      <th>...</th>\n",
              "      <td>...</td>\n",
              "      <td>...</td>\n",
              "      <td>...</td>\n",
              "      <td>...</td>\n",
              "      <td>...</td>\n",
              "      <td>...</td>\n",
              "      <td>...</td>\n",
              "      <td>...</td>\n",
              "      <td>...</td>\n",
              "      <td>...</td>\n",
              "      <td>...</td>\n",
              "      <td>...</td>\n",
              "      <td>...</td>\n",
              "      <td>...</td>\n",
              "    </tr>\n",
              "    <tr>\n",
              "      <th>205162</th>\n",
              "      <td>-0.232329</td>\n",
              "      <td>-0.369667</td>\n",
              "      <td>-0.323059</td>\n",
              "      <td>-0.158086</td>\n",
              "      <td>-0.269257</td>\n",
              "      <td>-0.217665</td>\n",
              "      <td>-0.053094</td>\n",
              "      <td>-0.281918</td>\n",
              "      <td>-0.232329</td>\n",
              "      <td>-0.415265</td>\n",
              "      <td>0</td>\n",
              "      <td>True</td>\n",
              "      <td>False</td>\n",
              "      <td>Abnormal</td>\n",
              "    </tr>\n",
              "    <tr>\n",
              "      <th>205163</th>\n",
              "      <td>-0.242182</td>\n",
              "      <td>-0.369778</td>\n",
              "      <td>-0.350099</td>\n",
              "      <td>-0.153017</td>\n",
              "      <td>-0.244059</td>\n",
              "      <td>-0.204767</td>\n",
              "      <td>-0.053066</td>\n",
              "      <td>-0.257822</td>\n",
              "      <td>-0.242182</td>\n",
              "      <td>-0.415265</td>\n",
              "      <td>0</td>\n",
              "      <td>True</td>\n",
              "      <td>False</td>\n",
              "      <td>Abnormal</td>\n",
              "    </tr>\n",
              "    <tr>\n",
              "      <th>205164</th>\n",
              "      <td>-0.222583</td>\n",
              "      <td>-0.378771</td>\n",
              "      <td>-0.360701</td>\n",
              "      <td>-0.156219</td>\n",
              "      <td>-0.248989</td>\n",
              "      <td>-0.208679</td>\n",
              "      <td>-0.053076</td>\n",
              "      <td>-0.262389</td>\n",
              "      <td>-0.222583</td>\n",
              "      <td>-0.408592</td>\n",
              "      <td>0</td>\n",
              "      <td>True</td>\n",
              "      <td>False</td>\n",
              "      <td>Abnormal</td>\n",
              "    </tr>\n",
              "    <tr>\n",
              "      <th>205165</th>\n",
              "      <td>-0.232329</td>\n",
              "      <td>-0.369617</td>\n",
              "      <td>-0.322867</td>\n",
              "      <td>-0.158086</td>\n",
              "      <td>-0.269257</td>\n",
              "      <td>-0.217665</td>\n",
              "      <td>-0.053094</td>\n",
              "      <td>-0.281918</td>\n",
              "      <td>-0.232329</td>\n",
              "      <td>-0.415265</td>\n",
              "      <td>0</td>\n",
              "      <td>True</td>\n",
              "      <td>False</td>\n",
              "      <td>Abnormal</td>\n",
              "    </tr>\n",
              "    <tr>\n",
              "      <th>205166</th>\n",
              "      <td>-0.242182</td>\n",
              "      <td>-0.369685</td>\n",
              "      <td>-0.349981</td>\n",
              "      <td>-0.156219</td>\n",
              "      <td>-0.251102</td>\n",
              "      <td>-0.211002</td>\n",
              "      <td>-0.053082</td>\n",
              "      <td>-0.264965</td>\n",
              "      <td>-0.242182</td>\n",
              "      <td>-0.415265</td>\n",
              "      <td>0</td>\n",
              "      <td>True</td>\n",
              "      <td>False</td>\n",
              "      <td>Abnormal</td>\n",
              "    </tr>\n",
              "  </tbody>\n",
              "</table>\n",
              "<p>205167 rows × 14 columns</p>\n",
              "</div>\n",
              "    <div class=\"colab-df-buttons\">\n",
              "\n",
              "  <div class=\"colab-df-container\">\n",
              "    <button class=\"colab-df-convert\" onclick=\"convertToInteractive('df-2ff45ba4-04dc-4f48-9e86-d07301e5f00d')\"\n",
              "            title=\"Convert this dataframe to an interactive table.\"\n",
              "            style=\"display:none;\">\n",
              "\n",
              "  <svg xmlns=\"http://www.w3.org/2000/svg\" height=\"24px\" viewBox=\"0 -960 960 960\">\n",
              "    <path d=\"M120-120v-720h720v720H120Zm60-500h600v-160H180v160Zm220 220h160v-160H400v160Zm0 220h160v-160H400v160ZM180-400h160v-160H180v160Zm440 0h160v-160H620v160ZM180-180h160v-160H180v160Zm440 0h160v-160H620v160Z\"/>\n",
              "  </svg>\n",
              "    </button>\n",
              "\n",
              "  <style>\n",
              "    .colab-df-container {\n",
              "      display:flex;\n",
              "      gap: 12px;\n",
              "    }\n",
              "\n",
              "    .colab-df-convert {\n",
              "      background-color: #E8F0FE;\n",
              "      border: none;\n",
              "      border-radius: 50%;\n",
              "      cursor: pointer;\n",
              "      display: none;\n",
              "      fill: #1967D2;\n",
              "      height: 32px;\n",
              "      padding: 0 0 0 0;\n",
              "      width: 32px;\n",
              "    }\n",
              "\n",
              "    .colab-df-convert:hover {\n",
              "      background-color: #E2EBFA;\n",
              "      box-shadow: 0px 1px 2px rgba(60, 64, 67, 0.3), 0px 1px 3px 1px rgba(60, 64, 67, 0.15);\n",
              "      fill: #174EA6;\n",
              "    }\n",
              "\n",
              "    .colab-df-buttons div {\n",
              "      margin-bottom: 4px;\n",
              "    }\n",
              "\n",
              "    [theme=dark] .colab-df-convert {\n",
              "      background-color: #3B4455;\n",
              "      fill: #D2E3FC;\n",
              "    }\n",
              "\n",
              "    [theme=dark] .colab-df-convert:hover {\n",
              "      background-color: #434B5C;\n",
              "      box-shadow: 0px 1px 3px 1px rgba(0, 0, 0, 0.15);\n",
              "      filter: drop-shadow(0px 1px 2px rgba(0, 0, 0, 0.3));\n",
              "      fill: #FFFFFF;\n",
              "    }\n",
              "  </style>\n",
              "\n",
              "    <script>\n",
              "      const buttonEl =\n",
              "        document.querySelector('#df-2ff45ba4-04dc-4f48-9e86-d07301e5f00d button.colab-df-convert');\n",
              "      buttonEl.style.display =\n",
              "        google.colab.kernel.accessAllowed ? 'block' : 'none';\n",
              "\n",
              "      async function convertToInteractive(key) {\n",
              "        const element = document.querySelector('#df-2ff45ba4-04dc-4f48-9e86-d07301e5f00d');\n",
              "        const dataTable =\n",
              "          await google.colab.kernel.invokeFunction('convertToInteractive',\n",
              "                                                    [key], {});\n",
              "        if (!dataTable) return;\n",
              "\n",
              "        const docLinkHtml = 'Like what you see? Visit the ' +\n",
              "          '<a target=\"_blank\" href=https://colab.research.google.com/notebooks/data_table.ipynb>data table notebook</a>'\n",
              "          + ' to learn more about interactive tables.';\n",
              "        element.innerHTML = '';\n",
              "        dataTable['output_type'] = 'display_data';\n",
              "        await google.colab.output.renderOutput(dataTable, element);\n",
              "        const docLink = document.createElement('div');\n",
              "        docLink.innerHTML = docLinkHtml;\n",
              "        element.appendChild(docLink);\n",
              "      }\n",
              "    </script>\n",
              "  </div>\n",
              "\n",
              "\n",
              "<div id=\"df-b3356daf-5165-4684-98d8-f7986758678c\">\n",
              "  <button class=\"colab-df-quickchart\" onclick=\"quickchart('df-b3356daf-5165-4684-98d8-f7986758678c')\"\n",
              "            title=\"Suggest charts\"\n",
              "            style=\"display:none;\">\n",
              "\n",
              "<svg xmlns=\"http://www.w3.org/2000/svg\" height=\"24px\"viewBox=\"0 0 24 24\"\n",
              "     width=\"24px\">\n",
              "    <g>\n",
              "        <path d=\"M19 3H5c-1.1 0-2 .9-2 2v14c0 1.1.9 2 2 2h14c1.1 0 2-.9 2-2V5c0-1.1-.9-2-2-2zM9 17H7v-7h2v7zm4 0h-2V7h2v10zm4 0h-2v-4h2v4z\"/>\n",
              "    </g>\n",
              "</svg>\n",
              "  </button>\n",
              "\n",
              "<style>\n",
              "  .colab-df-quickchart {\n",
              "      --bg-color: #E8F0FE;\n",
              "      --fill-color: #1967D2;\n",
              "      --hover-bg-color: #E2EBFA;\n",
              "      --hover-fill-color: #174EA6;\n",
              "      --disabled-fill-color: #AAA;\n",
              "      --disabled-bg-color: #DDD;\n",
              "  }\n",
              "\n",
              "  [theme=dark] .colab-df-quickchart {\n",
              "      --bg-color: #3B4455;\n",
              "      --fill-color: #D2E3FC;\n",
              "      --hover-bg-color: #434B5C;\n",
              "      --hover-fill-color: #FFFFFF;\n",
              "      --disabled-bg-color: #3B4455;\n",
              "      --disabled-fill-color: #666;\n",
              "  }\n",
              "\n",
              "  .colab-df-quickchart {\n",
              "    background-color: var(--bg-color);\n",
              "    border: none;\n",
              "    border-radius: 50%;\n",
              "    cursor: pointer;\n",
              "    display: none;\n",
              "    fill: var(--fill-color);\n",
              "    height: 32px;\n",
              "    padding: 0;\n",
              "    width: 32px;\n",
              "  }\n",
              "\n",
              "  .colab-df-quickchart:hover {\n",
              "    background-color: var(--hover-bg-color);\n",
              "    box-shadow: 0 1px 2px rgba(60, 64, 67, 0.3), 0 1px 3px 1px rgba(60, 64, 67, 0.15);\n",
              "    fill: var(--button-hover-fill-color);\n",
              "  }\n",
              "\n",
              "  .colab-df-quickchart-complete:disabled,\n",
              "  .colab-df-quickchart-complete:disabled:hover {\n",
              "    background-color: var(--disabled-bg-color);\n",
              "    fill: var(--disabled-fill-color);\n",
              "    box-shadow: none;\n",
              "  }\n",
              "\n",
              "  .colab-df-spinner {\n",
              "    border: 2px solid var(--fill-color);\n",
              "    border-color: transparent;\n",
              "    border-bottom-color: var(--fill-color);\n",
              "    animation:\n",
              "      spin 1s steps(1) infinite;\n",
              "  }\n",
              "\n",
              "  @keyframes spin {\n",
              "    0% {\n",
              "      border-color: transparent;\n",
              "      border-bottom-color: var(--fill-color);\n",
              "      border-left-color: var(--fill-color);\n",
              "    }\n",
              "    20% {\n",
              "      border-color: transparent;\n",
              "      border-left-color: var(--fill-color);\n",
              "      border-top-color: var(--fill-color);\n",
              "    }\n",
              "    30% {\n",
              "      border-color: transparent;\n",
              "      border-left-color: var(--fill-color);\n",
              "      border-top-color: var(--fill-color);\n",
              "      border-right-color: var(--fill-color);\n",
              "    }\n",
              "    40% {\n",
              "      border-color: transparent;\n",
              "      border-right-color: var(--fill-color);\n",
              "      border-top-color: var(--fill-color);\n",
              "    }\n",
              "    60% {\n",
              "      border-color: transparent;\n",
              "      border-right-color: var(--fill-color);\n",
              "    }\n",
              "    80% {\n",
              "      border-color: transparent;\n",
              "      border-right-color: var(--fill-color);\n",
              "      border-bottom-color: var(--fill-color);\n",
              "    }\n",
              "    90% {\n",
              "      border-color: transparent;\n",
              "      border-bottom-color: var(--fill-color);\n",
              "    }\n",
              "  }\n",
              "</style>\n",
              "\n",
              "  <script>\n",
              "    async function quickchart(key) {\n",
              "      const quickchartButtonEl =\n",
              "        document.querySelector('#' + key + ' button');\n",
              "      quickchartButtonEl.disabled = true;  // To prevent multiple clicks.\n",
              "      quickchartButtonEl.classList.add('colab-df-spinner');\n",
              "      try {\n",
              "        const charts = await google.colab.kernel.invokeFunction(\n",
              "            'suggestCharts', [key], {});\n",
              "      } catch (error) {\n",
              "        console.error('Error during call to suggestCharts:', error);\n",
              "      }\n",
              "      quickchartButtonEl.classList.remove('colab-df-spinner');\n",
              "      quickchartButtonEl.classList.add('colab-df-quickchart-complete');\n",
              "    }\n",
              "    (() => {\n",
              "      let quickchartButtonEl =\n",
              "        document.querySelector('#df-b3356daf-5165-4684-98d8-f7986758678c button');\n",
              "      quickchartButtonEl.style.display =\n",
              "        google.colab.kernel.accessAllowed ? 'block' : 'none';\n",
              "    })();\n",
              "  </script>\n",
              "</div>\n",
              "\n",
              "  <div id=\"id_992042d5-2107-445f-a518-423d00aa06c6\">\n",
              "    <style>\n",
              "      .colab-df-generate {\n",
              "        background-color: #E8F0FE;\n",
              "        border: none;\n",
              "        border-radius: 50%;\n",
              "        cursor: pointer;\n",
              "        display: none;\n",
              "        fill: #1967D2;\n",
              "        height: 32px;\n",
              "        padding: 0 0 0 0;\n",
              "        width: 32px;\n",
              "      }\n",
              "\n",
              "      .colab-df-generate:hover {\n",
              "        background-color: #E2EBFA;\n",
              "        box-shadow: 0px 1px 2px rgba(60, 64, 67, 0.3), 0px 1px 3px 1px rgba(60, 64, 67, 0.15);\n",
              "        fill: #174EA6;\n",
              "      }\n",
              "\n",
              "      [theme=dark] .colab-df-generate {\n",
              "        background-color: #3B4455;\n",
              "        fill: #D2E3FC;\n",
              "      }\n",
              "\n",
              "      [theme=dark] .colab-df-generate:hover {\n",
              "        background-color: #434B5C;\n",
              "        box-shadow: 0px 1px 3px 1px rgba(0, 0, 0, 0.15);\n",
              "        filter: drop-shadow(0px 1px 2px rgba(0, 0, 0, 0.3));\n",
              "        fill: #FFFFFF;\n",
              "      }\n",
              "    </style>\n",
              "    <button class=\"colab-df-generate\" onclick=\"generateWithVariable('df')\"\n",
              "            title=\"Generate code using this dataframe.\"\n",
              "            style=\"display:none;\">\n",
              "\n",
              "  <svg xmlns=\"http://www.w3.org/2000/svg\" height=\"24px\"viewBox=\"0 0 24 24\"\n",
              "       width=\"24px\">\n",
              "    <path d=\"M7,19H8.4L18.45,9,17,7.55,7,17.6ZM5,21V16.75L18.45,3.32a2,2,0,0,1,2.83,0l1.4,1.43a1.91,1.91,0,0,1,.58,1.4,1.91,1.91,0,0,1-.58,1.4L9.25,21ZM18.45,9,17,7.55Zm-12,3A5.31,5.31,0,0,0,4.9,8.1,5.31,5.31,0,0,0,1,6.5,5.31,5.31,0,0,0,4.9,4.9,5.31,5.31,0,0,0,6.5,1,5.31,5.31,0,0,0,8.1,4.9,5.31,5.31,0,0,0,12,6.5,5.46,5.46,0,0,0,6.5,12Z\"/>\n",
              "  </svg>\n",
              "    </button>\n",
              "    <script>\n",
              "      (() => {\n",
              "      const buttonEl =\n",
              "        document.querySelector('#id_992042d5-2107-445f-a518-423d00aa06c6 button.colab-df-generate');\n",
              "      buttonEl.style.display =\n",
              "        google.colab.kernel.accessAllowed ? 'block' : 'none';\n",
              "\n",
              "      buttonEl.onclick = () => {\n",
              "        google.colab.notebook.generateWithVariable('df');\n",
              "      }\n",
              "      })();\n",
              "    </script>\n",
              "  </div>\n",
              "\n",
              "    </div>\n",
              "  </div>\n"
            ],
            "application/vnd.google.colaboratory.intrinsic+json": {
              "type": "dataframe",
              "variable_name": "df"
            }
          },
          "metadata": {},
          "execution_count": 4
        }
      ]
    },
    {
      "cell_type": "code",
      "source": [
        "X = df.iloc[:,0:10] # dataset excluding target attribute (encoded, one-hot-encoded,original)\n",
        "Y = df[['intrusion']].values # target attribute"
      ],
      "metadata": {
        "id": "dF9vzRzOG50P"
      },
      "id": "dF9vzRzOG50P",
      "execution_count": 5,
      "outputs": []
    },
    {
      "cell_type": "code",
      "source": [
        "X"
      ],
      "metadata": {
        "id": "jU7ExKc1ZA_Q",
        "outputId": "5bd4b2c5-df4e-4732-ed24-191267bbb946",
        "colab": {
          "base_uri": "https://localhost:8080/",
          "height": 444
        }
      },
      "id": "jU7ExKc1ZA_Q",
      "execution_count": 6,
      "outputs": [
        {
          "output_type": "execute_result",
          "data": {
            "text/plain": [
              "        Bwd_Pkt_Len_Mean  Bwd_IAT_Tot  Bwd_IAT_Mean  Pkt_Len_Max  \\\n",
              "0              -0.189354    -0.370661     -0.361533     2.263739   \n",
              "1               6.384897    -0.317948     -0.360179     7.119662   \n",
              "2               0.091383    -0.378125     -0.359461     0.006001   \n",
              "3              -0.249572    -0.380181     -0.363406    -0.164223   \n",
              "4               1.308591    -0.372799     -0.359629     0.528413   \n",
              "...                  ...          ...           ...          ...   \n",
              "205162         -0.232329    -0.369667     -0.323059    -0.158086   \n",
              "205163         -0.242182    -0.369778     -0.350099    -0.153017   \n",
              "205164         -0.222583    -0.378771     -0.360701    -0.156219   \n",
              "205165         -0.232329    -0.369617     -0.322867    -0.158086   \n",
              "205166         -0.242182    -0.369685     -0.349981    -0.156219   \n",
              "\n",
              "        Pkt_Len_Mean  Pkt_Len_Std  Pkt_Len_Var  Pkt_Size_Avg  \\\n",
              "0           4.590637     2.995018     0.471796      4.347100   \n",
              "1           5.353110     4.297869     0.980947      5.031255   \n",
              "2          -0.035646     0.085284    -0.047994     -0.041103   \n",
              "3          -0.281857    -0.233345    -0.053107     -0.296156   \n",
              "4           1.018069     0.871613     0.008384      0.970252   \n",
              "...              ...          ...          ...           ...   \n",
              "205162     -0.269257    -0.217665    -0.053094     -0.281918   \n",
              "205163     -0.244059    -0.204767    -0.053066     -0.257822   \n",
              "205164     -0.248989    -0.208679    -0.053076     -0.262389   \n",
              "205165     -0.269257    -0.217665    -0.053094     -0.281918   \n",
              "205166     -0.251102    -0.211002    -0.053082     -0.264965   \n",
              "\n",
              "        Bwd_Seg_Size_Avg  Init_Bwd_Win_Byts  \n",
              "0              -0.189354           2.477885  \n",
              "1               6.384897           2.420659  \n",
              "2               0.091383           2.420659  \n",
              "3              -0.249572           2.420615  \n",
              "4               1.308591           2.420659  \n",
              "...                  ...                ...  \n",
              "205162         -0.232329          -0.415265  \n",
              "205163         -0.242182          -0.415265  \n",
              "205164         -0.222583          -0.408592  \n",
              "205165         -0.232329          -0.415265  \n",
              "205166         -0.242182          -0.415265  \n",
              "\n",
              "[205167 rows x 10 columns]"
            ],
            "text/html": [
              "\n",
              "  <div id=\"df-db365355-db1a-4d51-9b15-3108cdd42047\" class=\"colab-df-container\">\n",
              "    <div>\n",
              "<style scoped>\n",
              "    .dataframe tbody tr th:only-of-type {\n",
              "        vertical-align: middle;\n",
              "    }\n",
              "\n",
              "    .dataframe tbody tr th {\n",
              "        vertical-align: top;\n",
              "    }\n",
              "\n",
              "    .dataframe thead th {\n",
              "        text-align: right;\n",
              "    }\n",
              "</style>\n",
              "<table border=\"1\" class=\"dataframe\">\n",
              "  <thead>\n",
              "    <tr style=\"text-align: right;\">\n",
              "      <th></th>\n",
              "      <th>Bwd_Pkt_Len_Mean</th>\n",
              "      <th>Bwd_IAT_Tot</th>\n",
              "      <th>Bwd_IAT_Mean</th>\n",
              "      <th>Pkt_Len_Max</th>\n",
              "      <th>Pkt_Len_Mean</th>\n",
              "      <th>Pkt_Len_Std</th>\n",
              "      <th>Pkt_Len_Var</th>\n",
              "      <th>Pkt_Size_Avg</th>\n",
              "      <th>Bwd_Seg_Size_Avg</th>\n",
              "      <th>Init_Bwd_Win_Byts</th>\n",
              "    </tr>\n",
              "  </thead>\n",
              "  <tbody>\n",
              "    <tr>\n",
              "      <th>0</th>\n",
              "      <td>-0.189354</td>\n",
              "      <td>-0.370661</td>\n",
              "      <td>-0.361533</td>\n",
              "      <td>2.263739</td>\n",
              "      <td>4.590637</td>\n",
              "      <td>2.995018</td>\n",
              "      <td>0.471796</td>\n",
              "      <td>4.347100</td>\n",
              "      <td>-0.189354</td>\n",
              "      <td>2.477885</td>\n",
              "    </tr>\n",
              "    <tr>\n",
              "      <th>1</th>\n",
              "      <td>6.384897</td>\n",
              "      <td>-0.317948</td>\n",
              "      <td>-0.360179</td>\n",
              "      <td>7.119662</td>\n",
              "      <td>5.353110</td>\n",
              "      <td>4.297869</td>\n",
              "      <td>0.980947</td>\n",
              "      <td>5.031255</td>\n",
              "      <td>6.384897</td>\n",
              "      <td>2.420659</td>\n",
              "    </tr>\n",
              "    <tr>\n",
              "      <th>2</th>\n",
              "      <td>0.091383</td>\n",
              "      <td>-0.378125</td>\n",
              "      <td>-0.359461</td>\n",
              "      <td>0.006001</td>\n",
              "      <td>-0.035646</td>\n",
              "      <td>0.085284</td>\n",
              "      <td>-0.047994</td>\n",
              "      <td>-0.041103</td>\n",
              "      <td>0.091383</td>\n",
              "      <td>2.420659</td>\n",
              "    </tr>\n",
              "    <tr>\n",
              "      <th>3</th>\n",
              "      <td>-0.249572</td>\n",
              "      <td>-0.380181</td>\n",
              "      <td>-0.363406</td>\n",
              "      <td>-0.164223</td>\n",
              "      <td>-0.281857</td>\n",
              "      <td>-0.233345</td>\n",
              "      <td>-0.053107</td>\n",
              "      <td>-0.296156</td>\n",
              "      <td>-0.249572</td>\n",
              "      <td>2.420615</td>\n",
              "    </tr>\n",
              "    <tr>\n",
              "      <th>4</th>\n",
              "      <td>1.308591</td>\n",
              "      <td>-0.372799</td>\n",
              "      <td>-0.359629</td>\n",
              "      <td>0.528413</td>\n",
              "      <td>1.018069</td>\n",
              "      <td>0.871613</td>\n",
              "      <td>0.008384</td>\n",
              "      <td>0.970252</td>\n",
              "      <td>1.308591</td>\n",
              "      <td>2.420659</td>\n",
              "    </tr>\n",
              "    <tr>\n",
              "      <th>...</th>\n",
              "      <td>...</td>\n",
              "      <td>...</td>\n",
              "      <td>...</td>\n",
              "      <td>...</td>\n",
              "      <td>...</td>\n",
              "      <td>...</td>\n",
              "      <td>...</td>\n",
              "      <td>...</td>\n",
              "      <td>...</td>\n",
              "      <td>...</td>\n",
              "    </tr>\n",
              "    <tr>\n",
              "      <th>205162</th>\n",
              "      <td>-0.232329</td>\n",
              "      <td>-0.369667</td>\n",
              "      <td>-0.323059</td>\n",
              "      <td>-0.158086</td>\n",
              "      <td>-0.269257</td>\n",
              "      <td>-0.217665</td>\n",
              "      <td>-0.053094</td>\n",
              "      <td>-0.281918</td>\n",
              "      <td>-0.232329</td>\n",
              "      <td>-0.415265</td>\n",
              "    </tr>\n",
              "    <tr>\n",
              "      <th>205163</th>\n",
              "      <td>-0.242182</td>\n",
              "      <td>-0.369778</td>\n",
              "      <td>-0.350099</td>\n",
              "      <td>-0.153017</td>\n",
              "      <td>-0.244059</td>\n",
              "      <td>-0.204767</td>\n",
              "      <td>-0.053066</td>\n",
              "      <td>-0.257822</td>\n",
              "      <td>-0.242182</td>\n",
              "      <td>-0.415265</td>\n",
              "    </tr>\n",
              "    <tr>\n",
              "      <th>205164</th>\n",
              "      <td>-0.222583</td>\n",
              "      <td>-0.378771</td>\n",
              "      <td>-0.360701</td>\n",
              "      <td>-0.156219</td>\n",
              "      <td>-0.248989</td>\n",
              "      <td>-0.208679</td>\n",
              "      <td>-0.053076</td>\n",
              "      <td>-0.262389</td>\n",
              "      <td>-0.222583</td>\n",
              "      <td>-0.408592</td>\n",
              "    </tr>\n",
              "    <tr>\n",
              "      <th>205165</th>\n",
              "      <td>-0.232329</td>\n",
              "      <td>-0.369617</td>\n",
              "      <td>-0.322867</td>\n",
              "      <td>-0.158086</td>\n",
              "      <td>-0.269257</td>\n",
              "      <td>-0.217665</td>\n",
              "      <td>-0.053094</td>\n",
              "      <td>-0.281918</td>\n",
              "      <td>-0.232329</td>\n",
              "      <td>-0.415265</td>\n",
              "    </tr>\n",
              "    <tr>\n",
              "      <th>205166</th>\n",
              "      <td>-0.242182</td>\n",
              "      <td>-0.369685</td>\n",
              "      <td>-0.349981</td>\n",
              "      <td>-0.156219</td>\n",
              "      <td>-0.251102</td>\n",
              "      <td>-0.211002</td>\n",
              "      <td>-0.053082</td>\n",
              "      <td>-0.264965</td>\n",
              "      <td>-0.242182</td>\n",
              "      <td>-0.415265</td>\n",
              "    </tr>\n",
              "  </tbody>\n",
              "</table>\n",
              "<p>205167 rows × 10 columns</p>\n",
              "</div>\n",
              "    <div class=\"colab-df-buttons\">\n",
              "\n",
              "  <div class=\"colab-df-container\">\n",
              "    <button class=\"colab-df-convert\" onclick=\"convertToInteractive('df-db365355-db1a-4d51-9b15-3108cdd42047')\"\n",
              "            title=\"Convert this dataframe to an interactive table.\"\n",
              "            style=\"display:none;\">\n",
              "\n",
              "  <svg xmlns=\"http://www.w3.org/2000/svg\" height=\"24px\" viewBox=\"0 -960 960 960\">\n",
              "    <path d=\"M120-120v-720h720v720H120Zm60-500h600v-160H180v160Zm220 220h160v-160H400v160Zm0 220h160v-160H400v160ZM180-400h160v-160H180v160Zm440 0h160v-160H620v160ZM180-180h160v-160H180v160Zm440 0h160v-160H620v160Z\"/>\n",
              "  </svg>\n",
              "    </button>\n",
              "\n",
              "  <style>\n",
              "    .colab-df-container {\n",
              "      display:flex;\n",
              "      gap: 12px;\n",
              "    }\n",
              "\n",
              "    .colab-df-convert {\n",
              "      background-color: #E8F0FE;\n",
              "      border: none;\n",
              "      border-radius: 50%;\n",
              "      cursor: pointer;\n",
              "      display: none;\n",
              "      fill: #1967D2;\n",
              "      height: 32px;\n",
              "      padding: 0 0 0 0;\n",
              "      width: 32px;\n",
              "    }\n",
              "\n",
              "    .colab-df-convert:hover {\n",
              "      background-color: #E2EBFA;\n",
              "      box-shadow: 0px 1px 2px rgba(60, 64, 67, 0.3), 0px 1px 3px 1px rgba(60, 64, 67, 0.15);\n",
              "      fill: #174EA6;\n",
              "    }\n",
              "\n",
              "    .colab-df-buttons div {\n",
              "      margin-bottom: 4px;\n",
              "    }\n",
              "\n",
              "    [theme=dark] .colab-df-convert {\n",
              "      background-color: #3B4455;\n",
              "      fill: #D2E3FC;\n",
              "    }\n",
              "\n",
              "    [theme=dark] .colab-df-convert:hover {\n",
              "      background-color: #434B5C;\n",
              "      box-shadow: 0px 1px 3px 1px rgba(0, 0, 0, 0.15);\n",
              "      filter: drop-shadow(0px 1px 2px rgba(0, 0, 0, 0.3));\n",
              "      fill: #FFFFFF;\n",
              "    }\n",
              "  </style>\n",
              "\n",
              "    <script>\n",
              "      const buttonEl =\n",
              "        document.querySelector('#df-db365355-db1a-4d51-9b15-3108cdd42047 button.colab-df-convert');\n",
              "      buttonEl.style.display =\n",
              "        google.colab.kernel.accessAllowed ? 'block' : 'none';\n",
              "\n",
              "      async function convertToInteractive(key) {\n",
              "        const element = document.querySelector('#df-db365355-db1a-4d51-9b15-3108cdd42047');\n",
              "        const dataTable =\n",
              "          await google.colab.kernel.invokeFunction('convertToInteractive',\n",
              "                                                    [key], {});\n",
              "        if (!dataTable) return;\n",
              "\n",
              "        const docLinkHtml = 'Like what you see? Visit the ' +\n",
              "          '<a target=\"_blank\" href=https://colab.research.google.com/notebooks/data_table.ipynb>data table notebook</a>'\n",
              "          + ' to learn more about interactive tables.';\n",
              "        element.innerHTML = '';\n",
              "        dataTable['output_type'] = 'display_data';\n",
              "        await google.colab.output.renderOutput(dataTable, element);\n",
              "        const docLink = document.createElement('div');\n",
              "        docLink.innerHTML = docLinkHtml;\n",
              "        element.appendChild(docLink);\n",
              "      }\n",
              "    </script>\n",
              "  </div>\n",
              "\n",
              "\n",
              "<div id=\"df-665e11ee-0570-48c4-9c9c-9514ea4a4c17\">\n",
              "  <button class=\"colab-df-quickchart\" onclick=\"quickchart('df-665e11ee-0570-48c4-9c9c-9514ea4a4c17')\"\n",
              "            title=\"Suggest charts\"\n",
              "            style=\"display:none;\">\n",
              "\n",
              "<svg xmlns=\"http://www.w3.org/2000/svg\" height=\"24px\"viewBox=\"0 0 24 24\"\n",
              "     width=\"24px\">\n",
              "    <g>\n",
              "        <path d=\"M19 3H5c-1.1 0-2 .9-2 2v14c0 1.1.9 2 2 2h14c1.1 0 2-.9 2-2V5c0-1.1-.9-2-2-2zM9 17H7v-7h2v7zm4 0h-2V7h2v10zm4 0h-2v-4h2v4z\"/>\n",
              "    </g>\n",
              "</svg>\n",
              "  </button>\n",
              "\n",
              "<style>\n",
              "  .colab-df-quickchart {\n",
              "      --bg-color: #E8F0FE;\n",
              "      --fill-color: #1967D2;\n",
              "      --hover-bg-color: #E2EBFA;\n",
              "      --hover-fill-color: #174EA6;\n",
              "      --disabled-fill-color: #AAA;\n",
              "      --disabled-bg-color: #DDD;\n",
              "  }\n",
              "\n",
              "  [theme=dark] .colab-df-quickchart {\n",
              "      --bg-color: #3B4455;\n",
              "      --fill-color: #D2E3FC;\n",
              "      --hover-bg-color: #434B5C;\n",
              "      --hover-fill-color: #FFFFFF;\n",
              "      --disabled-bg-color: #3B4455;\n",
              "      --disabled-fill-color: #666;\n",
              "  }\n",
              "\n",
              "  .colab-df-quickchart {\n",
              "    background-color: var(--bg-color);\n",
              "    border: none;\n",
              "    border-radius: 50%;\n",
              "    cursor: pointer;\n",
              "    display: none;\n",
              "    fill: var(--fill-color);\n",
              "    height: 32px;\n",
              "    padding: 0;\n",
              "    width: 32px;\n",
              "  }\n",
              "\n",
              "  .colab-df-quickchart:hover {\n",
              "    background-color: var(--hover-bg-color);\n",
              "    box-shadow: 0 1px 2px rgba(60, 64, 67, 0.3), 0 1px 3px 1px rgba(60, 64, 67, 0.15);\n",
              "    fill: var(--button-hover-fill-color);\n",
              "  }\n",
              "\n",
              "  .colab-df-quickchart-complete:disabled,\n",
              "  .colab-df-quickchart-complete:disabled:hover {\n",
              "    background-color: var(--disabled-bg-color);\n",
              "    fill: var(--disabled-fill-color);\n",
              "    box-shadow: none;\n",
              "  }\n",
              "\n",
              "  .colab-df-spinner {\n",
              "    border: 2px solid var(--fill-color);\n",
              "    border-color: transparent;\n",
              "    border-bottom-color: var(--fill-color);\n",
              "    animation:\n",
              "      spin 1s steps(1) infinite;\n",
              "  }\n",
              "\n",
              "  @keyframes spin {\n",
              "    0% {\n",
              "      border-color: transparent;\n",
              "      border-bottom-color: var(--fill-color);\n",
              "      border-left-color: var(--fill-color);\n",
              "    }\n",
              "    20% {\n",
              "      border-color: transparent;\n",
              "      border-left-color: var(--fill-color);\n",
              "      border-top-color: var(--fill-color);\n",
              "    }\n",
              "    30% {\n",
              "      border-color: transparent;\n",
              "      border-left-color: var(--fill-color);\n",
              "      border-top-color: var(--fill-color);\n",
              "      border-right-color: var(--fill-color);\n",
              "    }\n",
              "    40% {\n",
              "      border-color: transparent;\n",
              "      border-right-color: var(--fill-color);\n",
              "      border-top-color: var(--fill-color);\n",
              "    }\n",
              "    60% {\n",
              "      border-color: transparent;\n",
              "      border-right-color: var(--fill-color);\n",
              "    }\n",
              "    80% {\n",
              "      border-color: transparent;\n",
              "      border-right-color: var(--fill-color);\n",
              "      border-bottom-color: var(--fill-color);\n",
              "    }\n",
              "    90% {\n",
              "      border-color: transparent;\n",
              "      border-bottom-color: var(--fill-color);\n",
              "    }\n",
              "  }\n",
              "</style>\n",
              "\n",
              "  <script>\n",
              "    async function quickchart(key) {\n",
              "      const quickchartButtonEl =\n",
              "        document.querySelector('#' + key + ' button');\n",
              "      quickchartButtonEl.disabled = true;  // To prevent multiple clicks.\n",
              "      quickchartButtonEl.classList.add('colab-df-spinner');\n",
              "      try {\n",
              "        const charts = await google.colab.kernel.invokeFunction(\n",
              "            'suggestCharts', [key], {});\n",
              "      } catch (error) {\n",
              "        console.error('Error during call to suggestCharts:', error);\n",
              "      }\n",
              "      quickchartButtonEl.classList.remove('colab-df-spinner');\n",
              "      quickchartButtonEl.classList.add('colab-df-quickchart-complete');\n",
              "    }\n",
              "    (() => {\n",
              "      let quickchartButtonEl =\n",
              "        document.querySelector('#df-665e11ee-0570-48c4-9c9c-9514ea4a4c17 button');\n",
              "      quickchartButtonEl.style.display =\n",
              "        google.colab.kernel.accessAllowed ? 'block' : 'none';\n",
              "    })();\n",
              "  </script>\n",
              "</div>\n",
              "\n",
              "  <div id=\"id_0530c9fa-6210-4b8e-892a-2b77d3a483d0\">\n",
              "    <style>\n",
              "      .colab-df-generate {\n",
              "        background-color: #E8F0FE;\n",
              "        border: none;\n",
              "        border-radius: 50%;\n",
              "        cursor: pointer;\n",
              "        display: none;\n",
              "        fill: #1967D2;\n",
              "        height: 32px;\n",
              "        padding: 0 0 0 0;\n",
              "        width: 32px;\n",
              "      }\n",
              "\n",
              "      .colab-df-generate:hover {\n",
              "        background-color: #E2EBFA;\n",
              "        box-shadow: 0px 1px 2px rgba(60, 64, 67, 0.3), 0px 1px 3px 1px rgba(60, 64, 67, 0.15);\n",
              "        fill: #174EA6;\n",
              "      }\n",
              "\n",
              "      [theme=dark] .colab-df-generate {\n",
              "        background-color: #3B4455;\n",
              "        fill: #D2E3FC;\n",
              "      }\n",
              "\n",
              "      [theme=dark] .colab-df-generate:hover {\n",
              "        background-color: #434B5C;\n",
              "        box-shadow: 0px 1px 3px 1px rgba(0, 0, 0, 0.15);\n",
              "        filter: drop-shadow(0px 1px 2px rgba(0, 0, 0, 0.3));\n",
              "        fill: #FFFFFF;\n",
              "      }\n",
              "    </style>\n",
              "    <button class=\"colab-df-generate\" onclick=\"generateWithVariable('X')\"\n",
              "            title=\"Generate code using this dataframe.\"\n",
              "            style=\"display:none;\">\n",
              "\n",
              "  <svg xmlns=\"http://www.w3.org/2000/svg\" height=\"24px\"viewBox=\"0 0 24 24\"\n",
              "       width=\"24px\">\n",
              "    <path d=\"M7,19H8.4L18.45,9,17,7.55,7,17.6ZM5,21V16.75L18.45,3.32a2,2,0,0,1,2.83,0l1.4,1.43a1.91,1.91,0,0,1,.58,1.4,1.91,1.91,0,0,1-.58,1.4L9.25,21ZM18.45,9,17,7.55Zm-12,3A5.31,5.31,0,0,0,4.9,8.1,5.31,5.31,0,0,0,1,6.5,5.31,5.31,0,0,0,4.9,4.9,5.31,5.31,0,0,0,6.5,1,5.31,5.31,0,0,0,8.1,4.9,5.31,5.31,0,0,0,12,6.5,5.46,5.46,0,0,0,6.5,12Z\"/>\n",
              "  </svg>\n",
              "    </button>\n",
              "    <script>\n",
              "      (() => {\n",
              "      const buttonEl =\n",
              "        document.querySelector('#id_0530c9fa-6210-4b8e-892a-2b77d3a483d0 button.colab-df-generate');\n",
              "      buttonEl.style.display =\n",
              "        google.colab.kernel.accessAllowed ? 'block' : 'none';\n",
              "\n",
              "      buttonEl.onclick = () => {\n",
              "        google.colab.notebook.generateWithVariable('X');\n",
              "      }\n",
              "      })();\n",
              "    </script>\n",
              "  </div>\n",
              "\n",
              "    </div>\n",
              "  </div>\n"
            ],
            "application/vnd.google.colaboratory.intrinsic+json": {
              "type": "dataframe",
              "variable_name": "X"
            }
          },
          "metadata": {},
          "execution_count": 6
        }
      ]
    },
    {
      "cell_type": "code",
      "source": [
        "from sklearn.metrics import accuracy_score # for calculating accuracy of model\n",
        "from sklearn.model_selection import train_test_split # for splitting the dataset for training and testing\n",
        "from sklearn.metrics import classification_report # for generating a classification report of model\n",
        "import pickle # saving and loading trained model\n",
        "from os import path\n",
        "\n",
        "# splitting the dataset 75% for training and 25% testing\n",
        "X_train, X_test, y_train, y_test = train_test_split(X,Y, test_size=0.25, random_state=42)"
      ],
      "metadata": {
        "id": "AZJq40IUHeM_"
      },
      "id": "AZJq40IUHeM_",
      "execution_count": 7,
      "outputs": []
    },
    {
      "cell_type": "code",
      "source": [
        "X_train = X_train.values"
      ],
      "metadata": {
        "id": "BAQ3FwVEHyOG"
      },
      "id": "BAQ3FwVEHyOG",
      "execution_count": 8,
      "outputs": []
    },
    {
      "cell_type": "code",
      "source": [
        "y_train=np.array(y_train)"
      ],
      "metadata": {
        "id": "qsw09DmcIUHH"
      },
      "id": "qsw09DmcIUHH",
      "execution_count": 9,
      "outputs": []
    },
    {
      "cell_type": "code",
      "source": [
        "x_train = np.reshape(X_train,(X_train.shape[0],1,X_train.shape[1]))"
      ],
      "metadata": {
        "id": "LG16FzNlIWy6"
      },
      "id": "LG16FzNlIWy6",
      "execution_count": 10,
      "outputs": []
    },
    {
      "cell_type": "code",
      "source": [
        "x_train.shape"
      ],
      "metadata": {
        "colab": {
          "base_uri": "https://localhost:8080/"
        },
        "id": "LbSljuorR6xh",
        "outputId": "373f5dad-1a25-4fdc-f0b0-148b11489b81"
      },
      "id": "LbSljuorR6xh",
      "execution_count": 11,
      "outputs": [
        {
          "output_type": "execute_result",
          "data": {
            "text/plain": [
              "(153875, 1, 10)"
            ]
          },
          "metadata": {},
          "execution_count": 11
        }
      ]
    },
    {
      "cell_type": "code",
      "source": [],
      "metadata": {
        "id": "9oT2F5E4O4_Y"
      },
      "id": "9oT2F5E4O4_Y",
      "execution_count": null,
      "outputs": []
    },
    {
      "cell_type": "markdown",
      "source": [
        "# LSTM model defining\n",
        "first ko pailako save garya model\n",
        "\n",
        "second ko chai naya layer add garera activation ma softmax used.\n",
        "\n",
        "third ko ma similar to second tara activation ma chai sigmoid nai use.\n",
        "\n"
      ],
      "metadata": {
        "id": "2iFGHhySky5C"
      },
      "id": "2iFGHhySky5C"
    },
    {
      "cell_type": "code",
      "source": [
        "#lst = Sequential() # initializing model\n",
        "\n",
        "# FIRST ONEEE 99% accuracy\n",
        "\n",
        "# input layer and LSTM layer with 50 neurons\n",
        "#lst.add(LSTM(units=50,input_dim=10))\n",
        " #output layer with sigmoid activation\n",
        "#lst.add(Dense(1, activation='sigmoid'))\n",
        "\n",
        "# SECOND ONE 50%\n",
        "\n",
        "#lst.add(LSTM(units=50, return_sequences=True, input_dim=10))\n",
        "#lst.add(Dropout(0.2))\n",
        "#lst.add(LSTM(units=50, return_sequences=True))\n",
        "#lst.add(Dropout(0.2))\n",
        "#lst.add(LSTM(units=50))\n",
        "#lst.add(Dropout(0.2))\n",
        "#lst.add(Dense(1, activation='softmax')) <-------- esma activation function change garera accuracy ghatna sakya huna sakcha\n",
        "\n",
        "# THIRD ONE ~99%\n",
        "\n",
        "lst = Sequential([LSTM(128, input_dim=10, return_sequences=True),LSTM(128,return_sequences=True),LSTM(128),Dropout(0.2),Dense(1, activation='sigmoid')])\n"
      ],
      "metadata": {
        "id": "TaqFEksoIZ2Z"
      },
      "id": "TaqFEksoIZ2Z",
      "execution_count": 13,
      "outputs": []
    },
    {
      "cell_type": "code",
      "source": [
        "# defining loss function, optimizer, metrics and then compiling model\n",
        "lst.compile(loss='binary_crossentropy',optimizer='adam',metrics=['accuracy'])"
      ],
      "metadata": {
        "id": "AB2oCiKbIekk"
      },
      "id": "AB2oCiKbIekk",
      "execution_count": 14,
      "outputs": []
    },
    {
      "cell_type": "code",
      "source": [
        "# summary of model layers\n",
        "lst.summary()"
      ],
      "metadata": {
        "colab": {
          "base_uri": "https://localhost:8080/"
        },
        "id": "evNJ957TIh9r",
        "outputId": "cfa970ec-7ad2-4ede-c6bb-f4130fe55845"
      },
      "id": "evNJ957TIh9r",
      "execution_count": 15,
      "outputs": [
        {
          "output_type": "stream",
          "name": "stdout",
          "text": [
            "Model: \"sequential\"\n",
            "_________________________________________________________________\n",
            " Layer (type)                Output Shape              Param #   \n",
            "=================================================================\n",
            " lstm (LSTM)                 (None, None, 128)         71168     \n",
            "                                                                 \n",
            " lstm_1 (LSTM)               (None, None, 128)         131584    \n",
            "                                                                 \n",
            " lstm_2 (LSTM)               (None, 128)               131584    \n",
            "                                                                 \n",
            " dropout (Dropout)           (None, 128)               0         \n",
            "                                                                 \n",
            " dense (Dense)               (None, 1)                 129       \n",
            "                                                                 \n",
            "=================================================================\n",
            "Total params: 334465 (1.28 MB)\n",
            "Trainable params: 334465 (1.28 MB)\n",
            "Non-trainable params: 0 (0.00 Byte)\n",
            "_________________________________________________________________\n"
          ]
        }
      ]
    },
    {
      "cell_type": "code",
      "source": [
        "# training the model on training dataset\n",
        "history = lst.fit(x_train, y_train, epochs=100, batch_size=16,validation_split=0.2)"
      ],
      "metadata": {
        "colab": {
          "base_uri": "https://localhost:8080/"
        },
        "id": "pKtSteIVImY0",
        "outputId": "7cc652d6-9218-47f7-bb80-e4f9a2ed4979"
      },
      "id": "pKtSteIVImY0",
      "execution_count": 16,
      "outputs": [
        {
          "output_type": "stream",
          "name": "stdout",
          "text": [
            "Epoch 1/100\n",
            "7694/7694 [==============================] - 77s 9ms/step - loss: 0.0385 - accuracy: 0.9913 - val_loss: 0.0354 - val_accuracy: 0.9921\n",
            "Epoch 2/100\n",
            "7694/7694 [==============================] - 67s 9ms/step - loss: 0.0329 - accuracy: 0.9934 - val_loss: 0.0392 - val_accuracy: 0.9923\n",
            "Epoch 3/100\n",
            "7694/7694 [==============================] - 68s 9ms/step - loss: 0.0318 - accuracy: 0.9935 - val_loss: 0.0324 - val_accuracy: 0.9928\n",
            "Epoch 4/100\n",
            "7694/7694 [==============================] - 68s 9ms/step - loss: 0.0303 - accuracy: 0.9936 - val_loss: 0.0302 - val_accuracy: 0.9924\n",
            "Epoch 5/100\n",
            "7694/7694 [==============================] - 70s 9ms/step - loss: 0.0289 - accuracy: 0.9938 - val_loss: 0.0287 - val_accuracy: 0.9928\n",
            "Epoch 6/100\n",
            "7694/7694 [==============================] - 69s 9ms/step - loss: 0.0270 - accuracy: 0.9940 - val_loss: 0.0290 - val_accuracy: 0.9941\n",
            "Epoch 7/100\n",
            "7694/7694 [==============================] - 66s 9ms/step - loss: 0.0251 - accuracy: 0.9943 - val_loss: 0.0228 - val_accuracy: 0.9948\n",
            "Epoch 8/100\n",
            "7694/7694 [==============================] - 65s 8ms/step - loss: 0.0233 - accuracy: 0.9950 - val_loss: 0.0400 - val_accuracy: 0.9926\n",
            "Epoch 9/100\n",
            "7694/7694 [==============================] - 69s 9ms/step - loss: 0.0221 - accuracy: 0.9953 - val_loss: 0.0278 - val_accuracy: 0.9946\n",
            "Epoch 10/100\n",
            "7694/7694 [==============================] - 67s 9ms/step - loss: 0.0226 - accuracy: 0.9952 - val_loss: 0.0217 - val_accuracy: 0.9949\n",
            "Epoch 11/100\n",
            "7694/7694 [==============================] - 67s 9ms/step - loss: 0.0208 - accuracy: 0.9957 - val_loss: 0.0178 - val_accuracy: 0.9968\n",
            "Epoch 12/100\n",
            "7694/7694 [==============================] - 67s 9ms/step - loss: 0.0204 - accuracy: 0.9956 - val_loss: 0.0178 - val_accuracy: 0.9968\n",
            "Epoch 13/100\n",
            "7694/7694 [==============================] - 66s 9ms/step - loss: 0.0224 - accuracy: 0.9955 - val_loss: 0.0200 - val_accuracy: 0.9970\n",
            "Epoch 14/100\n",
            "7694/7694 [==============================] - 68s 9ms/step - loss: 0.0205 - accuracy: 0.9957 - val_loss: 0.0273 - val_accuracy: 0.9946\n",
            "Epoch 15/100\n",
            "7694/7694 [==============================] - 65s 9ms/step - loss: 0.0204 - accuracy: 0.9957 - val_loss: 0.0229 - val_accuracy: 0.9949\n",
            "Epoch 16/100\n",
            "7694/7694 [==============================] - 66s 9ms/step - loss: 0.0197 - accuracy: 0.9959 - val_loss: 0.0170 - val_accuracy: 0.9963\n",
            "Epoch 17/100\n",
            "7694/7694 [==============================] - 66s 9ms/step - loss: 0.0195 - accuracy: 0.9961 - val_loss: 0.0206 - val_accuracy: 0.9951\n",
            "Epoch 18/100\n",
            "7694/7694 [==============================] - 68s 9ms/step - loss: 0.0198 - accuracy: 0.9960 - val_loss: 0.0168 - val_accuracy: 0.9970\n",
            "Epoch 19/100\n",
            "7694/7694 [==============================] - 68s 9ms/step - loss: 0.0190 - accuracy: 0.9960 - val_loss: 0.0235 - val_accuracy: 0.9949\n",
            "Epoch 20/100\n",
            "7694/7694 [==============================] - 67s 9ms/step - loss: 0.0188 - accuracy: 0.9962 - val_loss: 0.0259 - val_accuracy: 0.9947\n",
            "Epoch 21/100\n",
            "7694/7694 [==============================] - 68s 9ms/step - loss: 0.0186 - accuracy: 0.9963 - val_loss: 0.0175 - val_accuracy: 0.9970\n",
            "Epoch 22/100\n",
            "7694/7694 [==============================] - 66s 9ms/step - loss: 0.0185 - accuracy: 0.9962 - val_loss: 0.0187 - val_accuracy: 0.9951\n",
            "Epoch 23/100\n",
            "7694/7694 [==============================] - 68s 9ms/step - loss: 0.0178 - accuracy: 0.9963 - val_loss: 0.0174 - val_accuracy: 0.9967\n",
            "Epoch 24/100\n",
            "7694/7694 [==============================] - 68s 9ms/step - loss: 0.0182 - accuracy: 0.9963 - val_loss: 0.0193 - val_accuracy: 0.9951\n",
            "Epoch 25/100\n",
            "7694/7694 [==============================] - 68s 9ms/step - loss: 0.0179 - accuracy: 0.9965 - val_loss: 0.0208 - val_accuracy: 0.9970\n",
            "Epoch 26/100\n",
            "7694/7694 [==============================] - 68s 9ms/step - loss: 0.0185 - accuracy: 0.9962 - val_loss: 0.0164 - val_accuracy: 0.9967\n",
            "Epoch 27/100\n",
            "7694/7694 [==============================] - 68s 9ms/step - loss: 0.0174 - accuracy: 0.9964 - val_loss: 0.0199 - val_accuracy: 0.9951\n",
            "Epoch 28/100\n",
            "7694/7694 [==============================] - 69s 9ms/step - loss: 0.0179 - accuracy: 0.9963 - val_loss: 0.0165 - val_accuracy: 0.9967\n",
            "Epoch 29/100\n",
            "7694/7694 [==============================] - 68s 9ms/step - loss: 0.0177 - accuracy: 0.9966 - val_loss: 0.0243 - val_accuracy: 0.9951\n",
            "Epoch 30/100\n",
            "7694/7694 [==============================] - 68s 9ms/step - loss: 0.0171 - accuracy: 0.9966 - val_loss: 0.0279 - val_accuracy: 0.9947\n",
            "Epoch 31/100\n",
            "7694/7694 [==============================] - 68s 9ms/step - loss: 0.0178 - accuracy: 0.9964 - val_loss: 0.0178 - val_accuracy: 0.9971\n",
            "Epoch 32/100\n",
            "7694/7694 [==============================] - 69s 9ms/step - loss: 0.0173 - accuracy: 0.9966 - val_loss: 0.0188 - val_accuracy: 0.9971\n",
            "Epoch 33/100\n",
            "7694/7694 [==============================] - 68s 9ms/step - loss: 0.0183 - accuracy: 0.9963 - val_loss: 0.0310 - val_accuracy: 0.9946\n",
            "Epoch 34/100\n",
            "7694/7694 [==============================] - 65s 8ms/step - loss: 0.0176 - accuracy: 0.9965 - val_loss: 0.0193 - val_accuracy: 0.9951\n",
            "Epoch 35/100\n",
            "7694/7694 [==============================] - 68s 9ms/step - loss: 0.0181 - accuracy: 0.9964 - val_loss: 0.0159 - val_accuracy: 0.9977\n",
            "Epoch 36/100\n",
            "7694/7694 [==============================] - 66s 9ms/step - loss: 0.0174 - accuracy: 0.9966 - val_loss: 0.0162 - val_accuracy: 0.9967\n",
            "Epoch 37/100\n",
            "7694/7694 [==============================] - 68s 9ms/step - loss: 0.0172 - accuracy: 0.9967 - val_loss: 0.0200 - val_accuracy: 0.9951\n",
            "Epoch 38/100\n",
            "7694/7694 [==============================] - 66s 9ms/step - loss: 0.0170 - accuracy: 0.9967 - val_loss: 0.0156 - val_accuracy: 0.9971\n",
            "Epoch 39/100\n",
            "7694/7694 [==============================] - 65s 8ms/step - loss: 0.0167 - accuracy: 0.9967 - val_loss: 0.0158 - val_accuracy: 0.9976\n",
            "Epoch 40/100\n",
            "7694/7694 [==============================] - 68s 9ms/step - loss: 0.0165 - accuracy: 0.9968 - val_loss: 0.0168 - val_accuracy: 0.9967\n",
            "Epoch 41/100\n",
            "7694/7694 [==============================] - 68s 9ms/step - loss: 0.0165 - accuracy: 0.9968 - val_loss: 0.0310 - val_accuracy: 0.9946\n",
            "Epoch 42/100\n",
            "7694/7694 [==============================] - 70s 9ms/step - loss: 0.0169 - accuracy: 0.9968 - val_loss: 0.0154 - val_accuracy: 0.9972\n",
            "Epoch 43/100\n",
            "7694/7694 [==============================] - 67s 9ms/step - loss: 0.0161 - accuracy: 0.9970 - val_loss: 0.0171 - val_accuracy: 0.9967\n",
            "Epoch 44/100\n",
            "7694/7694 [==============================] - 69s 9ms/step - loss: 0.0167 - accuracy: 0.9969 - val_loss: 0.0337 - val_accuracy: 0.9931\n",
            "Epoch 45/100\n",
            "7694/7694 [==============================] - 69s 9ms/step - loss: 0.0173 - accuracy: 0.9966 - val_loss: 0.0304 - val_accuracy: 0.9947\n",
            "Epoch 46/100\n",
            "7694/7694 [==============================] - 71s 9ms/step - loss: 0.0168 - accuracy: 0.9969 - val_loss: 0.0154 - val_accuracy: 0.9977\n",
            "Epoch 47/100\n",
            "7694/7694 [==============================] - 67s 9ms/step - loss: 0.0166 - accuracy: 0.9968 - val_loss: 0.0156 - val_accuracy: 0.9973\n",
            "Epoch 48/100\n",
            "7694/7694 [==============================] - 67s 9ms/step - loss: 0.0159 - accuracy: 0.9970 - val_loss: 0.0156 - val_accuracy: 0.9977\n",
            "Epoch 49/100\n",
            "7694/7694 [==============================] - 70s 9ms/step - loss: 0.0163 - accuracy: 0.9969 - val_loss: 0.0191 - val_accuracy: 0.9972\n",
            "Epoch 50/100\n",
            "7694/7694 [==============================] - 71s 9ms/step - loss: 0.0163 - accuracy: 0.9968 - val_loss: 0.0272 - val_accuracy: 0.9950\n",
            "Epoch 51/100\n",
            "7694/7694 [==============================] - 71s 9ms/step - loss: 0.0166 - accuracy: 0.9968 - val_loss: 0.0161 - val_accuracy: 0.9967\n",
            "Epoch 52/100\n",
            "7694/7694 [==============================] - 73s 10ms/step - loss: 0.0157 - accuracy: 0.9970 - val_loss: 0.0169 - val_accuracy: 0.9967\n",
            "Epoch 53/100\n",
            "7694/7694 [==============================] - 75s 10ms/step - loss: 0.0158 - accuracy: 0.9971 - val_loss: 0.0156 - val_accuracy: 0.9976\n",
            "Epoch 54/100\n",
            "7694/7694 [==============================] - 74s 10ms/step - loss: 0.0155 - accuracy: 0.9971 - val_loss: 0.0155 - val_accuracy: 0.9971\n",
            "Epoch 55/100\n",
            "7694/7694 [==============================] - 80s 10ms/step - loss: 0.0159 - accuracy: 0.9969 - val_loss: 0.0226 - val_accuracy: 0.9951\n",
            "Epoch 56/100\n",
            "7694/7694 [==============================] - 74s 10ms/step - loss: 0.0166 - accuracy: 0.9969 - val_loss: 0.0159 - val_accuracy: 0.9972\n",
            "Epoch 57/100\n",
            "7694/7694 [==============================] - 74s 10ms/step - loss: 0.0158 - accuracy: 0.9970 - val_loss: 0.0154 - val_accuracy: 0.9977\n",
            "Epoch 58/100\n",
            "7694/7694 [==============================] - 73s 9ms/step - loss: 0.0159 - accuracy: 0.9970 - val_loss: 0.0154 - val_accuracy: 0.9973\n",
            "Epoch 59/100\n",
            "7694/7694 [==============================] - 74s 10ms/step - loss: 0.0158 - accuracy: 0.9969 - val_loss: 0.0159 - val_accuracy: 0.9971\n",
            "Epoch 60/100\n",
            "7694/7694 [==============================] - 78s 10ms/step - loss: 0.0158 - accuracy: 0.9970 - val_loss: 0.0152 - val_accuracy: 0.9972\n",
            "Epoch 61/100\n",
            "7694/7694 [==============================] - 74s 10ms/step - loss: 0.0154 - accuracy: 0.9971 - val_loss: 0.0151 - val_accuracy: 0.9973\n",
            "Epoch 62/100\n",
            "7694/7694 [==============================] - 74s 10ms/step - loss: 0.0154 - accuracy: 0.9971 - val_loss: 0.0258 - val_accuracy: 0.9950\n",
            "Epoch 63/100\n",
            "7694/7694 [==============================] - 75s 10ms/step - loss: 0.0157 - accuracy: 0.9970 - val_loss: 0.0230 - val_accuracy: 0.9951\n",
            "Epoch 64/100\n",
            "7694/7694 [==============================] - 72s 9ms/step - loss: 0.0157 - accuracy: 0.9970 - val_loss: 0.0153 - val_accuracy: 0.9973\n",
            "Epoch 65/100\n",
            "7694/7694 [==============================] - 75s 10ms/step - loss: 0.0157 - accuracy: 0.9971 - val_loss: 0.0181 - val_accuracy: 0.9967\n",
            "Epoch 66/100\n",
            "7694/7694 [==============================] - 74s 10ms/step - loss: 0.0156 - accuracy: 0.9972 - val_loss: 0.0155 - val_accuracy: 0.9973\n",
            "Epoch 67/100\n",
            "7694/7694 [==============================] - 74s 10ms/step - loss: 0.0153 - accuracy: 0.9971 - val_loss: 0.0148 - val_accuracy: 0.9979\n",
            "Epoch 68/100\n",
            "7694/7694 [==============================] - 73s 9ms/step - loss: 0.0164 - accuracy: 0.9969 - val_loss: 0.0148 - val_accuracy: 0.9975\n",
            "Epoch 69/100\n",
            "7694/7694 [==============================] - 75s 10ms/step - loss: 0.0153 - accuracy: 0.9970 - val_loss: 0.0155 - val_accuracy: 0.9967\n",
            "Epoch 70/100\n",
            "7694/7694 [==============================] - 73s 10ms/step - loss: 0.0155 - accuracy: 0.9972 - val_loss: 0.0362 - val_accuracy: 0.9936\n",
            "Epoch 71/100\n",
            "7694/7694 [==============================] - 75s 10ms/step - loss: 0.0156 - accuracy: 0.9971 - val_loss: 0.0241 - val_accuracy: 0.9951\n",
            "Epoch 72/100\n",
            "7694/7694 [==============================] - 73s 9ms/step - loss: 0.0153 - accuracy: 0.9972 - val_loss: 0.0151 - val_accuracy: 0.9976\n",
            "Epoch 73/100\n",
            "7694/7694 [==============================] - 79s 10ms/step - loss: 0.0153 - accuracy: 0.9972 - val_loss: 0.0156 - val_accuracy: 0.9967\n",
            "Epoch 74/100\n",
            "7694/7694 [==============================] - 73s 10ms/step - loss: 0.0150 - accuracy: 0.9972 - val_loss: 0.0154 - val_accuracy: 0.9967\n",
            "Epoch 75/100\n",
            "7694/7694 [==============================] - 79s 10ms/step - loss: 0.0153 - accuracy: 0.9972 - val_loss: 0.0146 - val_accuracy: 0.9979\n",
            "Epoch 76/100\n",
            "7694/7694 [==============================] - 74s 10ms/step - loss: 0.0152 - accuracy: 0.9972 - val_loss: 0.0151 - val_accuracy: 0.9977\n",
            "Epoch 77/100\n",
            "7694/7694 [==============================] - 80s 10ms/step - loss: 0.0151 - accuracy: 0.9972 - val_loss: 0.0148 - val_accuracy: 0.9975\n",
            "Epoch 78/100\n",
            "7694/7694 [==============================] - 73s 10ms/step - loss: 0.0152 - accuracy: 0.9972 - val_loss: 0.0155 - val_accuracy: 0.9973\n",
            "Epoch 79/100\n",
            "7694/7694 [==============================] - 79s 10ms/step - loss: 0.0157 - accuracy: 0.9970 - val_loss: 0.0154 - val_accuracy: 0.9977\n",
            "Epoch 80/100\n",
            "7694/7694 [==============================] - 74s 10ms/step - loss: 0.0152 - accuracy: 0.9971 - val_loss: 0.0148 - val_accuracy: 0.9976\n",
            "Epoch 81/100\n",
            "7694/7694 [==============================] - 73s 9ms/step - loss: 0.0153 - accuracy: 0.9972 - val_loss: 0.0151 - val_accuracy: 0.9975\n",
            "Epoch 82/100\n",
            "7694/7694 [==============================] - 74s 10ms/step - loss: 0.0148 - accuracy: 0.9972 - val_loss: 0.0151 - val_accuracy: 0.9976\n",
            "Epoch 83/100\n",
            "7694/7694 [==============================] - 74s 10ms/step - loss: 0.0150 - accuracy: 0.9973 - val_loss: 0.0161 - val_accuracy: 0.9973\n",
            "Epoch 84/100\n",
            "7694/7694 [==============================] - 74s 10ms/step - loss: 0.0151 - accuracy: 0.9972 - val_loss: 0.1362 - val_accuracy: 0.9652\n",
            "Epoch 85/100\n",
            "7694/7694 [==============================] - 73s 9ms/step - loss: 0.0154 - accuracy: 0.9972 - val_loss: 0.0148 - val_accuracy: 0.9977\n",
            "Epoch 86/100\n",
            "7694/7694 [==============================] - 74s 10ms/step - loss: 0.0155 - accuracy: 0.9972 - val_loss: 0.0293 - val_accuracy: 0.9947\n",
            "Epoch 87/100\n",
            "7694/7694 [==============================] - 75s 10ms/step - loss: 0.0150 - accuracy: 0.9972 - val_loss: 0.0167 - val_accuracy: 0.9967\n",
            "Epoch 88/100\n",
            "7694/7694 [==============================] - 69s 9ms/step - loss: 0.0150 - accuracy: 0.9973 - val_loss: 0.0178 - val_accuracy: 0.9968\n",
            "Epoch 89/100\n",
            "7694/7694 [==============================] - 69s 9ms/step - loss: 0.0149 - accuracy: 0.9973 - val_loss: 0.0160 - val_accuracy: 0.9973\n",
            "Epoch 90/100\n",
            "7694/7694 [==============================] - 69s 9ms/step - loss: 0.0151 - accuracy: 0.9972 - val_loss: 0.0188 - val_accuracy: 0.9963\n",
            "Epoch 91/100\n",
            "7694/7694 [==============================] - 72s 9ms/step - loss: 0.0148 - accuracy: 0.9973 - val_loss: 0.0179 - val_accuracy: 0.9960\n",
            "Epoch 92/100\n",
            "7694/7694 [==============================] - 70s 9ms/step - loss: 0.0144 - accuracy: 0.9974 - val_loss: 0.0152 - val_accuracy: 0.9973\n",
            "Epoch 93/100\n",
            "7694/7694 [==============================] - 71s 9ms/step - loss: 0.0148 - accuracy: 0.9973 - val_loss: 0.0152 - val_accuracy: 0.9977\n",
            "Epoch 94/100\n",
            "7694/7694 [==============================] - 69s 9ms/step - loss: 0.0152 - accuracy: 0.9972 - val_loss: 0.0319 - val_accuracy: 0.9946\n",
            "Epoch 95/100\n",
            "7694/7694 [==============================] - 71s 9ms/step - loss: 0.0145 - accuracy: 0.9974 - val_loss: 0.0157 - val_accuracy: 0.9979\n",
            "Epoch 96/100\n",
            "7694/7694 [==============================] - 70s 9ms/step - loss: 0.0150 - accuracy: 0.9974 - val_loss: 0.0150 - val_accuracy: 0.9973\n",
            "Epoch 97/100\n",
            "7694/7694 [==============================] - 71s 9ms/step - loss: 0.0152 - accuracy: 0.9973 - val_loss: 0.0154 - val_accuracy: 0.9973\n",
            "Epoch 98/100\n",
            "7694/7694 [==============================] - 71s 9ms/step - loss: 0.0146 - accuracy: 0.9973 - val_loss: 0.0146 - val_accuracy: 0.9979\n",
            "Epoch 99/100\n",
            "7694/7694 [==============================] - 72s 9ms/step - loss: 0.0149 - accuracy: 0.9973 - val_loss: 0.0158 - val_accuracy: 0.9971\n",
            "Epoch 100/100\n",
            "7694/7694 [==============================] - 69s 9ms/step - loss: 0.0146 - accuracy: 0.9973 - val_loss: 0.0152 - val_accuracy: 0.9973\n"
          ]
        }
      ]
    },
    {
      "cell_type": "code",
      "source": [
        "X_test = X_test.to_numpy()\n",
        "x_test = np.reshape(X_test, (X_test.shape[0],1,X_test.shape[1]))"
      ],
      "metadata": {
        "id": "IBSSdKs7MW2z"
      },
      "id": "IBSSdKs7MW2z",
      "execution_count": 17,
      "outputs": []
    },
    {
      "cell_type": "code",
      "source": [
        "from keras.models import model_from_json # saving and loading trained model\n",
        "\n",
        "filepath = 'lst_binary.json'\n",
        "weightspath = 'lst_binary.h5'\n",
        "if (not path.isfile(filepath)):\n",
        "  # serialize model to JSON\n",
        "  lst_json = lst.to_json()\n",
        "  with open(filepath, \"w\") as json_file:\n",
        "    json_file.write(lst_json)\n",
        "\n",
        "  # serialize weights to HDF5\n",
        "  lst.save_weights(weightspath)\n",
        "  print(\"Saved model to disk\")\n",
        "\n",
        "  # load json and create model\n",
        "  json_file = open(filepath, 'r')\n",
        "  loaded_model_json = json_file.read()\n",
        "  json_file.close()\n",
        "  lst = model_from_json(loaded_model_json)\n",
        "\n",
        "  # load weights into new model\n",
        "  lst.load_weights(weightspath)\n",
        "  print(\"Loaded model from disk\")"
      ],
      "metadata": {
        "id": "szW3g-wQNl2N",
        "outputId": "39a33d67-fb52-45ab-f7b4-76d85d13eceb",
        "colab": {
          "base_uri": "https://localhost:8080/"
        }
      },
      "id": "szW3g-wQNl2N",
      "execution_count": 18,
      "outputs": [
        {
          "output_type": "stream",
          "name": "stdout",
          "text": [
            "Saved model to disk\n",
            "Loaded model from disk\n"
          ]
        }
      ]
    },
    {
      "cell_type": "code",
      "source": [
        "# load json and create model\n",
        "json_file = open(filepath, 'r')\n",
        "loaded_model_json = json_file.read()\n",
        "json_file.close()\n",
        "lst = model_from_json(loaded_model_json)\n",
        "\n",
        "# load weights into new model\n",
        "lst.load_weights(weightspath)\n",
        "print(\"Loaded model from disk\")"
      ],
      "metadata": {
        "colab": {
          "base_uri": "https://localhost:8080/"
        },
        "id": "Y3dsGC5TOHNg",
        "outputId": "c86149c1-966c-4b84-e046-29beb4e2cf87"
      },
      "id": "Y3dsGC5TOHNg",
      "execution_count": 19,
      "outputs": [
        {
          "output_type": "stream",
          "name": "stdout",
          "text": [
            "Loaded model from disk\n"
          ]
        }
      ]
    },
    {
      "cell_type": "code",
      "source": [
        "lst.save('bin_class.h5')"
      ],
      "metadata": {
        "id": "UNWGWkRwr1C5",
        "outputId": "e82c4bfe-cbbd-4a5d-ffd6-fdae2a449818",
        "colab": {
          "base_uri": "https://localhost:8080/"
        }
      },
      "id": "UNWGWkRwr1C5",
      "execution_count": 20,
      "outputs": [
        {
          "output_type": "stream",
          "name": "stderr",
          "text": [
            "/usr/local/lib/python3.10/dist-packages/keras/src/engine/training.py:3103: UserWarning: You are saving your model as an HDF5 file via `model.save()`. This file format is considered legacy. We recommend using instead the native Keras format, e.g. `model.save('my_model.keras')`.\n",
            "  saving_api.save_model(\n",
            "WARNING:tensorflow:Compiled the loaded model, but the compiled metrics have yet to be built. `model.compile_metrics` will be empty until you train or evaluate the model.\n"
          ]
        }
      ]
    },
    {
      "cell_type": "code",
      "source": [
        "# defining loss function, optimizer, metrics and then compiling model\n",
        "lst.compile(loss='binary_crossentropy',optimizer='adam',metrics=['accuracy'])"
      ],
      "metadata": {
        "id": "Y3uKEXpfOMk9"
      },
      "id": "Y3uKEXpfOMk9",
      "execution_count": 21,
      "outputs": []
    },
    {
      "cell_type": "code",
      "source": [
        "# predicting target attribute on testing dataset\n",
        "test_results = lst.evaluate(x_test, y_test, verbose=1)\n",
        "print(f'Test results - Loss: {test_results[0]} - Accuracy: {test_results[1]*100}%')"
      ],
      "metadata": {
        "colab": {
          "base_uri": "https://localhost:8080/"
        },
        "id": "pnDvcpP3ORQG",
        "outputId": "3612ee2b-6345-4fb3-f291-5f41b7f4f0d1"
      },
      "id": "pnDvcpP3ORQG",
      "execution_count": 22,
      "outputs": [
        {
          "output_type": "stream",
          "name": "stdout",
          "text": [
            "1603/1603 [==============================] - 9s 4ms/step - loss: 0.0137 - accuracy: 0.9975\n",
            "Test results - Loss: 0.013745896518230438 - Accuracy: 99.74654912948608%\n"
          ]
        }
      ]
    },
    {
      "cell_type": "code",
      "source": [
        "# Plot of accuracy vs epoch of train and test dataset\n",
        "plt.plot(history.history['accuracy'])\n",
        "plt.plot(history.history['val_accuracy'])\n",
        "plt.title(\"Plot of accuracy vs epoch for train and test dataset\")\n",
        "plt.ylabel('accuracy')\n",
        "plt.xlabel('epoch')\n",
        "plt.legend(['train', 'test'], loc='best')\n",
        "plt.savefig('lstm_binary_accuracy.png')\n",
        "plt.show()"
      ],
      "metadata": {
        "colab": {
          "base_uri": "https://localhost:8080/",
          "height": 472
        },
        "id": "uU5y1q1nOZX0",
        "outputId": "d82e7f18-327a-4df1-f159-f9d603f0d28a"
      },
      "id": "uU5y1q1nOZX0",
      "execution_count": 23,
      "outputs": [
        {
          "output_type": "display_data",
          "data": {
            "text/plain": [
              "<Figure size 640x480 with 1 Axes>"
            ],
            "image/png": "[encoded data removed]"
          },
          "metadata": {}
        }
      ]
    },
    {
      "cell_type": "code",
      "source": [
        "# Plot of loss vs epoch of train and test dataset\n",
        "plt.plot(history.history['loss'])\n",
        "plt.plot(history.history['val_loss'])\n",
        "plt.title(\"Plot of loss vs epoch for train and test dataset\")\n",
        "plt.ylabel('loss')\n",
        "plt.xlabel('epoch')\n",
        "plt.legend(['train', 'test'], loc='best')\n",
        "plt.savefig('lstm_binary_loss.png')\n",
        "plt.show()"
      ],
      "metadata": {
        "colab": {
          "base_uri": "https://localhost:8080/",
          "height": 472
        },
        "id": "veOSk-RaOfsK",
        "outputId": "da560434-b775-4c4f-dae0-76c54fa0bc7d"
      },
      "id": "veOSk-RaOfsK",
      "execution_count": 24,
      "outputs": [
        {
          "output_type": "display_data",
          "data": {
            "text/plain": [
              "<Figure size 640x480 with 1 Axes>"
            ],
            "image/png": "[encoded data removed]"
          },
          "metadata": {}
        }
      ]
    },
    {
      "cell_type": "code",
      "source": [
        "from keras.utils import plot_model\n",
        "# representation of model layers\n",
        "plot_model(lst, to_file='lstm_binary.png', show_shapes=True,)"
      ],
      "metadata": {
        "colab": {
          "base_uri": "https://localhost:8080/",
          "height": 644
        },
        "id": "Yw3d3f9DOnVn",
        "outputId": "374c941a-7d51-4759-eaac-289055c670d7"
      },
      "id": "Yw3d3f9DOnVn",
      "execution_count": 25,
      "outputs": [
        {
          "output_type": "execute_result",
          "data": {
            "image/png": "[encoded data removed]",
            "text/plain": [
              "<IPython.core.display.Image object>"
            ]
          },
          "metadata": {},
          "execution_count": 25
        }
      ]
    },
    {
      "cell_type": "code",
      "source": [
        "y_test.shape"
      ],
      "metadata": {
        "colab": {
          "base_uri": "https://localhost:8080/"
        },
        "id": "EtmxJo5IPcT3",
        "outputId": "00d5318d-7398-42f1-c1b3-5dd2837eea0d"
      },
      "id": "EtmxJo5IPcT3",
      "execution_count": 26,
      "outputs": [
        {
          "output_type": "execute_result",
          "data": {
            "text/plain": [
              "(51292, 1)"
            ]
          },
          "metadata": {},
          "execution_count": 26
        }
      ]
    },
    {
      "cell_type": "code",
      "source": [
        "y_pred = lst.predict(x_test)"
      ],
      "metadata": {
        "colab": {
          "base_uri": "https://localhost:8080/"
        },
        "id": "an06b529Pfw2",
        "outputId": "bb9c816e-5cf5-454d-dd65-6626ebe5a12c"
      },
      "id": "an06b529Pfw2",
      "execution_count": 27,
      "outputs": [
        {
          "output_type": "stream",
          "name": "stdout",
          "text": [
            "1603/1603 [==============================] - 8s 4ms/step\n"
          ]
        }
      ]
    },
    {
      "cell_type": "code",
      "source": [
        "y_pred.shape"
      ],
      "metadata": {
        "colab": {
          "base_uri": "https://localhost:8080/"
        },
        "id": "W8PqunU3PixS",
        "outputId": "d28cdcdf-1750-4140-ae21-d5b194e4d523"
      },
      "id": "W8PqunU3PixS",
      "execution_count": 28,
      "outputs": [
        {
          "output_type": "execute_result",
          "data": {
            "text/plain": [
              "(51292, 1)"
            ]
          },
          "metadata": {},
          "execution_count": 28
        }
      ]
    },
    {
      "cell_type": "code",
      "source": [
        "from sklearn.metrics import precision_score\n",
        "from sklearn.metrics import recall_score\n",
        "from sklearn.metrics import f1_score\n",
        "\n",
        "from sklearn.metrics import roc_auc_score\n",
        "from sklearn.metrics import roc_curve, auc\n",
        "\n",
        "y_pred = lst.predict(x_test)\n",
        "fpr, tpr, thresholds = roc_curve(y_test, y_pred)\n",
        "auc = auc(fpr, tpr)"
      ],
      "metadata": {
        "colab": {
          "base_uri": "https://localhost:8080/"
        },
        "id": "iZqWDYpuPlk1",
        "outputId": "ab99b906-7024-4af8-85d4-0a3276f32536"
      },
      "id": "iZqWDYpuPlk1",
      "execution_count": 29,
      "outputs": [
        {
          "output_type": "stream",
          "name": "stdout",
          "text": [
            "1603/1603 [==============================] - 6s 4ms/step\n"
          ]
        }
      ]
    },
    {
      "cell_type": "code",
      "source": [
        "plt.plot([0, 1], [0, 1], 'k--')\n",
        "plt.plot(fpr, tpr, label='Keras (area = {:.3f})'.format(auc))\n",
        "plt.xlabel('False positive rate')\n",
        "plt.ylabel('True positive rate')\n",
        "plt.title('ROC curve')\n",
        "plt.legend(loc='best')\n",
        "plt.savefig('lstm_binary_roc.png')\n",
        "plt.show()"
      ],
      "metadata": {
        "colab": {
          "base_uri": "https://localhost:8080/",
          "height": 472
        },
        "id": "S5gNomFtfv0S",
        "outputId": "e2a8051a-9826-4d65-8bd5-6b361e00204d"
      },
      "id": "S5gNomFtfv0S",
      "execution_count": 30,
      "outputs": [
        {
          "output_type": "display_data",
          "data": {
            "text/plain": [
              "<Figure size 640x480 with 1 Axes>"
            ],
            "image/png": "[encoded data removed]"
          },
          "metadata": {}
        }
      ]
    },
    {
      "cell_type": "code",
      "source": [
        "y_classes = (lst.predict(x_test)>0.5).astype('int32')"
      ],
      "metadata": {
        "colab": {
          "base_uri": "https://localhost:8080/"
        },
        "id": "ESgfTgaGf7Ej",
        "outputId": "2672fc4a-ab97-4b5d-803a-1f2e9f89d882"
      },
      "id": "ESgfTgaGf7Ej",
      "execution_count": 31,
      "outputs": [
        {
          "output_type": "stream",
          "name": "stdout",
          "text": [
            "1603/1603 [==============================] - 10s 6ms/step\n"
          ]
        }
      ]
    },
    {
      "cell_type": "code",
      "source": [
        "print(\"Recall Score - \",recall_score(y_test,y_classes))\n",
        "print(\"F1 Score - \",f1_score(y_test,y_classes))\n",
        "print(\"Precision Score - \",precision_score(y_test,y_classes))"
      ],
      "metadata": {
        "colab": {
          "base_uri": "https://localhost:8080/"
        },
        "id": "2ob5Jeijf90n",
        "outputId": "c625153e-ce69-493c-ecc5-6035ac949326"
      },
      "id": "2ob5Jeijf90n",
      "execution_count": 32,
      "outputs": [
        {
          "output_type": "stream",
          "name": "stdout",
          "text": [
            "Recall Score -  0.9949979403283705\n",
            "F1 Score -  0.996170388263713\n",
            "Precision Score -  0.9973456025482216\n"
          ]
        }
      ]
    },
    {
      "cell_type": "code",
      "source": [
        "predicted_classes = np.argmax(y_pred, axis=1)"
      ],
      "metadata": {
        "id": "9iYzUb1-so7x"
      },
      "id": "9iYzUb1-so7x",
      "execution_count": 34,
      "outputs": []
    },
    {
      "cell_type": "code",
      "source": [
        "y_true=np.argmax(y_test,axis=1)"
      ],
      "metadata": {
        "id": "FGn0o0IptWxf"
      },
      "id": "FGn0o0IptWxf",
      "execution_count": 35,
      "outputs": []
    },
    {
      "cell_type": "code",
      "source": [
        "from sklearn.metrics import confusion_matrix\n",
        "import seaborn as sns\n",
        "# Compute confusion matrix\n",
        "conf_matrix = confusion_matrix(y_true, predicted_classes)\n",
        "\n",
        " ##Plot confusion matrix\n",
        "plt.figure(figsize=(10, 8))\n",
        "sns.heatmap(conf_matrix, annot=True, fmt='d', cmap='Blues', xticklabels=['Class {}'.format(i) for i in range(conf_matrix.shape[0])], yticklabels=['Class {}'.format(i) for i in range(conf_matrix.shape[0])])\n",
        "plt.title('Confusion Matrix')\n",
        "plt.xlabel('Predicted')\n",
        "plt.ylabel('Actual')\n",
        "plt.tight_layout()\n",
        "#plt.savefig('confusion_matrix.png')\n",
        "plt.show()"
      ],
      "metadata": {
        "id": "HWHhi3HJta4H",
        "outputId": "c7a27233-5e27-4bd1-b38d-140c31cc2e6c",
        "colab": {
          "base_uri": "https://localhost:8080/",
          "height": 807
        }
      },
      "id": "HWHhi3HJta4H",
      "execution_count": 43,
      "outputs": [
        {
          "output_type": "display_data",
          "data": {
            "text/plain": [
              "<Figure size 1000x800 with 2 Axes>"
            ],
            "image/png": "[encoded data removed]"
          },
          "metadata": {}
        }
      ]
    },
    {
      "cell_type": "code",
      "source": [
        "print(\"y_true shape:\", y_true.shape)\n",
        "print(\"y_classes shape:\", predicted_classes.shape)"
      ],
      "metadata": {
        "id": "D09kA_09vwAB",
        "outputId": "b9470891-f2a8-4b2a-bc1a-7b851ae50f81",
        "colab": {
          "base_uri": "https://localhost:8080/"
        }
      },
      "id": "D09kA_09vwAB",
      "execution_count": 42,
      "outputs": [
        {
          "output_type": "stream",
          "name": "stdout",
          "text": [
            "y_true shape: (51292,)\n",
            "y_classes shape: (51292,)\n"
          ]
        }
      ]
    }
  ],
  "metadata": {
    "kernelspec": {
      "display_name": "Python 3 (ipykernel)",
      "language": "python",
      "name": "python3"
    },
    "language_info": {
      "codemirror_mode": {
        "name": "ipython",
        "version": 3
      },
      "file_extension": ".py",
      "mimetype": "text/x-python",
      "name": "python",
      "nbconvert_exporter": "python",
      "pygments_lexer": "ipython3",
      "version": "3.10.12"
    },
    "colab": {
      "provenance": [],
      "include_colab_link": true
    }
  },
  "nbformat": 4,
  "nbformat_minor": 5
}